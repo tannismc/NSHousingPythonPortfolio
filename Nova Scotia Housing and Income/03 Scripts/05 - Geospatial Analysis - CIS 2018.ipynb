{
 "cells": [
  {
   "cell_type": "markdown",
   "id": "41eb53d7",
   "metadata": {},
   "source": [
    "# Tannis McCartney\n",
    "## June 21, 2022\n",
    "## Geospatial Analysis"
   ]
  },
  {
   "cell_type": "markdown",
   "id": "f06cfbb7",
   "metadata": {},
   "source": [
    "### Table of Contents\n",
    "01 Import Libraries\n",
    "\n",
    "02 Import Dataset\n",
    "\n",
    "03 Import JSONfile\n",
    "\n",
    "04 Wrangle data for geospatial analysis\n",
    "\n",
    "05 Link data and geographic data\n",
    "\n",
    "06 Chorpleth Map\n",
    "\n",
    "07 Discussion"
   ]
  },
  {
   "cell_type": "markdown",
   "id": "ab7a43fb",
   "metadata": {},
   "source": [
    "# 01 Import Libraries"
   ]
  },
  {
   "cell_type": "code",
   "execution_count": 1,
   "id": "b554e89e",
   "metadata": {},
   "outputs": [],
   "source": [
    "# Import libraries\n",
    "import geopandas as gpd\n",
    "import pandas as pd\n",
    "import pathlib\n",
    "import matplotlib.pyplot as plt\n",
    "import os\n",
    "import sys\n",
    "import numpy as np\n",
    "#import folium\n",
    "import json"
   ]
  },
  {
   "cell_type": "code",
   "execution_count": 2,
   "id": "177c821c",
   "metadata": {},
   "outputs": [],
   "source": [
    "# Render plots inline\n",
    "%matplotlib inline"
   ]
  },
  {
   "cell_type": "markdown",
   "id": "ab3fec26",
   "metadata": {},
   "source": [
    "# 02 Import Dataset"
   ]
  },
  {
   "cell_type": "code",
   "execution_count": 3,
   "id": "243ce0ad",
   "metadata": {},
   "outputs": [],
   "source": [
    "# Turn project folder path into a string\n",
    "path = r'C:\\Users\\tmmcc\\Google Drive\\Data Analytics Bootcamp\\6 Advanced Analytics and Dashboard Design\\Nova Scotia Housing and Income'  "
   ]
  },
  {
   "cell_type": "code",
   "execution_count": 4,
   "id": "e3f6e60e",
   "metadata": {},
   "outputs": [
    {
     "data": {
      "text/html": [
       "<div>\n",
       "<style scoped>\n",
       "    .dataframe tbody tr th:only-of-type {\n",
       "        vertical-align: middle;\n",
       "    }\n",
       "\n",
       "    .dataframe tbody tr th {\n",
       "        vertical-align: top;\n",
       "    }\n",
       "\n",
       "    .dataframe thead th {\n",
       "        text-align: right;\n",
       "    }\n",
       "</style>\n",
       "<table border=\"1\" class=\"dataframe\">\n",
       "  <thead>\n",
       "    <tr style=\"text-align: right;\">\n",
       "      <th></th>\n",
       "      <th>household_id</th>\n",
       "      <th>person_id</th>\n",
       "      <th>sample_weight</th>\n",
       "      <th>province</th>\n",
       "      <th>age_group</th>\n",
       "      <th>gender</th>\n",
       "      <th>marital_status</th>\n",
       "      <th>after_tax_income</th>\n",
       "      <th>household_size</th>\n",
       "      <th>household_composition</th>\n",
       "      <th>...</th>\n",
       "      <th>disposable_income_below_mbm_flag</th>\n",
       "      <th>ownership_of_dwelling</th>\n",
       "      <th>monthly_mortgage_payment</th>\n",
       "      <th>monthly_condo_fee</th>\n",
       "      <th>monthly_rent</th>\n",
       "      <th>rent_subsidy_flag</th>\n",
       "      <th>core_housing_need_indicator</th>\n",
       "      <th>adult_food_security_status</th>\n",
       "      <th>child_food_security_status</th>\n",
       "      <th>household_food_security_status</th>\n",
       "    </tr>\n",
       "  </thead>\n",
       "  <tbody>\n",
       "    <tr>\n",
       "      <th>0</th>\n",
       "      <td>2129</td>\n",
       "      <td>212901</td>\n",
       "      <td>208.9708</td>\n",
       "      <td>Ontario</td>\n",
       "      <td>25 to 29 years</td>\n",
       "      <td>Female</td>\n",
       "      <td>Common-law</td>\n",
       "      <td>44265.0</td>\n",
       "      <td>2</td>\n",
       "      <td>Two or more person household/One economic family</td>\n",
       "      <td>...</td>\n",
       "      <td>No</td>\n",
       "      <td>Owned by a member of the household</td>\n",
       "      <td>2000.0</td>\n",
       "      <td>NaN</td>\n",
       "      <td>NaN</td>\n",
       "      <td>Valid skip</td>\n",
       "      <td>Not in core housing need</td>\n",
       "      <td>Food secure</td>\n",
       "      <td>Valid skip</td>\n",
       "      <td>Food secure</td>\n",
       "    </tr>\n",
       "    <tr>\n",
       "      <th>1</th>\n",
       "      <td>2129</td>\n",
       "      <td>212902</td>\n",
       "      <td>208.9708</td>\n",
       "      <td>Ontario</td>\n",
       "      <td>25 to 29 years</td>\n",
       "      <td>Male</td>\n",
       "      <td>Common-law</td>\n",
       "      <td>42985.0</td>\n",
       "      <td>2</td>\n",
       "      <td>Two or more person household/One economic family</td>\n",
       "      <td>...</td>\n",
       "      <td>No</td>\n",
       "      <td>Owned by a member of the household</td>\n",
       "      <td>2000.0</td>\n",
       "      <td>NaN</td>\n",
       "      <td>NaN</td>\n",
       "      <td>Valid skip</td>\n",
       "      <td>Not in core housing need</td>\n",
       "      <td>Food secure</td>\n",
       "      <td>Valid skip</td>\n",
       "      <td>Food secure</td>\n",
       "    </tr>\n",
       "    <tr>\n",
       "      <th>2</th>\n",
       "      <td>2130</td>\n",
       "      <td>213001</td>\n",
       "      <td>1101.2217</td>\n",
       "      <td>British Columbia</td>\n",
       "      <td>45 to 49 years</td>\n",
       "      <td>Female</td>\n",
       "      <td>Common-law</td>\n",
       "      <td>82370.0</td>\n",
       "      <td>2</td>\n",
       "      <td>Two or more person household/One economic family</td>\n",
       "      <td>...</td>\n",
       "      <td>No</td>\n",
       "      <td>Not owned by a member of the household</td>\n",
       "      <td>NaN</td>\n",
       "      <td>NaN</td>\n",
       "      <td>2900.0</td>\n",
       "      <td>No</td>\n",
       "      <td>Not in core housing need</td>\n",
       "      <td>Food secure</td>\n",
       "      <td>Valid skip</td>\n",
       "      <td>Food secure</td>\n",
       "    </tr>\n",
       "    <tr>\n",
       "      <th>3</th>\n",
       "      <td>2130</td>\n",
       "      <td>213002</td>\n",
       "      <td>1101.2217</td>\n",
       "      <td>British Columbia</td>\n",
       "      <td>55 to 59 years</td>\n",
       "      <td>Female</td>\n",
       "      <td>Common-law</td>\n",
       "      <td>49105.0</td>\n",
       "      <td>2</td>\n",
       "      <td>Two or more person household/One economic family</td>\n",
       "      <td>...</td>\n",
       "      <td>No</td>\n",
       "      <td>Not owned by a member of the household</td>\n",
       "      <td>NaN</td>\n",
       "      <td>NaN</td>\n",
       "      <td>2900.0</td>\n",
       "      <td>No</td>\n",
       "      <td>Not in core housing need</td>\n",
       "      <td>Food secure</td>\n",
       "      <td>Valid skip</td>\n",
       "      <td>Food secure</td>\n",
       "    </tr>\n",
       "    <tr>\n",
       "      <th>4</th>\n",
       "      <td>2131</td>\n",
       "      <td>213101</td>\n",
       "      <td>165.3016</td>\n",
       "      <td>Saskatchewan</td>\n",
       "      <td>55 to 59 years</td>\n",
       "      <td>Female</td>\n",
       "      <td>Married</td>\n",
       "      <td>21000.0</td>\n",
       "      <td>2</td>\n",
       "      <td>Two or more person household/One economic family</td>\n",
       "      <td>...</td>\n",
       "      <td>No</td>\n",
       "      <td>Owned by a member of the household</td>\n",
       "      <td>1600.0</td>\n",
       "      <td>NaN</td>\n",
       "      <td>NaN</td>\n",
       "      <td>Valid skip</td>\n",
       "      <td>Not in core housing need</td>\n",
       "      <td>Food secure</td>\n",
       "      <td>Valid skip</td>\n",
       "      <td>Food secure</td>\n",
       "    </tr>\n",
       "  </tbody>\n",
       "</table>\n",
       "<p>5 rows × 24 columns</p>\n",
       "</div>"
      ],
      "text/plain": [
       "   household_id  person_id  sample_weight          province       age_group  \\\n",
       "0          2129     212901       208.9708           Ontario  25 to 29 years   \n",
       "1          2129     212902       208.9708           Ontario  25 to 29 years   \n",
       "2          2130     213001      1101.2217  British Columbia  45 to 49 years   \n",
       "3          2130     213002      1101.2217  British Columbia  55 to 59 years   \n",
       "4          2131     213101       165.3016      Saskatchewan  55 to 59 years   \n",
       "\n",
       "   gender marital_status  after_tax_income  household_size  \\\n",
       "0  Female     Common-law           44265.0               2   \n",
       "1    Male     Common-law           42985.0               2   \n",
       "2  Female     Common-law           82370.0               2   \n",
       "3  Female     Common-law           49105.0               2   \n",
       "4  Female        Married           21000.0               2   \n",
       "\n",
       "                              household_composition  ...  \\\n",
       "0  Two or more person household/One economic family  ...   \n",
       "1  Two or more person household/One economic family  ...   \n",
       "2  Two or more person household/One economic family  ...   \n",
       "3  Two or more person household/One economic family  ...   \n",
       "4  Two or more person household/One economic family  ...   \n",
       "\n",
       "  disposable_income_below_mbm_flag                   ownership_of_dwelling  \\\n",
       "0                               No      Owned by a member of the household   \n",
       "1                               No      Owned by a member of the household   \n",
       "2                               No  Not owned by a member of the household   \n",
       "3                               No  Not owned by a member of the household   \n",
       "4                               No      Owned by a member of the household   \n",
       "\n",
       "  monthly_mortgage_payment monthly_condo_fee monthly_rent rent_subsidy_flag  \\\n",
       "0                   2000.0               NaN          NaN        Valid skip   \n",
       "1                   2000.0               NaN          NaN        Valid skip   \n",
       "2                      NaN               NaN       2900.0                No   \n",
       "3                      NaN               NaN       2900.0                No   \n",
       "4                   1600.0               NaN          NaN        Valid skip   \n",
       "\n",
       "   core_housing_need_indicator  adult_food_security_status  \\\n",
       "0     Not in core housing need                 Food secure   \n",
       "1     Not in core housing need                 Food secure   \n",
       "2     Not in core housing need                 Food secure   \n",
       "3     Not in core housing need                 Food secure   \n",
       "4     Not in core housing need                 Food secure   \n",
       "\n",
       "   child_food_security_status household_food_security_status  \n",
       "0                  Valid skip                    Food secure  \n",
       "1                  Valid skip                    Food secure  \n",
       "2                  Valid skip                    Food secure  \n",
       "3                  Valid skip                    Food secure  \n",
       "4                  Valid skip                    Food secure  \n",
       "\n",
       "[5 rows x 24 columns]"
      ]
     },
     "execution_count": 4,
     "metadata": {},
     "output_type": "execute_result"
    }
   ],
   "source": [
    "# Load 2018 Canadian Income Survey\n",
    "CIS2018 = pd.read_pickle(os.path.join(path, '02 Data', 'Prepared Data', 'CIS2018_subset.pkl'))\n",
    "CIS2018.head()"
   ]
  },
  {
   "cell_type": "code",
   "execution_count": 5,
   "id": "de86df23",
   "metadata": {},
   "outputs": [
    {
     "data": {
      "text/plain": [
       "(94336, 24)"
      ]
     },
     "execution_count": 5,
     "metadata": {},
     "output_type": "execute_result"
    }
   ],
   "source": [
    "# Check shape of dataframe\n",
    "CIS2018.shape"
   ]
  },
  {
   "cell_type": "code",
   "execution_count": 6,
   "id": "95dfcfbb",
   "metadata": {},
   "outputs": [
    {
     "data": {
      "text/plain": [
       "Ontario                      25419\n",
       "Quebec                       17059\n",
       "British Columbia             10447\n",
       "Alberta                      10271\n",
       "Manitoba                      7681\n",
       "Saskatchewan                  7004\n",
       "Nova Scotia                   5111\n",
       "New Brunswick                 5049\n",
       "Newfoundland and Labrador     3625\n",
       "Prince Edward Island          2670\n",
       "Name: province, dtype: int64"
      ]
     },
     "execution_count": 6,
     "metadata": {},
     "output_type": "execute_result"
    }
   ],
   "source": [
    "# Check spelling etc of provinces\n",
    "CIS2018['province'].value_counts(dropna=False)"
   ]
  },
  {
   "cell_type": "markdown",
   "id": "2bdcb4b5",
   "metadata": {},
   "source": [
    "Data for the three Canadian territories was not included in the original PUMF even though 2018 was the first year it was collected."
   ]
  },
  {
   "cell_type": "markdown",
   "id": "0fff3d57",
   "metadata": {},
   "source": [
    "# 03 Import JSONfile"
   ]
  },
  {
   "cell_type": "code",
   "execution_count": 7,
   "id": "4979e5e4",
   "metadata": {},
   "outputs": [],
   "source": [
    "# Import GeoJSON file\n",
    "with open (r'C:/Users/tmmcc/Google Drive/Data Analytics Bootcamp/6 Advanced Analytics and Dashboard Design/Nova Scotia Housing and Income/02 Data/Original Data/Canada_provinces.geojson') as jsonFile:\n",
    "    prov_geo = json.load(jsonFile)"
   ]
  },
  {
   "cell_type": "code",
   "execution_count": 8,
   "id": "335192bc",
   "metadata": {},
   "outputs": [],
   "source": [
    "# Use geopandas to turn features into geometries\n",
    "prov_gdf = gpd.GeoDataFrame.from_features(prov_geo['features'])"
   ]
  },
  {
   "cell_type": "code",
   "execution_count": 9,
   "id": "8d6d4eee",
   "metadata": {},
   "outputs": [
    {
     "data": {
      "text/html": [
       "<div>\n",
       "<style scoped>\n",
       "    .dataframe tbody tr th:only-of-type {\n",
       "        vertical-align: middle;\n",
       "    }\n",
       "\n",
       "    .dataframe tbody tr th {\n",
       "        vertical-align: top;\n",
       "    }\n",
       "\n",
       "    .dataframe thead th {\n",
       "        text-align: right;\n",
       "    }\n",
       "</style>\n",
       "<table border=\"1\" class=\"dataframe\">\n",
       "  <thead>\n",
       "    <tr style=\"text-align: right;\">\n",
       "      <th></th>\n",
       "      <th>geometry</th>\n",
       "      <th>PRUID</th>\n",
       "      <th>PRNAME</th>\n",
       "      <th>PRENAME</th>\n",
       "      <th>PRFNAME</th>\n",
       "      <th>PREABBR</th>\n",
       "      <th>PRFABBR</th>\n",
       "    </tr>\n",
       "  </thead>\n",
       "  <tbody>\n",
       "    <tr>\n",
       "      <th>0</th>\n",
       "      <td>MULTIPOLYGON (((8307365.589 2582136.711, 83083...</td>\n",
       "      <td>10</td>\n",
       "      <td>Newfoundland and Labrador / Terre-Neuve-et-Lab...</td>\n",
       "      <td>Newfoundland and Labrador</td>\n",
       "      <td>Terre-Neuve-et-Labrador</td>\n",
       "      <td>N.L.</td>\n",
       "      <td>T.-N.-L.</td>\n",
       "    </tr>\n",
       "    <tr>\n",
       "      <th>1</th>\n",
       "      <td>MULTIPOLYGON (((8435711.754 1679935.966, 84358...</td>\n",
       "      <td>11</td>\n",
       "      <td>Prince Edward Island / ÃŽle-du-Prince-Ã‰douard</td>\n",
       "      <td>Prince Edward Island</td>\n",
       "      <td>ÃŽle-du-Prince-Ã‰douard</td>\n",
       "      <td>P.E.I.</td>\n",
       "      <td>ÃŽ.-P.-Ã‰.</td>\n",
       "    </tr>\n",
       "    <tr>\n",
       "      <th>2</th>\n",
       "      <td>MULTIPOLYGON (((8470851.646 1624745.011, 84710...</td>\n",
       "      <td>12</td>\n",
       "      <td>Nova Scotia / Nouvelle-Ã‰cosse</td>\n",
       "      <td>Nova Scotia</td>\n",
       "      <td>Nouvelle-Ã‰cosse</td>\n",
       "      <td>N.S.</td>\n",
       "      <td>N.-Ã‰.</td>\n",
       "    </tr>\n",
       "    <tr>\n",
       "      <th>3</th>\n",
       "      <td>MULTIPOLYGON (((8176224.537 1722553.460, 81762...</td>\n",
       "      <td>13</td>\n",
       "      <td>New Brunswick / Nouveau-Brunswick</td>\n",
       "      <td>New Brunswick</td>\n",
       "      <td>Nouveau-Brunswick</td>\n",
       "      <td>N.B.</td>\n",
       "      <td>N.-B.</td>\n",
       "    </tr>\n",
       "    <tr>\n",
       "      <th>4</th>\n",
       "      <td>MULTIPOLYGON (((8399709.494 2261445.703, 84005...</td>\n",
       "      <td>24</td>\n",
       "      <td>Quebec / QuÃ©bec</td>\n",
       "      <td>Quebec</td>\n",
       "      <td>QuÃ©bec</td>\n",
       "      <td>Que.</td>\n",
       "      <td>Qc</td>\n",
       "    </tr>\n",
       "  </tbody>\n",
       "</table>\n",
       "</div>"
      ],
      "text/plain": [
       "                                            geometry PRUID  \\\n",
       "0  MULTIPOLYGON (((8307365.589 2582136.711, 83083...    10   \n",
       "1  MULTIPOLYGON (((8435711.754 1679935.966, 84358...    11   \n",
       "2  MULTIPOLYGON (((8470851.646 1624745.011, 84710...    12   \n",
       "3  MULTIPOLYGON (((8176224.537 1722553.460, 81762...    13   \n",
       "4  MULTIPOLYGON (((8399709.494 2261445.703, 84005...    24   \n",
       "\n",
       "                                              PRNAME  \\\n",
       "0  Newfoundland and Labrador / Terre-Neuve-et-Lab...   \n",
       "1     Prince Edward Island / ÃŽle-du-Prince-Ã‰douard   \n",
       "2                     Nova Scotia / Nouvelle-Ã‰cosse   \n",
       "3                  New Brunswick / Nouveau-Brunswick   \n",
       "4                                   Quebec / QuÃ©bec   \n",
       "\n",
       "                     PRENAME                  PRFNAME PREABBR     PRFABBR  \n",
       "0  Newfoundland and Labrador  Terre-Neuve-et-Labrador    N.L.    T.-N.-L.  \n",
       "1       Prince Edward Island  ÃŽle-du-Prince-Ã‰douard  P.E.I.  ÃŽ.-P.-Ã‰.  \n",
       "2                Nova Scotia         Nouvelle-Ã‰cosse    N.S.      N.-Ã‰.  \n",
       "3              New Brunswick        Nouveau-Brunswick    N.B.       N.-B.  \n",
       "4                     Quebec                  QuÃ©bec    Que.          Qc  "
      ]
     },
     "execution_count": 9,
     "metadata": {},
     "output_type": "execute_result"
    }
   ],
   "source": [
    "# Check GeoDataFrame\n",
    "prov_gdf.head()"
   ]
  },
  {
   "cell_type": "code",
   "execution_count": 10,
   "id": "c1ec2666",
   "metadata": {},
   "outputs": [
    {
     "data": {
      "text/html": [
       "<div>\n",
       "<style scoped>\n",
       "    .dataframe tbody tr th:only-of-type {\n",
       "        vertical-align: middle;\n",
       "    }\n",
       "\n",
       "    .dataframe tbody tr th {\n",
       "        vertical-align: top;\n",
       "    }\n",
       "\n",
       "    .dataframe thead th {\n",
       "        text-align: right;\n",
       "    }\n",
       "</style>\n",
       "<table border=\"1\" class=\"dataframe\">\n",
       "  <thead>\n",
       "    <tr style=\"text-align: right;\">\n",
       "      <th></th>\n",
       "      <th>geometry</th>\n",
       "      <th>PRUID</th>\n",
       "      <th>PRENAME</th>\n",
       "      <th>PREABBR</th>\n",
       "    </tr>\n",
       "  </thead>\n",
       "  <tbody>\n",
       "    <tr>\n",
       "      <th>0</th>\n",
       "      <td>MULTIPOLYGON (((8307365.589 2582136.711, 83083...</td>\n",
       "      <td>10</td>\n",
       "      <td>Newfoundland and Labrador</td>\n",
       "      <td>N.L.</td>\n",
       "    </tr>\n",
       "    <tr>\n",
       "      <th>1</th>\n",
       "      <td>MULTIPOLYGON (((8435711.754 1679935.966, 84358...</td>\n",
       "      <td>11</td>\n",
       "      <td>Prince Edward Island</td>\n",
       "      <td>P.E.I.</td>\n",
       "    </tr>\n",
       "    <tr>\n",
       "      <th>2</th>\n",
       "      <td>MULTIPOLYGON (((8470851.646 1624745.011, 84710...</td>\n",
       "      <td>12</td>\n",
       "      <td>Nova Scotia</td>\n",
       "      <td>N.S.</td>\n",
       "    </tr>\n",
       "    <tr>\n",
       "      <th>3</th>\n",
       "      <td>MULTIPOLYGON (((8176224.537 1722553.460, 81762...</td>\n",
       "      <td>13</td>\n",
       "      <td>New Brunswick</td>\n",
       "      <td>N.B.</td>\n",
       "    </tr>\n",
       "    <tr>\n",
       "      <th>4</th>\n",
       "      <td>MULTIPOLYGON (((8399709.494 2261445.703, 84005...</td>\n",
       "      <td>24</td>\n",
       "      <td>Quebec</td>\n",
       "      <td>Que.</td>\n",
       "    </tr>\n",
       "  </tbody>\n",
       "</table>\n",
       "</div>"
      ],
      "text/plain": [
       "                                            geometry PRUID  \\\n",
       "0  MULTIPOLYGON (((8307365.589 2582136.711, 83083...    10   \n",
       "1  MULTIPOLYGON (((8435711.754 1679935.966, 84358...    11   \n",
       "2  MULTIPOLYGON (((8470851.646 1624745.011, 84710...    12   \n",
       "3  MULTIPOLYGON (((8176224.537 1722553.460, 81762...    13   \n",
       "4  MULTIPOLYGON (((8399709.494 2261445.703, 84005...    24   \n",
       "\n",
       "                     PRENAME PREABBR  \n",
       "0  Newfoundland and Labrador    N.L.  \n",
       "1       Prince Edward Island  P.E.I.  \n",
       "2                Nova Scotia    N.S.  \n",
       "3              New Brunswick    N.B.  \n",
       "4                     Quebec    Que.  "
      ]
     },
     "execution_count": 10,
     "metadata": {},
     "output_type": "execute_result"
    }
   ],
   "source": [
    "# Remove extra columns\n",
    "prov_gdf = prov_gdf.drop(columns=['PRNAME', 'PRFNAME', 'PRFABBR'])\n",
    "prov_gdf.head()"
   ]
  },
  {
   "cell_type": "code",
   "execution_count": 11,
   "id": "a8f3a7ee",
   "metadata": {},
   "outputs": [
    {
     "data": {
      "text/plain": [
       "<AxesSubplot:>"
      ]
     },
     "execution_count": 11,
     "metadata": {},
     "output_type": "execute_result"
    },
    {
     "data": {
      "image/png": "[encoded data removed]",
      "text/plain": [
       "<Figure size 432x288 with 1 Axes>"
      ]
     },
     "metadata": {
      "needs_background": "light"
     },
     "output_type": "display_data"
    }
   ],
   "source": [
    "# Check map data\n",
    "prov_gdf.plot()"
   ]
  },
  {
   "cell_type": "markdown",
   "id": "abb92b8b",
   "metadata": {},
   "source": [
    "GeoPandas was used instead of folium to be able to produce maps using a Lambert Conformal Conic projection, which doesn't distort northern Canada as much. The GeoJSON file was exported from QGIS in a Statistics Canada Lambert Conformal Projection."
   ]
  },
  {
   "cell_type": "markdown",
   "id": "71ba5135",
   "metadata": {},
   "source": [
    "# 04 Wrangle data for geospatial analysis"
   ]
  },
  {
   "cell_type": "code",
   "execution_count": 12,
   "id": "3d0725ab",
   "metadata": {},
   "outputs": [],
   "source": [
    "# Create subset for geospatial analysis\n",
    "df = CIS2018[['province', 'sample_weight', 'household_maj_income_flag', 'after_tax_low_income_flag']]"
   ]
  },
  {
   "cell_type": "code",
   "execution_count": 13,
   "id": "13ef3888",
   "metadata": {},
   "outputs": [
    {
     "data": {
      "text/html": [
       "<div>\n",
       "<style scoped>\n",
       "    .dataframe tbody tr th:only-of-type {\n",
       "        vertical-align: middle;\n",
       "    }\n",
       "\n",
       "    .dataframe tbody tr th {\n",
       "        vertical-align: top;\n",
       "    }\n",
       "\n",
       "    .dataframe thead th {\n",
       "        text-align: right;\n",
       "    }\n",
       "</style>\n",
       "<table border=\"1\" class=\"dataframe\">\n",
       "  <thead>\n",
       "    <tr style=\"text-align: right;\">\n",
       "      <th></th>\n",
       "      <th>PRENAME</th>\n",
       "      <th>sample_weight</th>\n",
       "      <th>household_maj_income_flag</th>\n",
       "      <th>after_tax_low_income_flag</th>\n",
       "    </tr>\n",
       "  </thead>\n",
       "  <tbody>\n",
       "    <tr>\n",
       "      <th>0</th>\n",
       "      <td>Ontario</td>\n",
       "      <td>208.9708</td>\n",
       "      <td>Yes</td>\n",
       "      <td>No</td>\n",
       "    </tr>\n",
       "    <tr>\n",
       "      <th>1</th>\n",
       "      <td>Ontario</td>\n",
       "      <td>208.9708</td>\n",
       "      <td>No</td>\n",
       "      <td>No</td>\n",
       "    </tr>\n",
       "    <tr>\n",
       "      <th>2</th>\n",
       "      <td>British Columbia</td>\n",
       "      <td>1101.2217</td>\n",
       "      <td>Yes</td>\n",
       "      <td>No</td>\n",
       "    </tr>\n",
       "    <tr>\n",
       "      <th>3</th>\n",
       "      <td>British Columbia</td>\n",
       "      <td>1101.2217</td>\n",
       "      <td>No</td>\n",
       "      <td>No</td>\n",
       "    </tr>\n",
       "    <tr>\n",
       "      <th>4</th>\n",
       "      <td>Saskatchewan</td>\n",
       "      <td>165.3016</td>\n",
       "      <td>No</td>\n",
       "      <td>No</td>\n",
       "    </tr>\n",
       "  </tbody>\n",
       "</table>\n",
       "</div>"
      ],
      "text/plain": [
       "            PRENAME  sample_weight household_maj_income_flag  \\\n",
       "0           Ontario       208.9708                       Yes   \n",
       "1           Ontario       208.9708                        No   \n",
       "2  British Columbia      1101.2217                       Yes   \n",
       "3  British Columbia      1101.2217                        No   \n",
       "4      Saskatchewan       165.3016                        No   \n",
       "\n",
       "  after_tax_low_income_flag  \n",
       "0                        No  \n",
       "1                        No  \n",
       "2                        No  \n",
       "3                        No  \n",
       "4                        No  "
      ]
     },
     "execution_count": 13,
     "metadata": {},
     "output_type": "execute_result"
    }
   ],
   "source": [
    "# Rename province to match GeoJSON file\n",
    "df = df.rename(columns={'province':'PRENAME'})\n",
    "df.head()"
   ]
  },
  {
   "cell_type": "code",
   "execution_count": 14,
   "id": "c9dcb50b",
   "metadata": {},
   "outputs": [
    {
     "data": {
      "text/plain": [
       "(40857, 4)"
      ]
     },
     "execution_count": 14,
     "metadata": {},
     "output_type": "execute_result"
    }
   ],
   "source": [
    "# Create a subset to look at households only\n",
    "df_households = df.loc[df['household_maj_income_flag']=='Yes']\n",
    "df_households.shape"
   ]
  },
  {
   "cell_type": "code",
   "execution_count": 15,
   "id": "d8c8aa88",
   "metadata": {},
   "outputs": [
    {
     "name": "stdout",
     "output_type": "stream",
     "text": [
      "<class 'pandas.core.frame.DataFrame'>\n",
      "RangeIndex: 94336 entries, 0 to 94335\n",
      "Data columns (total 4 columns):\n",
      " #   Column                     Non-Null Count  Dtype  \n",
      "---  ------                     --------------  -----  \n",
      " 0   PRENAME                    94336 non-null  object \n",
      " 1   sample_weight              94336 non-null  float64\n",
      " 2   household_maj_income_flag  94336 non-null  object \n",
      " 3   after_tax_low_income_flag  94336 non-null  object \n",
      "dtypes: float64(1), object(3)\n",
      "memory usage: 2.9+ MB\n"
     ]
    }
   ],
   "source": [
    "# Check dataframe\n",
    "df.info()"
   ]
  },
  {
   "cell_type": "code",
   "execution_count": 16,
   "id": "7ae23a6b",
   "metadata": {},
   "outputs": [
    {
     "data": {
      "text/plain": [
       "PRENAME\n",
       "Alberta                      1612780.0\n",
       "British Columbia             1964453.0\n",
       "Manitoba                      498901.0\n",
       "New Brunswick                 323211.0\n",
       "Newfoundland and Labrador     218825.0\n",
       "Nova Scotia                   410841.0\n",
       "Ontario                      5552006.0\n",
       "Prince Edward Island           62292.0\n",
       "Quebec                       3664716.0\n",
       "Saskatchewan                  442319.0\n",
       "Name: sample_weight, dtype: float64"
      ]
     },
     "execution_count": 16,
     "metadata": {},
     "output_type": "execute_result"
    }
   ],
   "source": [
    "# Apply the sample weight to get the total number of households in Canada\n",
    "s1 = df_households.groupby('PRENAME')['sample_weight'].sum()\n",
    "round(s1)"
   ]
  },
  {
   "cell_type": "code",
   "execution_count": 17,
   "id": "490fc879",
   "metadata": {},
   "outputs": [
    {
     "data": {
      "text/html": [
       "<div>\n",
       "<style scoped>\n",
       "    .dataframe tbody tr th:only-of-type {\n",
       "        vertical-align: middle;\n",
       "    }\n",
       "\n",
       "    .dataframe tbody tr th {\n",
       "        vertical-align: top;\n",
       "    }\n",
       "\n",
       "    .dataframe thead th {\n",
       "        text-align: right;\n",
       "    }\n",
       "</style>\n",
       "<table border=\"1\" class=\"dataframe\">\n",
       "  <thead>\n",
       "    <tr style=\"text-align: right;\">\n",
       "      <th></th>\n",
       "      <th>PRENAME</th>\n",
       "      <th>household_count</th>\n",
       "    </tr>\n",
       "  </thead>\n",
       "  <tbody>\n",
       "    <tr>\n",
       "      <th>0</th>\n",
       "      <td>Alberta</td>\n",
       "      <td>1612780.0</td>\n",
       "    </tr>\n",
       "    <tr>\n",
       "      <th>1</th>\n",
       "      <td>British Columbia</td>\n",
       "      <td>1964453.0</td>\n",
       "    </tr>\n",
       "    <tr>\n",
       "      <th>2</th>\n",
       "      <td>Manitoba</td>\n",
       "      <td>498901.0</td>\n",
       "    </tr>\n",
       "    <tr>\n",
       "      <th>3</th>\n",
       "      <td>New Brunswick</td>\n",
       "      <td>323211.0</td>\n",
       "    </tr>\n",
       "    <tr>\n",
       "      <th>4</th>\n",
       "      <td>Newfoundland and Labrador</td>\n",
       "      <td>218825.0</td>\n",
       "    </tr>\n",
       "  </tbody>\n",
       "</table>\n",
       "</div>"
      ],
      "text/plain": [
       "                     PRENAME  household_count\n",
       "0                    Alberta        1612780.0\n",
       "1           British Columbia        1964453.0\n",
       "2                   Manitoba         498901.0\n",
       "3              New Brunswick         323211.0\n",
       "4  Newfoundland and Labrador         218825.0"
      ]
     },
     "execution_count": 17,
     "metadata": {},
     "output_type": "execute_result"
    }
   ],
   "source": [
    "# Convert total number of households series to dataframe\n",
    "df1 = pd.DataFrame({'PRENAME':s1.index, 'household_count':s1.values})\n",
    "round(df1.head())"
   ]
  },
  {
   "cell_type": "code",
   "execution_count": 18,
   "id": "7be273d2",
   "metadata": {},
   "outputs": [
    {
     "data": {
      "text/plain": [
       "(2739, 4)"
      ]
     },
     "execution_count": 18,
     "metadata": {},
     "output_type": "execute_result"
    }
   ],
   "source": [
    "# Create a subset to look at low-incomehouseholds only\n",
    "df_li_households = df_households.loc[df_households['after_tax_low_income_flag']=='Yes']\n",
    "df_li_households.shape"
   ]
  },
  {
   "cell_type": "code",
   "execution_count": 19,
   "id": "3fc2be81",
   "metadata": {},
   "outputs": [
    {
     "data": {
      "text/plain": [
       "PRENAME\n",
       "Alberta                      101197.0\n",
       "British Columbia             160426.0\n",
       "Manitoba                      48224.0\n",
       "New Brunswick                 19265.0\n",
       "Newfoundland and Labrador     14255.0\n",
       "Nova Scotia                   33302.0\n",
       "Ontario                      552584.0\n",
       "Prince Edward Island           3152.0\n",
       "Quebec                       409183.0\n",
       "Saskatchewan                  33320.0\n",
       "Name: sample_weight, dtype: float64"
      ]
     },
     "execution_count": 19,
     "metadata": {},
     "output_type": "execute_result"
    }
   ],
   "source": [
    "# Apply the sample weight to get the total number of low-income households in Canada\n",
    "s2 = df_li_households.groupby('PRENAME')['sample_weight'].sum()\n",
    "round(s2)"
   ]
  },
  {
   "cell_type": "code",
   "execution_count": 20,
   "id": "ff561712",
   "metadata": {},
   "outputs": [
    {
     "data": {
      "text/html": [
       "<div>\n",
       "<style scoped>\n",
       "    .dataframe tbody tr th:only-of-type {\n",
       "        vertical-align: middle;\n",
       "    }\n",
       "\n",
       "    .dataframe tbody tr th {\n",
       "        vertical-align: top;\n",
       "    }\n",
       "\n",
       "    .dataframe thead th {\n",
       "        text-align: right;\n",
       "    }\n",
       "</style>\n",
       "<table border=\"1\" class=\"dataframe\">\n",
       "  <thead>\n",
       "    <tr style=\"text-align: right;\">\n",
       "      <th></th>\n",
       "      <th>PRENAME</th>\n",
       "      <th>li_household_count</th>\n",
       "    </tr>\n",
       "  </thead>\n",
       "  <tbody>\n",
       "    <tr>\n",
       "      <th>0</th>\n",
       "      <td>Alberta</td>\n",
       "      <td>101197.0</td>\n",
       "    </tr>\n",
       "    <tr>\n",
       "      <th>1</th>\n",
       "      <td>British Columbia</td>\n",
       "      <td>160426.0</td>\n",
       "    </tr>\n",
       "    <tr>\n",
       "      <th>2</th>\n",
       "      <td>Manitoba</td>\n",
       "      <td>48224.0</td>\n",
       "    </tr>\n",
       "    <tr>\n",
       "      <th>3</th>\n",
       "      <td>New Brunswick</td>\n",
       "      <td>19265.0</td>\n",
       "    </tr>\n",
       "    <tr>\n",
       "      <th>4</th>\n",
       "      <td>Newfoundland and Labrador</td>\n",
       "      <td>14255.0</td>\n",
       "    </tr>\n",
       "  </tbody>\n",
       "</table>\n",
       "</div>"
      ],
      "text/plain": [
       "                     PRENAME  li_household_count\n",
       "0                    Alberta            101197.0\n",
       "1           British Columbia            160426.0\n",
       "2                   Manitoba             48224.0\n",
       "3              New Brunswick             19265.0\n",
       "4  Newfoundland and Labrador             14255.0"
      ]
     },
     "execution_count": 20,
     "metadata": {},
     "output_type": "execute_result"
    }
   ],
   "source": [
    "# Convert total number of low-income households series to dataframe\n",
    "df2 = pd.DataFrame({'PRENAME':s2.index, 'li_household_count':s2.values})\n",
    "round(df2.head())"
   ]
  },
  {
   "cell_type": "markdown",
   "id": "54f57c5d",
   "metadata": {},
   "source": [
    "# 05 Link data and geographic data"
   ]
  },
  {
   "cell_type": "code",
   "execution_count": 21,
   "id": "b5de00da",
   "metadata": {},
   "outputs": [],
   "source": [
    "# Merge geodataframe and households dataframe on prename\n",
    "prov_geo_temp = prov_gdf.merge(df1, on = 'PRENAME', how='left')\n",
    "gdf = gpd.GeoDataFrame(prov_geo_temp)"
   ]
  },
  {
   "cell_type": "code",
   "execution_count": 22,
   "id": "dab36b40",
   "metadata": {},
   "outputs": [],
   "source": [
    "# Merge geodataframe and low-income households dataframe on prename\n",
    "prov_geo_house = prov_geo_temp.merge(df2, on = 'PRENAME', how='left')\n",
    "gdf = gpd.GeoDataFrame(prov_geo_house)"
   ]
  },
  {
   "cell_type": "code",
   "execution_count": 23,
   "id": "6ff8f000",
   "metadata": {},
   "outputs": [],
   "source": [
    "# Add calculated field to get proportion of low-income households\n",
    "prov_geo_house['li_prop'] = (prov_geo_house['li_household_count'] / prov_geo_house['household_count']) * 100"
   ]
  },
  {
   "cell_type": "code",
   "execution_count": 24,
   "id": "ba205443",
   "metadata": {},
   "outputs": [
    {
     "data": {
      "text/html": [
       "<div>\n",
       "<style scoped>\n",
       "    .dataframe tbody tr th:only-of-type {\n",
       "        vertical-align: middle;\n",
       "    }\n",
       "\n",
       "    .dataframe tbody tr th {\n",
       "        vertical-align: top;\n",
       "    }\n",
       "\n",
       "    .dataframe thead th {\n",
       "        text-align: right;\n",
       "    }\n",
       "</style>\n",
       "<table border=\"1\" class=\"dataframe\">\n",
       "  <thead>\n",
       "    <tr style=\"text-align: right;\">\n",
       "      <th></th>\n",
       "      <th>geometry</th>\n",
       "      <th>PRUID</th>\n",
       "      <th>PRENAME</th>\n",
       "      <th>PREABBR</th>\n",
       "      <th>household_count</th>\n",
       "      <th>li_household_count</th>\n",
       "      <th>li_prop</th>\n",
       "    </tr>\n",
       "  </thead>\n",
       "  <tbody>\n",
       "    <tr>\n",
       "      <th>0</th>\n",
       "      <td>MULTIPOLYGON (((8307365.589 2582136.711, 83083...</td>\n",
       "      <td>10</td>\n",
       "      <td>Newfoundland and Labrador</td>\n",
       "      <td>N.L.</td>\n",
       "      <td>218825.0</td>\n",
       "      <td>14255.0</td>\n",
       "      <td>7.0</td>\n",
       "    </tr>\n",
       "    <tr>\n",
       "      <th>1</th>\n",
       "      <td>MULTIPOLYGON (((8435711.754 1679935.966, 84358...</td>\n",
       "      <td>11</td>\n",
       "      <td>Prince Edward Island</td>\n",
       "      <td>P.E.I.</td>\n",
       "      <td>62292.0</td>\n",
       "      <td>3152.0</td>\n",
       "      <td>5.0</td>\n",
       "    </tr>\n",
       "    <tr>\n",
       "      <th>2</th>\n",
       "      <td>MULTIPOLYGON (((8470851.646 1624745.011, 84710...</td>\n",
       "      <td>12</td>\n",
       "      <td>Nova Scotia</td>\n",
       "      <td>N.S.</td>\n",
       "      <td>410841.0</td>\n",
       "      <td>33302.0</td>\n",
       "      <td>8.0</td>\n",
       "    </tr>\n",
       "    <tr>\n",
       "      <th>3</th>\n",
       "      <td>MULTIPOLYGON (((8176224.537 1722553.460, 81762...</td>\n",
       "      <td>13</td>\n",
       "      <td>New Brunswick</td>\n",
       "      <td>N.B.</td>\n",
       "      <td>323211.0</td>\n",
       "      <td>19265.0</td>\n",
       "      <td>6.0</td>\n",
       "    </tr>\n",
       "    <tr>\n",
       "      <th>4</th>\n",
       "      <td>MULTIPOLYGON (((8399709.494 2261445.703, 84005...</td>\n",
       "      <td>24</td>\n",
       "      <td>Quebec</td>\n",
       "      <td>Que.</td>\n",
       "      <td>3664716.0</td>\n",
       "      <td>409183.0</td>\n",
       "      <td>11.0</td>\n",
       "    </tr>\n",
       "  </tbody>\n",
       "</table>\n",
       "</div>"
      ],
      "text/plain": [
       "                                            geometry PRUID  \\\n",
       "0  MULTIPOLYGON (((8307365.589 2582136.711, 83083...    10   \n",
       "1  MULTIPOLYGON (((8435711.754 1679935.966, 84358...    11   \n",
       "2  MULTIPOLYGON (((8470851.646 1624745.011, 84710...    12   \n",
       "3  MULTIPOLYGON (((8176224.537 1722553.460, 81762...    13   \n",
       "4  MULTIPOLYGON (((8399709.494 2261445.703, 84005...    24   \n",
       "\n",
       "                     PRENAME PREABBR  household_count  li_household_count  \\\n",
       "0  Newfoundland and Labrador    N.L.         218825.0             14255.0   \n",
       "1       Prince Edward Island  P.E.I.          62292.0              3152.0   \n",
       "2                Nova Scotia    N.S.         410841.0             33302.0   \n",
       "3              New Brunswick    N.B.         323211.0             19265.0   \n",
       "4                     Quebec    Que.        3664716.0            409183.0   \n",
       "\n",
       "   li_prop  \n",
       "0      7.0  \n",
       "1      5.0  \n",
       "2      8.0  \n",
       "3      6.0  \n",
       "4     11.0  "
      ]
     },
     "execution_count": 24,
     "metadata": {},
     "output_type": "execute_result"
    }
   ],
   "source": [
    "# Check data\n",
    "round(prov_geo_house.head())"
   ]
  },
  {
   "cell_type": "code",
   "execution_count": 25,
   "id": "ec12e2f3",
   "metadata": {},
   "outputs": [
    {
     "data": {
      "text/html": [
       "<div>\n",
       "<style scoped>\n",
       "    .dataframe tbody tr th:only-of-type {\n",
       "        vertical-align: middle;\n",
       "    }\n",
       "\n",
       "    .dataframe tbody tr th {\n",
       "        vertical-align: top;\n",
       "    }\n",
       "\n",
       "    .dataframe thead th {\n",
       "        text-align: right;\n",
       "    }\n",
       "</style>\n",
       "<table border=\"1\" class=\"dataframe\">\n",
       "  <thead>\n",
       "    <tr style=\"text-align: right;\">\n",
       "      <th></th>\n",
       "      <th>geometry</th>\n",
       "      <th>PRUID</th>\n",
       "      <th>PRENAME</th>\n",
       "      <th>PREABBR</th>\n",
       "      <th>household_count</th>\n",
       "      <th>li_household_count</th>\n",
       "      <th>li_prop</th>\n",
       "    </tr>\n",
       "  </thead>\n",
       "  <tbody>\n",
       "    <tr>\n",
       "      <th>0</th>\n",
       "      <td>MULTIPOLYGON (((8307365.589 2582136.711, 83083...</td>\n",
       "      <td>10</td>\n",
       "      <td>Newfoundland and Labrador</td>\n",
       "      <td>N.L.</td>\n",
       "      <td>2.188250e+05</td>\n",
       "      <td>14254.7545</td>\n",
       "      <td>6.514226</td>\n",
       "    </tr>\n",
       "    <tr>\n",
       "      <th>1</th>\n",
       "      <td>MULTIPOLYGON (((8435711.754 1679935.966, 84358...</td>\n",
       "      <td>11</td>\n",
       "      <td>Prince Edward Island</td>\n",
       "      <td>P.E.I.</td>\n",
       "      <td>6.229200e+04</td>\n",
       "      <td>3152.1948</td>\n",
       "      <td>5.060353</td>\n",
       "    </tr>\n",
       "    <tr>\n",
       "      <th>2</th>\n",
       "      <td>MULTIPOLYGON (((8470851.646 1624745.011, 84710...</td>\n",
       "      <td>12</td>\n",
       "      <td>Nova Scotia</td>\n",
       "      <td>N.S.</td>\n",
       "      <td>4.108410e+05</td>\n",
       "      <td>33302.1614</td>\n",
       "      <td>8.105851</td>\n",
       "    </tr>\n",
       "    <tr>\n",
       "      <th>3</th>\n",
       "      <td>MULTIPOLYGON (((8176224.537 1722553.460, 81762...</td>\n",
       "      <td>13</td>\n",
       "      <td>New Brunswick</td>\n",
       "      <td>N.B.</td>\n",
       "      <td>3.232110e+05</td>\n",
       "      <td>19264.6376</td>\n",
       "      <td>5.960390</td>\n",
       "    </tr>\n",
       "    <tr>\n",
       "      <th>4</th>\n",
       "      <td>MULTIPOLYGON (((8399709.494 2261445.703, 84005...</td>\n",
       "      <td>24</td>\n",
       "      <td>Quebec</td>\n",
       "      <td>Que.</td>\n",
       "      <td>3.664716e+06</td>\n",
       "      <td>409183.0778</td>\n",
       "      <td>11.165479</td>\n",
       "    </tr>\n",
       "    <tr>\n",
       "      <th>5</th>\n",
       "      <td>MULTIPOLYGON (((6378815.614 2295412.440, 63787...</td>\n",
       "      <td>35</td>\n",
       "      <td>Ontario</td>\n",
       "      <td>Ont.</td>\n",
       "      <td>5.552006e+06</td>\n",
       "      <td>552583.7773</td>\n",
       "      <td>9.952867</td>\n",
       "    </tr>\n",
       "    <tr>\n",
       "      <th>6</th>\n",
       "      <td>MULTIPOLYGON (((6039656.509 2636304.343, 60396...</td>\n",
       "      <td>46</td>\n",
       "      <td>Manitoba</td>\n",
       "      <td>Man.</td>\n",
       "      <td>4.989010e+05</td>\n",
       "      <td>48223.9666</td>\n",
       "      <td>9.666039</td>\n",
       "    </tr>\n",
       "    <tr>\n",
       "      <th>7</th>\n",
       "      <td>MULTIPOLYGON (((5248633.914 2767057.263, 52492...</td>\n",
       "      <td>47</td>\n",
       "      <td>Saskatchewan</td>\n",
       "      <td>Sask.</td>\n",
       "      <td>4.423190e+05</td>\n",
       "      <td>33319.6658</td>\n",
       "      <td>7.532949</td>\n",
       "    </tr>\n",
       "    <tr>\n",
       "      <th>8</th>\n",
       "      <td>MULTIPOLYGON (((5228304.177 2767597.891, 52280...</td>\n",
       "      <td>48</td>\n",
       "      <td>Alberta</td>\n",
       "      <td>Alta.</td>\n",
       "      <td>1.612780e+06</td>\n",
       "      <td>101196.5526</td>\n",
       "      <td>6.274666</td>\n",
       "    </tr>\n",
       "    <tr>\n",
       "      <th>9</th>\n",
       "      <td>MULTIPOLYGON (((4018904.414 3410247.271, 40194...</td>\n",
       "      <td>59</td>\n",
       "      <td>British Columbia</td>\n",
       "      <td>B.C.</td>\n",
       "      <td>1.964453e+06</td>\n",
       "      <td>160425.9215</td>\n",
       "      <td>8.166442</td>\n",
       "    </tr>\n",
       "    <tr>\n",
       "      <th>10</th>\n",
       "      <td>MULTIPOLYGON (((4593284.320 4180399.606, 45933...</td>\n",
       "      <td>60</td>\n",
       "      <td>Yukon</td>\n",
       "      <td>Y.T.</td>\n",
       "      <td>NaN</td>\n",
       "      <td>NaN</td>\n",
       "      <td>NaN</td>\n",
       "    </tr>\n",
       "    <tr>\n",
       "      <th>11</th>\n",
       "      <td>MULTIPOLYGON (((4709778.780 4202808.109, 47096...</td>\n",
       "      <td>61</td>\n",
       "      <td>Northwest Territories</td>\n",
       "      <td>N.W.T.</td>\n",
       "      <td>NaN</td>\n",
       "      <td>NaN</td>\n",
       "      <td>NaN</td>\n",
       "    </tr>\n",
       "    <tr>\n",
       "      <th>12</th>\n",
       "      <td>MULTIPOLYGON (((6105932.626 3935743.411, 61062...</td>\n",
       "      <td>62</td>\n",
       "      <td>Nunavut</td>\n",
       "      <td>Nvt.</td>\n",
       "      <td>NaN</td>\n",
       "      <td>NaN</td>\n",
       "      <td>NaN</td>\n",
       "    </tr>\n",
       "  </tbody>\n",
       "</table>\n",
       "</div>"
      ],
      "text/plain": [
       "                                             geometry PRUID  \\\n",
       "0   MULTIPOLYGON (((8307365.589 2582136.711, 83083...    10   \n",
       "1   MULTIPOLYGON (((8435711.754 1679935.966, 84358...    11   \n",
       "2   MULTIPOLYGON (((8470851.646 1624745.011, 84710...    12   \n",
       "3   MULTIPOLYGON (((8176224.537 1722553.460, 81762...    13   \n",
       "4   MULTIPOLYGON (((8399709.494 2261445.703, 84005...    24   \n",
       "5   MULTIPOLYGON (((6378815.614 2295412.440, 63787...    35   \n",
       "6   MULTIPOLYGON (((6039656.509 2636304.343, 60396...    46   \n",
       "7   MULTIPOLYGON (((5248633.914 2767057.263, 52492...    47   \n",
       "8   MULTIPOLYGON (((5228304.177 2767597.891, 52280...    48   \n",
       "9   MULTIPOLYGON (((4018904.414 3410247.271, 40194...    59   \n",
       "10  MULTIPOLYGON (((4593284.320 4180399.606, 45933...    60   \n",
       "11  MULTIPOLYGON (((4709778.780 4202808.109, 47096...    61   \n",
       "12  MULTIPOLYGON (((6105932.626 3935743.411, 61062...    62   \n",
       "\n",
       "                      PRENAME PREABBR  household_count  li_household_count  \\\n",
       "0   Newfoundland and Labrador    N.L.     2.188250e+05          14254.7545   \n",
       "1        Prince Edward Island  P.E.I.     6.229200e+04           3152.1948   \n",
       "2                 Nova Scotia    N.S.     4.108410e+05          33302.1614   \n",
       "3               New Brunswick    N.B.     3.232110e+05          19264.6376   \n",
       "4                      Quebec    Que.     3.664716e+06         409183.0778   \n",
       "5                     Ontario    Ont.     5.552006e+06         552583.7773   \n",
       "6                    Manitoba    Man.     4.989010e+05          48223.9666   \n",
       "7                Saskatchewan   Sask.     4.423190e+05          33319.6658   \n",
       "8                     Alberta   Alta.     1.612780e+06         101196.5526   \n",
       "9            British Columbia    B.C.     1.964453e+06         160425.9215   \n",
       "10                      Yukon    Y.T.              NaN                 NaN   \n",
       "11      Northwest Territories  N.W.T.              NaN                 NaN   \n",
       "12                    Nunavut    Nvt.              NaN                 NaN   \n",
       "\n",
       "      li_prop  \n",
       "0    6.514226  \n",
       "1    5.060353  \n",
       "2    8.105851  \n",
       "3    5.960390  \n",
       "4   11.165479  \n",
       "5    9.952867  \n",
       "6    9.666039  \n",
       "7    7.532949  \n",
       "8    6.274666  \n",
       "9    8.166442  \n",
       "10        NaN  \n",
       "11        NaN  \n",
       "12        NaN  "
      ]
     },
     "execution_count": 25,
     "metadata": {},
     "output_type": "execute_result"
    }
   ],
   "source": [
    "# View dataframe\n",
    "prov_geo_house"
   ]
  },
  {
   "cell_type": "code",
   "execution_count": 26,
   "id": "3948c3ed",
   "metadata": {},
   "outputs": [
    {
     "data": {
      "text/html": [
       "<div>\n",
       "<style scoped>\n",
       "    .dataframe tbody tr th:only-of-type {\n",
       "        vertical-align: middle;\n",
       "    }\n",
       "\n",
       "    .dataframe tbody tr th {\n",
       "        vertical-align: top;\n",
       "    }\n",
       "\n",
       "    .dataframe thead th {\n",
       "        text-align: right;\n",
       "    }\n",
       "</style>\n",
       "<table border=\"1\" class=\"dataframe\">\n",
       "  <thead>\n",
       "    <tr style=\"text-align: right;\">\n",
       "      <th></th>\n",
       "      <th>geometry</th>\n",
       "      <th>PRUID</th>\n",
       "      <th>PRENAME</th>\n",
       "      <th>PREABBR</th>\n",
       "      <th>household_count</th>\n",
       "      <th>li_household_count</th>\n",
       "      <th>li_prop</th>\n",
       "    </tr>\n",
       "  </thead>\n",
       "  <tbody>\n",
       "    <tr>\n",
       "      <th>0</th>\n",
       "      <td>MULTIPOLYGON (((8307365.589 2582136.711, 83083...</td>\n",
       "      <td>10</td>\n",
       "      <td>Newfoundland and Labrador</td>\n",
       "      <td>N.L.</td>\n",
       "      <td>2.188250e+05</td>\n",
       "      <td>14254.7545</td>\n",
       "      <td>6.514226</td>\n",
       "    </tr>\n",
       "    <tr>\n",
       "      <th>1</th>\n",
       "      <td>MULTIPOLYGON (((8435711.754 1679935.966, 84358...</td>\n",
       "      <td>11</td>\n",
       "      <td>Prince Edward Island</td>\n",
       "      <td>P.E.I.</td>\n",
       "      <td>6.229200e+04</td>\n",
       "      <td>3152.1948</td>\n",
       "      <td>5.060353</td>\n",
       "    </tr>\n",
       "    <tr>\n",
       "      <th>2</th>\n",
       "      <td>MULTIPOLYGON (((8470851.646 1624745.011, 84710...</td>\n",
       "      <td>12</td>\n",
       "      <td>Nova Scotia</td>\n",
       "      <td>N.S.</td>\n",
       "      <td>4.108410e+05</td>\n",
       "      <td>33302.1614</td>\n",
       "      <td>8.105851</td>\n",
       "    </tr>\n",
       "    <tr>\n",
       "      <th>3</th>\n",
       "      <td>MULTIPOLYGON (((8176224.537 1722553.460, 81762...</td>\n",
       "      <td>13</td>\n",
       "      <td>New Brunswick</td>\n",
       "      <td>N.B.</td>\n",
       "      <td>3.232110e+05</td>\n",
       "      <td>19264.6376</td>\n",
       "      <td>5.960390</td>\n",
       "    </tr>\n",
       "    <tr>\n",
       "      <th>4</th>\n",
       "      <td>MULTIPOLYGON (((8399709.494 2261445.703, 84005...</td>\n",
       "      <td>24</td>\n",
       "      <td>Quebec</td>\n",
       "      <td>Que.</td>\n",
       "      <td>3.664716e+06</td>\n",
       "      <td>409183.0778</td>\n",
       "      <td>11.165479</td>\n",
       "    </tr>\n",
       "    <tr>\n",
       "      <th>5</th>\n",
       "      <td>MULTIPOLYGON (((6378815.614 2295412.440, 63787...</td>\n",
       "      <td>35</td>\n",
       "      <td>Ontario</td>\n",
       "      <td>Ont.</td>\n",
       "      <td>5.552006e+06</td>\n",
       "      <td>552583.7773</td>\n",
       "      <td>9.952867</td>\n",
       "    </tr>\n",
       "    <tr>\n",
       "      <th>6</th>\n",
       "      <td>MULTIPOLYGON (((6039656.509 2636304.343, 60396...</td>\n",
       "      <td>46</td>\n",
       "      <td>Manitoba</td>\n",
       "      <td>Man.</td>\n",
       "      <td>4.989010e+05</td>\n",
       "      <td>48223.9666</td>\n",
       "      <td>9.666039</td>\n",
       "    </tr>\n",
       "    <tr>\n",
       "      <th>7</th>\n",
       "      <td>MULTIPOLYGON (((5248633.914 2767057.263, 52492...</td>\n",
       "      <td>47</td>\n",
       "      <td>Saskatchewan</td>\n",
       "      <td>Sask.</td>\n",
       "      <td>4.423190e+05</td>\n",
       "      <td>33319.6658</td>\n",
       "      <td>7.532949</td>\n",
       "    </tr>\n",
       "    <tr>\n",
       "      <th>8</th>\n",
       "      <td>MULTIPOLYGON (((5228304.177 2767597.891, 52280...</td>\n",
       "      <td>48</td>\n",
       "      <td>Alberta</td>\n",
       "      <td>Alta.</td>\n",
       "      <td>1.612780e+06</td>\n",
       "      <td>101196.5526</td>\n",
       "      <td>6.274666</td>\n",
       "    </tr>\n",
       "    <tr>\n",
       "      <th>9</th>\n",
       "      <td>MULTIPOLYGON (((4018904.414 3410247.271, 40194...</td>\n",
       "      <td>59</td>\n",
       "      <td>British Columbia</td>\n",
       "      <td>B.C.</td>\n",
       "      <td>1.964453e+06</td>\n",
       "      <td>160425.9215</td>\n",
       "      <td>8.166442</td>\n",
       "    </tr>\n",
       "  </tbody>\n",
       "</table>\n",
       "</div>"
      ],
      "text/plain": [
       "                                            geometry PRUID  \\\n",
       "0  MULTIPOLYGON (((8307365.589 2582136.711, 83083...    10   \n",
       "1  MULTIPOLYGON (((8435711.754 1679935.966, 84358...    11   \n",
       "2  MULTIPOLYGON (((8470851.646 1624745.011, 84710...    12   \n",
       "3  MULTIPOLYGON (((8176224.537 1722553.460, 81762...    13   \n",
       "4  MULTIPOLYGON (((8399709.494 2261445.703, 84005...    24   \n",
       "5  MULTIPOLYGON (((6378815.614 2295412.440, 63787...    35   \n",
       "6  MULTIPOLYGON (((6039656.509 2636304.343, 60396...    46   \n",
       "7  MULTIPOLYGON (((5248633.914 2767057.263, 52492...    47   \n",
       "8  MULTIPOLYGON (((5228304.177 2767597.891, 52280...    48   \n",
       "9  MULTIPOLYGON (((4018904.414 3410247.271, 40194...    59   \n",
       "\n",
       "                     PRENAME PREABBR  household_count  li_household_count  \\\n",
       "0  Newfoundland and Labrador    N.L.     2.188250e+05          14254.7545   \n",
       "1       Prince Edward Island  P.E.I.     6.229200e+04           3152.1948   \n",
       "2                Nova Scotia    N.S.     4.108410e+05          33302.1614   \n",
       "3              New Brunswick    N.B.     3.232110e+05          19264.6376   \n",
       "4                     Quebec    Que.     3.664716e+06         409183.0778   \n",
       "5                    Ontario    Ont.     5.552006e+06         552583.7773   \n",
       "6                   Manitoba    Man.     4.989010e+05          48223.9666   \n",
       "7               Saskatchewan   Sask.     4.423190e+05          33319.6658   \n",
       "8                    Alberta   Alta.     1.612780e+06         101196.5526   \n",
       "9           British Columbia    B.C.     1.964453e+06         160425.9215   \n",
       "\n",
       "     li_prop  \n",
       "0   6.514226  \n",
       "1   5.060353  \n",
       "2   8.105851  \n",
       "3   5.960390  \n",
       "4  11.165479  \n",
       "5   9.952867  \n",
       "6   9.666039  \n",
       "7   7.532949  \n",
       "8   6.274666  \n",
       "9   8.166442  "
      ]
     },
     "execution_count": 26,
     "metadata": {},
     "output_type": "execute_result"
    }
   ],
   "source": [
    "# Drop rows with territories because they have no data\n",
    "prov_geo_house = prov_geo_house.drop(\n",
    "                labels =[10, 11, 12],\n",
    "                axis = 0)\n",
    "prov_geo_house"
   ]
  },
  {
   "cell_type": "markdown",
   "id": "52064092",
   "metadata": {},
   "source": [
    "# 06 Choropleth Map"
   ]
  },
  {
   "cell_type": "code",
   "execution_count": 42,
   "id": "fc44be53",
   "metadata": {
    "scrolled": true
   },
   "outputs": [
    {
     "data": {
      "image/png": "[encoded data removed]",
      "text/plain": [
       "<Figure size 504x360 with 2 Axes>"
      ]
     },
     "metadata": {
      "needs_background": "light"
     },
     "output_type": "display_data"
    }
   ],
   "source": [
    "# Make choropleth map of Number of households in each province\n",
    "households = prov_geo_house.plot(column='household_count',\n",
    "                 legend=True,\n",
    "                 legend_kwds={'label': \"Number of Households by Province\",\n",
    "                             'orientation': \"horizontal\",\n",
    "                             'format':\"%.0f\"},\n",
    "                 cmap='BrBG',\n",
    "                 figsize=(7,5))\n",
    "households.set_xticks([])\n",
    "households.set_yticks([])\n",
    "\n",
    "prov_geo_house.apply(lambda x: households.annotate(text=x['PREABBR'], xy=x.geometry.centroid.coords[0], ha='center'), axis=1)\n",
    "\n",
    "plt.show()"
   ]
  },
  {
   "cell_type": "markdown",
   "id": "a1b9aee2",
   "metadata": {},
   "source": [
    "Because there is no data from the territories in the 2018 Canadian Income Survey PUMF, they are not displayed here.\n",
    "\n",
    "This map shows that Ontario has the highest number of Canadian households. Households, instead of persons, was mapped to be more consistent with previous analysis done for this project. "
   ]
  },
  {
   "cell_type": "code",
   "execution_count": 43,
   "id": "c05bd613",
   "metadata": {},
   "outputs": [
    {
     "data": {
      "image/png": "[encoded data removed]",
      "text/plain": [
       "<Figure size 504x360 with 2 Axes>"
      ]
     },
     "metadata": {
      "needs_background": "light"
     },
     "output_type": "display_data"
    }
   ],
   "source": [
    "# Make choropleth map of number of low-income households in each province\n",
    "li_households = prov_geo_house.plot(column='li_household_count',\n",
    "                 legend=True,\n",
    "                 legend_kwds={'label': \"Number of low-income households by Province\",\n",
    "                             'orientation': \"horizontal\",\n",
    "                             'format':\"%.0f\"},\n",
    "                 cmap='BrBG',\n",
    "                 figsize=(7,5))\n",
    "li_households.set_xticks([])\n",
    "li_households.set_yticks([])\n",
    "\n",
    "prov_geo_house.apply(lambda x: li_households.annotate(text=x['PREABBR'], xy=x.geometry.centroid.coords[0], ha='center'), axis=1)\n",
    "\n",
    "plt.show()"
   ]
  },
  {
   "cell_type": "markdown",
   "id": "d5e0e05e",
   "metadata": {},
   "source": [
    "This map, of the number of low-income households in each province, doesn't look much different from the first map, except that the scale is different. So the distribution of low-income households is consitent with the distribution of households."
   ]
  },
  {
   "cell_type": "code",
   "execution_count": 46,
   "id": "870a8f01",
   "metadata": {},
   "outputs": [
    {
     "data": {
      "image/png": "[encoded data removed]",
      "text/plain": [
       "<Figure size 504x360 with 2 Axes>"
      ]
     },
     "metadata": {
      "needs_background": "light"
     },
     "output_type": "display_data"
    }
   ],
   "source": [
    "# Make choropleth map of proportion of low-income households in each province\n",
    "li_pct_households = prov_geo_house.plot(column='li_prop',\n",
    "                 legend=True,\n",
    "                 legend_kwds={'label': \"Percentage of Low-Income Households by Province\",\n",
    "                             'orientation': \"horizontal\",\n",
    "                             'format':\"%.0f\"},\n",
    "                 cmap='RdYlGn_r',\n",
    "                 figsize=(7,5))\n",
    "li_pct_households.set_xticks([])\n",
    "li_pct_households.set_yticks([])\n",
    "\n",
    "prov_geo_house.apply(lambda x: li_pct_households.annotate(text=x['PREABBR'], xy=x.geometry.centroid.coords[0], ha='center'), axis=1)\n",
    "\n",
    "plt.show()"
   ]
  },
  {
   "cell_type": "markdown",
   "id": "e87691b7",
   "metadata": {},
   "source": [
    "This map shows the percentage of low-income households in each province (i.e. the ratio of the data from the second map to the data from the first map).\n",
    "\n",
    "This shows that Quebec has the highest percentage of low-income households, while New Brunswick has the lowest. Nova Scotia, the province of interest for this study, has about the fourth or fifth highest percentage of low-income households (out of ten provinces)."
   ]
  },
  {
   "cell_type": "markdown",
   "id": "a1977c33",
   "metadata": {},
   "source": [
    "# 07 Discussion"
   ]
  },
  {
   "cell_type": "markdown",
   "id": "d7f8d11a",
   "metadata": {},
   "source": [
    "##### Where do Canadians live?\n",
    "\n",
    "This question is answered by the first map. There are more Canadian households in the larger (by area) provinces. Ontario has the highest number of households, while the Atlantic provinces (Nova Scotia, New Brunswick, Prince Edward Island, and Newfoundland and Labrador) have the lowest.\n",
    "\n",
    "This map leads to another question: \n",
    "- What is the proportion of households to the area of each province (i.e. the population density of each province). "
   ]
  },
  {
   "cell_type": "markdown",
   "id": "a05e225a",
   "metadata": {},
   "source": [
    "##### Where do low-income Canadians live?\n",
    "\n",
    "This question is answered by the second map. The highest number of low-income households is in Ontario and the lowest number is in the Atlantic Provinces. \n",
    "\n",
    "A better way to consider this is to look at the proportion of low-income households to total number of households in each province, as shown in the third map. Quebec has the highest percentage of low-income households, followed by Ontario and Manitoba. Prince Edward Island and New Brunswick have the lowest percentage. In this map, there is actually some differentiation among the Atlantic provinces.\n",
    "\n",
    "This leads to the question, where is the distribution of after-tax income most skewed?"
   ]
  }
 ],
 "metadata": {
  "kernelspec": {
   "display_name": "Python 3 (ipykernel)",
   "language": "python",
   "name": "python3"
  },
  "language_info": {
   "codemirror_mode": {
    "name": "ipython",
    "version": 3
   },
   "file_extension": ".py",
   "mimetype": "text/x-python",
   "name": "python",
   "nbconvert_exporter": "python",
   "pygments_lexer": "ipython3",
   "version": "3.9.12"
  }
 },
 "nbformat": 4,
 "nbformat_minor": 5
}
