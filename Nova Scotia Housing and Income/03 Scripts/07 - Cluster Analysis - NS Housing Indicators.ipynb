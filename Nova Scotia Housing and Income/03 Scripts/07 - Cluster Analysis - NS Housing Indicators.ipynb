{
 "cells": [
  {
   "cell_type": "markdown",
   "id": "9ecfcd15",
   "metadata": {},
   "source": [
    "# Tannis McCartney\n",
    "## June 23, 2022\n",
    "## Clustering - NS Housing Indicators"
   ]
  },
  {
   "cell_type": "markdown",
   "id": "4e16502d",
   "metadata": {},
   "source": [
    "### Table of Contents\n",
    "01 Import libraries\n",
    "\n",
    "02 Import dataset\n",
    "\n",
    "03 Wrangle data for cluster analysis\n",
    "\n",
    "04 Apply elbow technique\n",
    "\n",
    "05 k-means clustering\n",
    "\n",
    "06 Visualize the clusters\n",
    "\n",
    "07 Discussion\n",
    "\n",
    "08 Descriptive statistics\n",
    "\n",
    "09 Future steps\n",
    "\n",
    "10 Export dataframe for time series analysis"
   ]
  },
  {
   "cell_type": "markdown",
   "id": "b27e7b6b",
   "metadata": {},
   "source": [
    "# 01 Import libraries"
   ]
  },
  {
   "cell_type": "code",
   "execution_count": 1,
   "id": "4578eee1",
   "metadata": {},
   "outputs": [],
   "source": [
    "import pandas as pd\n",
    "import numpy as np\n",
    "import seaborn as sns\n",
    "import matplotlib\n",
    "import matplotlib.pyplot as plt\n",
    "import os\n",
    "import sklearn\n",
    "from sklearn.cluster import KMeans\n",
    "from sklearn.preprocessing import StandardScaler\n",
    "import pylab as pl"
   ]
  },
  {
   "cell_type": "code",
   "execution_count": 2,
   "id": "bf882760",
   "metadata": {},
   "outputs": [],
   "source": [
    "%matplotlib inline"
   ]
  },
  {
   "cell_type": "markdown",
   "id": "bbc013c0",
   "metadata": {},
   "source": [
    "# 02 Import data"
   ]
  },
  {
   "cell_type": "code",
   "execution_count": 3,
   "id": "59e3c11d",
   "metadata": {},
   "outputs": [],
   "source": [
    "# Turn project folder path into a string\n",
    "path = r'C:\\Users\\tmmcc\\Google Drive\\Data Analytics Bootcamp\\6 Advanced Analytics and Dashboard Design\\Nova Scotia Housing and Income'  "
   ]
  },
  {
   "cell_type": "code",
   "execution_count": 4,
   "id": "594f09d3",
   "metadata": {},
   "outputs": [
    {
     "data": {
      "text/html": [
       "<div>\n",
       "<style scoped>\n",
       "    .dataframe tbody tr th:only-of-type {\n",
       "        vertical-align: middle;\n",
       "    }\n",
       "\n",
       "    .dataframe tbody tr th {\n",
       "        vertical-align: top;\n",
       "    }\n",
       "\n",
       "    .dataframe thead th {\n",
       "        text-align: right;\n",
       "    }\n",
       "</style>\n",
       "<table border=\"1\" class=\"dataframe\">\n",
       "  <thead>\n",
       "    <tr style=\"text-align: right;\">\n",
       "      <th>dwelling</th>\n",
       "      <th>total_starts</th>\n",
       "      <th>single_detached_starts</th>\n",
       "      <th>multiple_starts</th>\n",
       "      <th>semi_detached_starts</th>\n",
       "      <th>row_starts</th>\n",
       "      <th>apartment_starts</th>\n",
       "      <th>starts_by_market</th>\n",
       "      <th>freehold_homeownership_starts</th>\n",
       "      <th>rental_starts</th>\n",
       "      <th>condominium_ownership_starts</th>\n",
       "      <th>...</th>\n",
       "      <th>bachelor_average_rent_dollars</th>\n",
       "      <th>one_bedroom_average_rent</th>\n",
       "      <th>two_bed_average_rent_dollars</th>\n",
       "      <th>three_plus_bed_average_rent_dollars</th>\n",
       "      <th>july_1_population_thousands</th>\n",
       "      <th>labour_force_participation_rate_percent</th>\n",
       "      <th>pct_change_employment</th>\n",
       "      <th>pct_change_unemployment</th>\n",
       "      <th>pct_change_real_disposable_income</th>\n",
       "      <th>net_migration</th>\n",
       "    </tr>\n",
       "  </thead>\n",
       "  <tbody>\n",
       "    <tr>\n",
       "      <th>1990</th>\n",
       "      <td>5560.0</td>\n",
       "      <td>3639.0</td>\n",
       "      <td>1921.0</td>\n",
       "      <td>310.0</td>\n",
       "      <td>100.0</td>\n",
       "      <td>1511.0</td>\n",
       "      <td>3650.0</td>\n",
       "      <td>2199.0</td>\n",
       "      <td>1107.0</td>\n",
       "      <td>12.0</td>\n",
       "      <td>...</td>\n",
       "      <td>391.0</td>\n",
       "      <td>460.0</td>\n",
       "      <td>539.0</td>\n",
       "      <td>658.0</td>\n",
       "      <td>910.500000</td>\n",
       "      <td>61.900002</td>\n",
       "      <td>1.0</td>\n",
       "      <td>10.7</td>\n",
       "      <td>NaN</td>\n",
       "      <td>NaN</td>\n",
       "    </tr>\n",
       "    <tr>\n",
       "      <th>1991</th>\n",
       "      <td>5173.0</td>\n",
       "      <td>2604.0</td>\n",
       "      <td>2569.0</td>\n",
       "      <td>301.0</td>\n",
       "      <td>46.0</td>\n",
       "      <td>2222.0</td>\n",
       "      <td>3681.0</td>\n",
       "      <td>1590.0</td>\n",
       "      <td>1691.0</td>\n",
       "      <td>0.0</td>\n",
       "      <td>...</td>\n",
       "      <td>408.0</td>\n",
       "      <td>481.0</td>\n",
       "      <td>565.0</td>\n",
       "      <td>690.0</td>\n",
       "      <td>915.000000</td>\n",
       "      <td>61.500000</td>\n",
       "      <td>-1.2</td>\n",
       "      <td>12.1</td>\n",
       "      <td>-1.5</td>\n",
       "      <td>NaN</td>\n",
       "    </tr>\n",
       "    <tr>\n",
       "      <th>1992</th>\n",
       "      <td>4673.0</td>\n",
       "      <td>3232.0</td>\n",
       "      <td>1441.0</td>\n",
       "      <td>373.0</td>\n",
       "      <td>93.0</td>\n",
       "      <td>975.0</td>\n",
       "      <td>3222.0</td>\n",
       "      <td>2190.0</td>\n",
       "      <td>764.0</td>\n",
       "      <td>0.0</td>\n",
       "      <td>...</td>\n",
       "      <td>409.0</td>\n",
       "      <td>475.0</td>\n",
       "      <td>562.0</td>\n",
       "      <td>687.0</td>\n",
       "      <td>919.500000</td>\n",
       "      <td>60.000000</td>\n",
       "      <td>-3.1</td>\n",
       "      <td>13.1</td>\n",
       "      <td>2.3</td>\n",
       "      <td>1217.0</td>\n",
       "    </tr>\n",
       "    <tr>\n",
       "      <th>1993</th>\n",
       "      <td>4282.0</td>\n",
       "      <td>3126.0</td>\n",
       "      <td>1156.0</td>\n",
       "      <td>496.0</td>\n",
       "      <td>81.0</td>\n",
       "      <td>579.0</td>\n",
       "      <td>2988.0</td>\n",
       "      <td>2306.0</td>\n",
       "      <td>642.0</td>\n",
       "      <td>0.0</td>\n",
       "      <td>...</td>\n",
       "      <td>412.0</td>\n",
       "      <td>482.0</td>\n",
       "      <td>571.0</td>\n",
       "      <td>719.0</td>\n",
       "      <td>923.900024</td>\n",
       "      <td>60.099998</td>\n",
       "      <td>-0.6</td>\n",
       "      <td>14.3</td>\n",
       "      <td>2.1</td>\n",
       "      <td>1676.0</td>\n",
       "    </tr>\n",
       "    <tr>\n",
       "      <th>1994</th>\n",
       "      <td>4748.0</td>\n",
       "      <td>3358.0</td>\n",
       "      <td>1390.0</td>\n",
       "      <td>518.0</td>\n",
       "      <td>99.0</td>\n",
       "      <td>773.0</td>\n",
       "      <td>3304.0</td>\n",
       "      <td>2493.0</td>\n",
       "      <td>671.0</td>\n",
       "      <td>0.0</td>\n",
       "      <td>...</td>\n",
       "      <td>421.0</td>\n",
       "      <td>485.0</td>\n",
       "      <td>579.0</td>\n",
       "      <td>711.0</td>\n",
       "      <td>926.900024</td>\n",
       "      <td>60.099998</td>\n",
       "      <td>1.7</td>\n",
       "      <td>13.5</td>\n",
       "      <td>-0.8</td>\n",
       "      <td>409.0</td>\n",
       "    </tr>\n",
       "  </tbody>\n",
       "</table>\n",
       "<p>5 rows × 35 columns</p>\n",
       "</div>"
      ],
      "text/plain": [
       "dwelling  total_starts  single_detached_starts  multiple_starts  \\\n",
       "1990            5560.0                  3639.0           1921.0   \n",
       "1991            5173.0                  2604.0           2569.0   \n",
       "1992            4673.0                  3232.0           1441.0   \n",
       "1993            4282.0                  3126.0           1156.0   \n",
       "1994            4748.0                  3358.0           1390.0   \n",
       "\n",
       "dwelling  semi_detached_starts  row_starts  apartment_starts  \\\n",
       "1990                     310.0       100.0            1511.0   \n",
       "1991                     301.0        46.0            2222.0   \n",
       "1992                     373.0        93.0             975.0   \n",
       "1993                     496.0        81.0             579.0   \n",
       "1994                     518.0        99.0             773.0   \n",
       "\n",
       "dwelling  starts_by_market  freehold_homeownership_starts  rental_starts  \\\n",
       "1990                3650.0                         2199.0         1107.0   \n",
       "1991                3681.0                         1590.0         1691.0   \n",
       "1992                3222.0                         2190.0          764.0   \n",
       "1993                2988.0                         2306.0          642.0   \n",
       "1994                3304.0                         2493.0          671.0   \n",
       "\n",
       "dwelling  condominium_ownership_starts  ...  bachelor_average_rent_dollars  \\\n",
       "1990                              12.0  ...                          391.0   \n",
       "1991                               0.0  ...                          408.0   \n",
       "1992                               0.0  ...                          409.0   \n",
       "1993                               0.0  ...                          412.0   \n",
       "1994                               0.0  ...                          421.0   \n",
       "\n",
       "dwelling  one_bedroom_average_rent  two_bed_average_rent_dollars  \\\n",
       "1990                         460.0                         539.0   \n",
       "1991                         481.0                         565.0   \n",
       "1992                         475.0                         562.0   \n",
       "1993                         482.0                         571.0   \n",
       "1994                         485.0                         579.0   \n",
       "\n",
       "dwelling  three_plus_bed_average_rent_dollars  july_1_population_thousands  \\\n",
       "1990                                    658.0                   910.500000   \n",
       "1991                                    690.0                   915.000000   \n",
       "1992                                    687.0                   919.500000   \n",
       "1993                                    719.0                   923.900024   \n",
       "1994                                    711.0                   926.900024   \n",
       "\n",
       "dwelling  labour_force_participation_rate_percent  pct_change_employment  \\\n",
       "1990                                    61.900002                    1.0   \n",
       "1991                                    61.500000                   -1.2   \n",
       "1992                                    60.000000                   -3.1   \n",
       "1993                                    60.099998                   -0.6   \n",
       "1994                                    60.099998                    1.7   \n",
       "\n",
       "dwelling  pct_change_unemployment  pct_change_real_disposable_income  \\\n",
       "1990                         10.7                                NaN   \n",
       "1991                         12.1                               -1.5   \n",
       "1992                         13.1                                2.3   \n",
       "1993                         14.3                                2.1   \n",
       "1994                         13.5                               -0.8   \n",
       "\n",
       "dwelling  net_migration  \n",
       "1990                NaN  \n",
       "1991                NaN  \n",
       "1992             1217.0  \n",
       "1993             1676.0  \n",
       "1994              409.0  \n",
       "\n",
       "[5 rows x 35 columns]"
      ]
     },
     "execution_count": 4,
     "metadata": {},
     "output_type": "execute_result"
    }
   ],
   "source": [
    "# Import NS housing market indicators\n",
    "NSHousing = pd.read_pickle(os.path.join(path, '02 Data', 'Prepared Data', 'NSHousing_cleaned.pkl'))\n",
    "NSHousing.head()"
   ]
  },
  {
   "cell_type": "markdown",
   "id": "fe07c7f7",
   "metadata": {},
   "source": [
    "# 03 Wrangle data for cluster analysis"
   ]
  },
  {
   "cell_type": "code",
   "execution_count": 5,
   "id": "73066c14",
   "metadata": {},
   "outputs": [
    {
     "name": "stdout",
     "output_type": "stream",
     "text": [
      "<class 'pandas.core.frame.DataFrame'>\n",
      "Index: 27 entries, 1990 to 2016\n",
      "Data columns (total 35 columns):\n",
      " #   Column                                    Non-Null Count  Dtype  \n",
      "---  ------                                    --------------  -----  \n",
      " 0   total_starts                              27 non-null     float32\n",
      " 1   single_detached_starts                    27 non-null     float32\n",
      " 2   multiple_starts                           27 non-null     float32\n",
      " 3   semi_detached_starts                      27 non-null     float32\n",
      " 4   row_starts                                27 non-null     float32\n",
      " 5   apartment_starts                          27 non-null     float32\n",
      " 6   starts_by_market                          27 non-null     float32\n",
      " 7   freehold_homeownership_starts             27 non-null     float32\n",
      " 8   rental_starts                             27 non-null     float32\n",
      " 9   condominium_ownership_starts              27 non-null     float32\n",
      " 10  co_op_and_unknown_starts                  27 non-null     float32\n",
      " 11  total_completions                         27 non-null     float32\n",
      " 12  residential_building_permits              27 non-null     float32\n",
      " 13  res_bldg_permit_value_thousands           27 non-null     float32\n",
      " 14  new_completed_and_unabsorbed_home_supply  25 non-null     float32\n",
      " 15  single_and_semi_detached_supply           25 non-null     float32\n",
      " 16  row_and_apartment_supply                  25 non-null     float32\n",
      " 17  rental_vacancy_percent                    27 non-null     float32\n",
      " 18  rental_availabilty_rate_percent           12 non-null     float32\n",
      " 19  standard_space_seniors_vacancy_rate       8 non-null      float32\n",
      " 20  pct_change_new_housing_price_index        27 non-null     float32\n",
      " 21  pct_change_consumer_price_index           27 non-null     float32\n",
      " 22  pct_change_construction_wage_rate_index   19 non-null     float32\n",
      " 23  pct_change_owned_accommodation_costs      27 non-null     float32\n",
      " 24  pct_change_rental_accommodation_costs     27 non-null     float32\n",
      " 25  bachelor_average_rent_dollars             27 non-null     float32\n",
      " 26  one_bedroom_average_rent                  27 non-null     float32\n",
      " 27  two_bed_average_rent_dollars              27 non-null     float32\n",
      " 28  three_plus_bed_average_rent_dollars       27 non-null     float32\n",
      " 29  july_1_population_thousands               27 non-null     float32\n",
      " 30  labour_force_participation_rate_percent   27 non-null     float32\n",
      " 31  pct_change_employment                     27 non-null     float32\n",
      " 32  pct_change_unemployment                   27 non-null     float32\n",
      " 33  pct_change_real_disposable_income         25 non-null     float32\n",
      " 34  net_migration                             25 non-null     float32\n",
      "dtypes: float32(35)\n",
      "memory usage: 3.9+ KB\n"
     ]
    }
   ],
   "source": [
    "# Look at data info\n",
    "NSHousing.info()"
   ]
  },
  {
   "cell_type": "code",
   "execution_count": 6,
   "id": "bb792312",
   "metadata": {},
   "outputs": [
    {
     "data": {
      "text/html": [
       "<div>\n",
       "<style scoped>\n",
       "    .dataframe tbody tr th:only-of-type {\n",
       "        vertical-align: middle;\n",
       "    }\n",
       "\n",
       "    .dataframe tbody tr th {\n",
       "        vertical-align: top;\n",
       "    }\n",
       "\n",
       "    .dataframe thead th {\n",
       "        text-align: right;\n",
       "    }\n",
       "</style>\n",
       "<table border=\"1\" class=\"dataframe\">\n",
       "  <thead>\n",
       "    <tr style=\"text-align: right;\">\n",
       "      <th>dwelling</th>\n",
       "      <th>total_starts</th>\n",
       "      <th>rental_starts</th>\n",
       "      <th>co_op_and_unknown_starts</th>\n",
       "      <th>rental_vacancy_percent</th>\n",
       "      <th>pct_change_new_housing_price_index</th>\n",
       "      <th>pct_change_consumer_price_index</th>\n",
       "      <th>pct_change_owned_accommodation_costs</th>\n",
       "      <th>pct_change_rental_accommodation_costs</th>\n",
       "      <th>july_1_population_thousands</th>\n",
       "      <th>pct_change_employment</th>\n",
       "      <th>pct_change_unemployment</th>\n",
       "    </tr>\n",
       "  </thead>\n",
       "  <tbody>\n",
       "    <tr>\n",
       "      <th>1990</th>\n",
       "      <td>5560.0</td>\n",
       "      <td>1107.0</td>\n",
       "      <td>332.0</td>\n",
       "      <td>3.8</td>\n",
       "      <td>0.3</td>\n",
       "      <td>5.1</td>\n",
       "      <td>4.7</td>\n",
       "      <td>3.3</td>\n",
       "      <td>910.500000</td>\n",
       "      <td>1.0</td>\n",
       "      <td>10.7</td>\n",
       "    </tr>\n",
       "    <tr>\n",
       "      <th>1991</th>\n",
       "      <td>5173.0</td>\n",
       "      <td>1691.0</td>\n",
       "      <td>400.0</td>\n",
       "      <td>5.1</td>\n",
       "      <td>-0.2</td>\n",
       "      <td>6.1</td>\n",
       "      <td>4.5</td>\n",
       "      <td>2.8</td>\n",
       "      <td>915.000000</td>\n",
       "      <td>-1.2</td>\n",
       "      <td>12.1</td>\n",
       "    </tr>\n",
       "    <tr>\n",
       "      <th>1992</th>\n",
       "      <td>4673.0</td>\n",
       "      <td>764.0</td>\n",
       "      <td>268.0</td>\n",
       "      <td>5.7</td>\n",
       "      <td>1.1</td>\n",
       "      <td>0.7</td>\n",
       "      <td>-0.8</td>\n",
       "      <td>1.9</td>\n",
       "      <td>919.500000</td>\n",
       "      <td>-3.1</td>\n",
       "      <td>13.1</td>\n",
       "    </tr>\n",
       "    <tr>\n",
       "      <th>1993</th>\n",
       "      <td>4282.0</td>\n",
       "      <td>642.0</td>\n",
       "      <td>40.0</td>\n",
       "      <td>6.0</td>\n",
       "      <td>3.0</td>\n",
       "      <td>1.2</td>\n",
       "      <td>-0.5</td>\n",
       "      <td>1.3</td>\n",
       "      <td>923.900024</td>\n",
       "      <td>-0.6</td>\n",
       "      <td>14.3</td>\n",
       "    </tr>\n",
       "    <tr>\n",
       "      <th>1994</th>\n",
       "      <td>4748.0</td>\n",
       "      <td>671.0</td>\n",
       "      <td>140.0</td>\n",
       "      <td>6.7</td>\n",
       "      <td>2.8</td>\n",
       "      <td>1.1</td>\n",
       "      <td>-0.3</td>\n",
       "      <td>1.3</td>\n",
       "      <td>926.900024</td>\n",
       "      <td>1.7</td>\n",
       "      <td>13.5</td>\n",
       "    </tr>\n",
       "  </tbody>\n",
       "</table>\n",
       "</div>"
      ],
      "text/plain": [
       "dwelling  total_starts  rental_starts  co_op_and_unknown_starts  \\\n",
       "1990            5560.0         1107.0                     332.0   \n",
       "1991            5173.0         1691.0                     400.0   \n",
       "1992            4673.0          764.0                     268.0   \n",
       "1993            4282.0          642.0                      40.0   \n",
       "1994            4748.0          671.0                     140.0   \n",
       "\n",
       "dwelling  rental_vacancy_percent  pct_change_new_housing_price_index  \\\n",
       "1990                         3.8                                 0.3   \n",
       "1991                         5.1                                -0.2   \n",
       "1992                         5.7                                 1.1   \n",
       "1993                         6.0                                 3.0   \n",
       "1994                         6.7                                 2.8   \n",
       "\n",
       "dwelling  pct_change_consumer_price_index  \\\n",
       "1990                                  5.1   \n",
       "1991                                  6.1   \n",
       "1992                                  0.7   \n",
       "1993                                  1.2   \n",
       "1994                                  1.1   \n",
       "\n",
       "dwelling  pct_change_owned_accommodation_costs  \\\n",
       "1990                                       4.7   \n",
       "1991                                       4.5   \n",
       "1992                                      -0.8   \n",
       "1993                                      -0.5   \n",
       "1994                                      -0.3   \n",
       "\n",
       "dwelling  pct_change_rental_accommodation_costs  july_1_population_thousands  \\\n",
       "1990                                        3.3                   910.500000   \n",
       "1991                                        2.8                   915.000000   \n",
       "1992                                        1.9                   919.500000   \n",
       "1993                                        1.3                   923.900024   \n",
       "1994                                        1.3                   926.900024   \n",
       "\n",
       "dwelling  pct_change_employment  pct_change_unemployment  \n",
       "1990                        1.0                     10.7  \n",
       "1991                       -1.2                     12.1  \n",
       "1992                       -3.1                     13.1  \n",
       "1993                       -0.6                     14.3  \n",
       "1994                        1.7                     13.5  "
      ]
     },
     "execution_count": 6,
     "metadata": {},
     "output_type": "execute_result"
    }
   ],
   "source": [
    "# Remove some columns, including columns that don't have full data (Not all variables measured each year)\n",
    "df = NSHousing[['total_starts', 'rental_starts', 'co_op_and_unknown_starts', 'rental_vacancy_percent', 'pct_change_new_housing_price_index', 'pct_change_consumer_price_index', 'pct_change_owned_accommodation_costs', 'pct_change_rental_accommodation_costs', 'july_1_population_thousands', 'pct_change_employment', 'pct_change_unemployment']]\n",
    "df.head()"
   ]
  },
  {
   "cell_type": "code",
   "execution_count": 7,
   "id": "2eb76fa3",
   "metadata": {},
   "outputs": [],
   "source": [
    "# Apply standardization to the dataset\n",
    "scaler = StandardScaler()\n",
    "housing_std = scaler.fit_transform(df)"
   ]
  },
  {
   "cell_type": "markdown",
   "id": "084ae8a3",
   "metadata": {},
   "source": [
    "# 04 Apply elbow technique"
   ]
  },
  {
   "cell_type": "code",
   "execution_count": 8,
   "id": "2ab2a196",
   "metadata": {},
   "outputs": [],
   "source": [
    "# Define range of potential clusters and define k-means clusters in the range\n",
    "num_cl = range(1,10)\n",
    "kmeans = [KMeans(n_clusters=i) for i in num_cl]"
   ]
  },
  {
   "cell_type": "code",
   "execution_count": 9,
   "id": "079a22c3",
   "metadata": {},
   "outputs": [
    {
     "name": "stderr",
     "output_type": "stream",
     "text": [
      "C:\\Users\\tmmcc\\anaconda3\\lib\\site-packages\\sklearn\\cluster\\_kmeans.py:1036: UserWarning: KMeans is known to have a memory leak on Windows with MKL, when there are less chunks than available threads. You can avoid it by setting the environment variable OMP_NUM_THREADS=1.\n",
      "  warnings.warn(\n"
     ]
    },
    {
     "data": {
      "text/plain": [
       "[-297.0,\n",
       " -214.15895080566406,\n",
       " -141.01902770996094,\n",
       " -103.03518676757812,\n",
       " -83.13262939453125,\n",
       " -74.23564147949219,\n",
       " -64.79754638671875,\n",
       " -56.085472106933594,\n",
       " -47.82135009765625]"
      ]
     },
     "execution_count": 9,
     "metadata": {},
     "output_type": "execute_result"
    }
   ],
   "source": [
    "# Create score (rate of variation for given cluster option)\n",
    "score = [kmeans[i].fit(housing_std).score(housing_std) for i in range(len(kmeans))]\n",
    "score"
   ]
  },
  {
   "cell_type": "code",
   "execution_count": 10,
   "id": "d785db13",
   "metadata": {},
   "outputs": [
    {
     "data": {
      "image/png": "[encoded data removed]",
      "text/plain": [
       "<Figure size 432x288 with 1 Axes>"
      ]
     },
     "metadata": {
      "needs_background": "light"
     },
     "output_type": "display_data"
    }
   ],
   "source": [
    "# Plot the elbow curve\n",
    "pl.plot(num_cl,score)\n",
    "pl.xlabel('Number of Clusters')\n",
    "pl.ylabel('Score')\n",
    "pl.title('Elbow Curve')\n",
    "pl.show()"
   ]
  },
  {
   "cell_type": "markdown",
   "id": "94f86e42",
   "metadata": {},
   "source": [
    "The optimal count for clusters is 4"
   ]
  },
  {
   "cell_type": "markdown",
   "id": "58d90078",
   "metadata": {},
   "source": [
    "# 05 k-means clustering"
   ]
  },
  {
   "cell_type": "code",
   "execution_count": 11,
   "id": "1a1574ed",
   "metadata": {},
   "outputs": [],
   "source": [
    "# Create k-means object\n",
    "kmeans = KMeans(n_clusters = 4) "
   ]
  },
  {
   "cell_type": "code",
   "execution_count": 12,
   "id": "14ed5e21",
   "metadata": {},
   "outputs": [
    {
     "data": {
      "text/plain": [
       "KMeans(n_clusters=4)"
      ]
     },
     "execution_count": 12,
     "metadata": {},
     "output_type": "execute_result"
    }
   ],
   "source": [
    "# Fit k-means object to data\n",
    "kmeans.fit(housing_std)"
   ]
  },
  {
   "cell_type": "code",
   "execution_count": 13,
   "id": "4aa121b6",
   "metadata": {},
   "outputs": [
    {
     "name": "stderr",
     "output_type": "stream",
     "text": [
      "C:\\Users\\tmmcc\\AppData\\Local\\Temp\\ipykernel_5816\\2809562242.py:2: SettingWithCopyWarning: \n",
      "A value is trying to be set on a copy of a slice from a DataFrame.\n",
      "Try using .loc[row_indexer,col_indexer] = value instead\n",
      "\n",
      "See the caveats in the documentation: https://pandas.pydata.org/pandas-docs/stable/user_guide/indexing.html#returning-a-view-versus-a-copy\n",
      "  df['clusters'] = kmeans.fit_predict(df)\n"
     ]
    },
    {
     "data": {
      "text/html": [
       "<div>\n",
       "<style scoped>\n",
       "    .dataframe tbody tr th:only-of-type {\n",
       "        vertical-align: middle;\n",
       "    }\n",
       "\n",
       "    .dataframe tbody tr th {\n",
       "        vertical-align: top;\n",
       "    }\n",
       "\n",
       "    .dataframe thead th {\n",
       "        text-align: right;\n",
       "    }\n",
       "</style>\n",
       "<table border=\"1\" class=\"dataframe\">\n",
       "  <thead>\n",
       "    <tr style=\"text-align: right;\">\n",
       "      <th>dwelling</th>\n",
       "      <th>total_starts</th>\n",
       "      <th>rental_starts</th>\n",
       "      <th>co_op_and_unknown_starts</th>\n",
       "      <th>rental_vacancy_percent</th>\n",
       "      <th>pct_change_new_housing_price_index</th>\n",
       "      <th>pct_change_consumer_price_index</th>\n",
       "      <th>pct_change_owned_accommodation_costs</th>\n",
       "      <th>pct_change_rental_accommodation_costs</th>\n",
       "      <th>july_1_population_thousands</th>\n",
       "      <th>pct_change_employment</th>\n",
       "      <th>pct_change_unemployment</th>\n",
       "      <th>clusters</th>\n",
       "    </tr>\n",
       "  </thead>\n",
       "  <tbody>\n",
       "    <tr>\n",
       "      <th>1990</th>\n",
       "      <td>5560.0</td>\n",
       "      <td>1107.0</td>\n",
       "      <td>332.0</td>\n",
       "      <td>3.8</td>\n",
       "      <td>0.3</td>\n",
       "      <td>5.1</td>\n",
       "      <td>4.7</td>\n",
       "      <td>3.3</td>\n",
       "      <td>910.500000</td>\n",
       "      <td>1.0</td>\n",
       "      <td>10.7</td>\n",
       "      <td>1</td>\n",
       "    </tr>\n",
       "    <tr>\n",
       "      <th>1991</th>\n",
       "      <td>5173.0</td>\n",
       "      <td>1691.0</td>\n",
       "      <td>400.0</td>\n",
       "      <td>5.1</td>\n",
       "      <td>-0.2</td>\n",
       "      <td>6.1</td>\n",
       "      <td>4.5</td>\n",
       "      <td>2.8</td>\n",
       "      <td>915.000000</td>\n",
       "      <td>-1.2</td>\n",
       "      <td>12.1</td>\n",
       "      <td>1</td>\n",
       "    </tr>\n",
       "    <tr>\n",
       "      <th>1992</th>\n",
       "      <td>4673.0</td>\n",
       "      <td>764.0</td>\n",
       "      <td>268.0</td>\n",
       "      <td>5.7</td>\n",
       "      <td>1.1</td>\n",
       "      <td>0.7</td>\n",
       "      <td>-0.8</td>\n",
       "      <td>1.9</td>\n",
       "      <td>919.500000</td>\n",
       "      <td>-3.1</td>\n",
       "      <td>13.1</td>\n",
       "      <td>1</td>\n",
       "    </tr>\n",
       "    <tr>\n",
       "      <th>1993</th>\n",
       "      <td>4282.0</td>\n",
       "      <td>642.0</td>\n",
       "      <td>40.0</td>\n",
       "      <td>6.0</td>\n",
       "      <td>3.0</td>\n",
       "      <td>1.2</td>\n",
       "      <td>-0.5</td>\n",
       "      <td>1.3</td>\n",
       "      <td>923.900024</td>\n",
       "      <td>-0.6</td>\n",
       "      <td>14.3</td>\n",
       "      <td>2</td>\n",
       "    </tr>\n",
       "    <tr>\n",
       "      <th>1994</th>\n",
       "      <td>4748.0</td>\n",
       "      <td>671.0</td>\n",
       "      <td>140.0</td>\n",
       "      <td>6.7</td>\n",
       "      <td>2.8</td>\n",
       "      <td>1.1</td>\n",
       "      <td>-0.3</td>\n",
       "      <td>1.3</td>\n",
       "      <td>926.900024</td>\n",
       "      <td>1.7</td>\n",
       "      <td>13.5</td>\n",
       "      <td>1</td>\n",
       "    </tr>\n",
       "  </tbody>\n",
       "</table>\n",
       "</div>"
      ],
      "text/plain": [
       "dwelling  total_starts  rental_starts  co_op_and_unknown_starts  \\\n",
       "1990            5560.0         1107.0                     332.0   \n",
       "1991            5173.0         1691.0                     400.0   \n",
       "1992            4673.0          764.0                     268.0   \n",
       "1993            4282.0          642.0                      40.0   \n",
       "1994            4748.0          671.0                     140.0   \n",
       "\n",
       "dwelling  rental_vacancy_percent  pct_change_new_housing_price_index  \\\n",
       "1990                         3.8                                 0.3   \n",
       "1991                         5.1                                -0.2   \n",
       "1992                         5.7                                 1.1   \n",
       "1993                         6.0                                 3.0   \n",
       "1994                         6.7                                 2.8   \n",
       "\n",
       "dwelling  pct_change_consumer_price_index  \\\n",
       "1990                                  5.1   \n",
       "1991                                  6.1   \n",
       "1992                                  0.7   \n",
       "1993                                  1.2   \n",
       "1994                                  1.1   \n",
       "\n",
       "dwelling  pct_change_owned_accommodation_costs  \\\n",
       "1990                                       4.7   \n",
       "1991                                       4.5   \n",
       "1992                                      -0.8   \n",
       "1993                                      -0.5   \n",
       "1994                                      -0.3   \n",
       "\n",
       "dwelling  pct_change_rental_accommodation_costs  july_1_population_thousands  \\\n",
       "1990                                        3.3                   910.500000   \n",
       "1991                                        2.8                   915.000000   \n",
       "1992                                        1.9                   919.500000   \n",
       "1993                                        1.3                   923.900024   \n",
       "1994                                        1.3                   926.900024   \n",
       "\n",
       "dwelling  pct_change_employment  pct_change_unemployment  clusters  \n",
       "1990                        1.0                     10.7         1  \n",
       "1991                       -1.2                     12.1         1  \n",
       "1992                       -3.1                     13.1         1  \n",
       "1993                       -0.6                     14.3         2  \n",
       "1994                        1.7                     13.5         1  "
      ]
     },
     "execution_count": 13,
     "metadata": {},
     "output_type": "execute_result"
    }
   ],
   "source": [
    "# Add cluster column to dataframe\n",
    "df['clusters'] = kmeans.fit_predict(df)\n",
    "df.head()"
   ]
  },
  {
   "cell_type": "code",
   "execution_count": 14,
   "id": "da59840e",
   "metadata": {},
   "outputs": [
    {
     "data": {
      "text/plain": [
       "(27, 12)"
      ]
     },
     "execution_count": 14,
     "metadata": {},
     "output_type": "execute_result"
    }
   ],
   "source": [
    "# Check shape of dataframe\n",
    "df.shape"
   ]
  },
  {
   "cell_type": "code",
   "execution_count": 15,
   "id": "f0984c33",
   "metadata": {},
   "outputs": [
    {
     "data": {
      "text/plain": [
       "1    10\n",
       "2     8\n",
       "3     6\n",
       "0     3\n",
       "Name: clusters, dtype: int64"
      ]
     },
     "execution_count": 15,
     "metadata": {},
     "output_type": "execute_result"
    }
   ],
   "source": [
    "# Check frequency table of clusters\n",
    "df['clusters'].value_counts()"
   ]
  },
  {
   "cell_type": "markdown",
   "id": "2d720d8f",
   "metadata": {},
   "source": [
    "# 06 Visualize the clusters"
   ]
  },
  {
   "cell_type": "code",
   "execution_count": 16,
   "id": "844b0f1f",
   "metadata": {},
   "outputs": [
    {
     "data": {
      "image/png": "[encoded data removed]",
      "text/plain": [
       "<Figure size 864x576 with 1 Axes>"
      ]
     },
     "metadata": {
      "needs_background": "light"
     },
     "output_type": "display_data"
    }
   ],
   "source": [
    "# Plot the clusters for population and rental vacancy\n",
    "plt.figure(figsize=(12,8))\n",
    "ax = sns.scatterplot(x=df['july_1_population_thousands'], y=df['pct_change_rental_accommodation_costs'], hue=kmeans.labels_, palette = ['g', 'b', 'c', 'm'], s=100) \n",
    "ax.grid(False)\n",
    "plt.title('Plot 1')\n",
    "plt.xlabel('Population on July 1')\n",
    "plt.ylabel('Change in rental accommodation costs (%)')\n",
    "plt.show()"
   ]
  },
  {
   "cell_type": "markdown",
   "id": "c070ef56",
   "metadata": {},
   "source": [
    "Plot 1 has the same data plotted in a categorical plot as part of the exploratory visual analysis (notebeook 3). \n",
    "\n",
    "Cluster 1 includes the highest percent changes in rental accommodation costs. In the exploratory visual analysis, this was the high vacancy category. This cluster is also restricted to populations below 940 thousand. \n",
    "\n",
    "Cluster 3 only includes populations above 940 thousand. The data points in this cluster are in a grouping by themselves."
   ]
  },
  {
   "cell_type": "code",
   "execution_count": 17,
   "id": "e2f61f36",
   "metadata": {},
   "outputs": [
    {
     "data": {
      "image/png": "[encoded data removed]",
      "text/plain": [
       "<Figure size 864x576 with 1 Axes>"
      ]
     },
     "metadata": {
      "needs_background": "light"
     },
     "output_type": "display_data"
    }
   ],
   "source": [
    "# Plot the clusters for pct change rental costs and rental vacancy\n",
    "plt.figure(figsize=(12,8))\n",
    "ax = sns.scatterplot(x=df['pct_change_rental_accommodation_costs'], y=df['rental_vacancy_percent'], hue=kmeans.labels_, palette = ['g', 'b', 'c', 'm'], s=100) \n",
    "ax.grid(False)\n",
    "plt.title('Plot 2')\n",
    "plt.xlabel('% Change in rental accommodation costs')\n",
    "plt.ylabel('Rental vacancy (%)')\n",
    "plt.show()"
   ]
  },
  {
   "cell_type": "markdown",
   "id": "706e32c8",
   "metadata": {},
   "source": [
    "The highest % changes in rental accommodation costs are all in cluster 1, while the highest percent rental vacancies are in cluster 2. This plot has two groupings of data points, one in the lower left part of the plot, which contains data from all four clusters, and one negative linear trend going diagonally through the plot which only contains data from clusters 1 and 2."
   ]
  },
  {
   "cell_type": "code",
   "execution_count": 18,
   "id": "246283f3",
   "metadata": {},
   "outputs": [
    {
     "data": {
      "image/png": "[encoded data removed]",
      "text/plain": [
       "<Figure size 864x576 with 1 Axes>"
      ]
     },
     "metadata": {
      "needs_background": "light"
     },
     "output_type": "display_data"
    }
   ],
   "source": [
    "# Plot the clusters for pct change CPI and total starts\n",
    "plt.figure(figsize=(12,8))\n",
    "ax = sns.scatterplot(x=df['pct_change_consumer_price_index'], y=df['total_starts'], hue=kmeans.labels_, palette = ['g', 'b', 'c', 'm'], s=100) \n",
    "ax.grid(False)\n",
    "plt.title('Plot 3')\n",
    "plt.xlabel('Change in CPI (%)')\n",
    "plt.ylabel('Total Starts')\n",
    "plt.show()"
   ]
  },
  {
   "cell_type": "markdown",
   "id": "ad6791df",
   "metadata": {},
   "source": [
    "CPI is the consumer price index.\n",
    "\n",
    "This plot shows more groupings that match the clusters than the two previous plots. Cluster 0 has the lowest number of total starts and the low % changes in CPI. Cluster 1 has the highest numbers of total starts and a broad range in % change in CPI. Clusters 2 and 3 have the same ranges of total starts, but cluster 3 has a slightly narrower range in % change in CPI. "
   ]
  },
  {
   "cell_type": "code",
   "execution_count": 19,
   "id": "62f026e7",
   "metadata": {},
   "outputs": [
    {
     "data": {
      "image/png": "[encoded data removed]",
      "text/plain": [
       "<Figure size 864x576 with 1 Axes>"
      ]
     },
     "metadata": {
      "needs_background": "light"
     },
     "output_type": "display_data"
    }
   ],
   "source": [
    "# Plot the clusters for population and total starts\n",
    "plt.figure(figsize=(12,8))\n",
    "ax = sns.scatterplot(x=df['july_1_population_thousands'], y=df['total_starts'], hue=kmeans.labels_, palette = ['g', 'b', 'c', 'm'], s=100) \n",
    "ax.grid(False)\n",
    "plt.title('Plot 4')\n",
    "plt.xlabel('Population on July 1 (thousands)')\n",
    "plt.ylabel('Total Starts')\n",
    "plt.show()"
   ]
  },
  {
   "cell_type": "markdown",
   "id": "8cdba782",
   "metadata": {},
   "source": [
    "Wow, the clusters really cluster in this plot! The fact that total starts has decreased as population increases is alarming and points to the housing crisis, but perhaps the clusters can help explain why. \n",
    "\n",
    "Cluster 0 has moderately high populations and low total starts. Cluster 1 has a range of populations (it includes the lowest populations), but only the highest numbers of total starts. So this cluster is probably important for understanding what drives total starts. Cluster 3 has high populations and a moderate number of starts whereas cluster 2 has the same range of total starts, but lower populations."
   ]
  },
  {
   "cell_type": "code",
   "execution_count": 20,
   "id": "ee5c8edb",
   "metadata": {},
   "outputs": [
    {
     "data": {
      "image/png": "[encoded data removed]",
      "text/plain": [
       "<Figure size 864x576 with 1 Axes>"
      ]
     },
     "metadata": {
      "needs_background": "light"
     },
     "output_type": "display_data"
    }
   ],
   "source": [
    "# Plot the clusters for pct change NHPI and total starts\n",
    "plt.figure(figsize=(12,8))\n",
    "ax = sns.scatterplot(x=df['pct_change_new_housing_price_index'], y=df['total_starts'], hue=kmeans.labels_, palette = ['g', 'b', 'c', 'm'], s=100) \n",
    "ax.grid(False)\n",
    "plt.title('Plot 5')\n",
    "plt.xlabel('Change in New Housing Price Index (%)')\n",
    "plt.ylabel('Total Starts')\n",
    "plt.show()"
   ]
  },
  {
   "cell_type": "markdown",
   "id": "249ff467",
   "metadata": {},
   "source": [
    "Cluster 0 has the lowest positive % change in New Housing Price Index (NHPI) and the lowest total starts. Like in plot 4, Cluster 1 has a broad range on the x-axis (% change in NHPI), but the only highest numbers of total starts. Clusters 2 and 3 'overlap' in their ranges of both total starts and % change in NHPI. Cluster 2 has the only negative % change in NHPI. "
   ]
  },
  {
   "cell_type": "code",
   "execution_count": 21,
   "id": "882a5901",
   "metadata": {},
   "outputs": [
    {
     "data": {
      "image/png": "[encoded data removed]",
      "text/plain": [
       "<Figure size 864x576 with 1 Axes>"
      ]
     },
     "metadata": {
      "needs_background": "light"
     },
     "output_type": "display_data"
    }
   ],
   "source": [
    "# Plot the clusters for pct change owned accommodation costs and pct change rental accommodation costs\n",
    "plt.figure(figsize=(12,8))\n",
    "ax = sns.scatterplot(x=df['pct_change_owned_accommodation_costs'], y=df['pct_change_rental_accommodation_costs'], hue=kmeans.labels_, palette = ['g', 'b', 'c', 'm'], s=100) \n",
    "ax.grid(False)\n",
    "plt.title('Plot 6')\n",
    "plt.xlabel('Change in Owned Accommodation Costs (%)')\n",
    "plt.ylabel('Change in Rental Accommodation Costs (%)')\n",
    "plt.show()"
   ]
  },
  {
   "cell_type": "markdown",
   "id": "353ab9de",
   "metadata": {},
   "source": [
    "Cluster 1 has the two 'extreme' values of % change in rental accommodation costs, otherwise, there is no distinction between the clusters in this regard. Similarly, the clusters all have broad ranges in % change in owned accommodation costs."
   ]
  },
  {
   "cell_type": "code",
   "execution_count": 22,
   "id": "d8323e3d",
   "metadata": {},
   "outputs": [
    {
     "data": {
      "image/png": "[encoded data removed]",
      "text/plain": [
       "<Figure size 864x576 with 1 Axes>"
      ]
     },
     "metadata": {
      "needs_background": "light"
     },
     "output_type": "display_data"
    }
   ],
   "source": [
    "# Plot the clusters for population and pct change unemployment\n",
    "plt.figure(figsize=(12,8))\n",
    "ax = sns.scatterplot(x=df['july_1_population_thousands'], y=df['pct_change_unemployment'], hue=kmeans.labels_, palette = ['g', 'b', 'c', 'm'], s=100) \n",
    "ax.grid(False)\n",
    "plt.title('Plot 7')\n",
    "plt.xlabel('Population on July 1 (thousands)')\n",
    "plt.ylabel('Change in Unemployment (%)')\n",
    "plt.show()"
   ]
  },
  {
   "cell_type": "markdown",
   "id": "a9d6e661",
   "metadata": {},
   "source": [
    "What stands out in this plot is that cluster 3 has the highest population values (and a small range in population values), but moderately low % changes in unemployment. The highest % changes in unemployment fall into clusters 1 and 2. The lowest populations are in cluster 1, with cluster 2 having some lower populations than clusters 0 and 3."
   ]
  },
  {
   "cell_type": "markdown",
   "id": "15f41e64",
   "metadata": {},
   "source": [
    "# 07 Discussion"
   ]
  },
  {
   "cell_type": "markdown",
   "id": "f817f572",
   "metadata": {},
   "source": [
    "A total of eight plots were created to visualize the clustering. The plot titles above are used only as reference for discussion. Some discussion is below each plot.\n",
    "\n",
    "The clusters make sense when describing the relationships between population, total starts, and % change in rental accommodation costs (plots 3 and 4). More generally, the clusters may point to how housing market indicators respond to population changes. \n",
    "\n",
    "This analysis suffers from the low number of observations. "
   ]
  },
  {
   "cell_type": "markdown",
   "id": "8f2bb743",
   "metadata": {},
   "source": [
    "# 08 Descriptive statistics"
   ]
  },
  {
   "cell_type": "code",
   "execution_count": 23,
   "id": "beed7475",
   "metadata": {},
   "outputs": [
    {
     "name": "stderr",
     "output_type": "stream",
     "text": [
      "C:\\Users\\tmmcc\\AppData\\Local\\Temp\\ipykernel_5816\\3607406696.py:2: SettingWithCopyWarning: \n",
      "A value is trying to be set on a copy of a slice from a DataFrame.\n",
      "Try using .loc[row_indexer,col_indexer] = value instead\n",
      "\n",
      "See the caveats in the documentation: https://pandas.pydata.org/pandas-docs/stable/user_guide/indexing.html#returning-a-view-versus-a-copy\n",
      "  df.loc[df['clusters'] == 0, 'cluster'] = 'green'\n"
     ]
    }
   ],
   "source": [
    "# Name the clusters\n",
    "df.loc[df['clusters'] == 0, 'cluster'] = 'green'\n",
    "df.loc[df['clusters'] == 1, 'cluster'] = 'blue'\n",
    "df.loc[df['clusters'] == 2, 'cluster'] = 'cyan'\n",
    "df.loc[df['clusters'] == 3, 'cluster'] = 'magenta'"
   ]
  },
  {
   "cell_type": "code",
   "execution_count": 24,
   "id": "8f163e0c",
   "metadata": {},
   "outputs": [],
   "source": [
    "# Group the data and calculate descriptive statistics\n",
    "df_stats = round(df.groupby('cluster').agg({\n",
    "                          'total_starts':['mean', 'median'], \n",
    "                          'rental_starts':['mean', 'median'],\n",
    "                          'july_1_population_thousands':['mean', 'median'],\n",
    "                          'rental_vacancy_percent':['mean', 'median'],\n",
    "                          'pct_change_new_housing_price_index':['mean', 'median'],\n",
    "                          'pct_change_consumer_price_index':['mean', 'median'],\n",
    "                          'co_op_and_unknown_starts':['mean', 'median'],\n",
    "                          'pct_change_owned_accommodation_costs':['mean', 'median'],\n",
    "                          'pct_change_rental_accommodation_costs':['mean', 'median'],\n",
    "                          'pct_change_employment':['mean', 'median'],\n",
    "                          'pct_change_unemployment':['mean', 'median'],\n",
    "                         }))"
   ]
  },
  {
   "cell_type": "code",
   "execution_count": 25,
   "id": "7466f5af",
   "metadata": {},
   "outputs": [
    {
     "data": {
      "text/html": [
       "<div>\n",
       "<style scoped>\n",
       "    .dataframe tbody tr th:only-of-type {\n",
       "        vertical-align: middle;\n",
       "    }\n",
       "\n",
       "    .dataframe tbody tr th {\n",
       "        vertical-align: top;\n",
       "    }\n",
       "\n",
       "    .dataframe thead tr th {\n",
       "        text-align: left;\n",
       "    }\n",
       "\n",
       "    .dataframe thead tr:last-of-type th {\n",
       "        text-align: right;\n",
       "    }\n",
       "</style>\n",
       "<table border=\"1\" class=\"dataframe\">\n",
       "  <thead>\n",
       "    <tr>\n",
       "      <th>dwelling</th>\n",
       "      <th colspan=\"2\" halign=\"left\">total_starts</th>\n",
       "      <th colspan=\"2\" halign=\"left\">rental_starts</th>\n",
       "      <th colspan=\"2\" halign=\"left\">july_1_population_thousands</th>\n",
       "      <th colspan=\"2\" halign=\"left\">rental_vacancy_percent</th>\n",
       "      <th colspan=\"2\" halign=\"left\">pct_change_new_housing_price_index</th>\n",
       "      <th colspan=\"2\" halign=\"left\">pct_change_consumer_price_index</th>\n",
       "      <th colspan=\"2\" halign=\"left\">co_op_and_unknown_starts</th>\n",
       "      <th colspan=\"2\" halign=\"left\">pct_change_owned_accommodation_costs</th>\n",
       "      <th colspan=\"2\" halign=\"left\">pct_change_rental_accommodation_costs</th>\n",
       "      <th colspan=\"2\" halign=\"left\">pct_change_employment</th>\n",
       "      <th colspan=\"2\" halign=\"left\">pct_change_unemployment</th>\n",
       "    </tr>\n",
       "    <tr>\n",
       "      <th></th>\n",
       "      <th>mean</th>\n",
       "      <th>median</th>\n",
       "      <th>mean</th>\n",
       "      <th>median</th>\n",
       "      <th>mean</th>\n",
       "      <th>median</th>\n",
       "      <th>mean</th>\n",
       "      <th>median</th>\n",
       "      <th>mean</th>\n",
       "      <th>median</th>\n",
       "      <th>mean</th>\n",
       "      <th>median</th>\n",
       "      <th>mean</th>\n",
       "      <th>median</th>\n",
       "      <th>mean</th>\n",
       "      <th>median</th>\n",
       "      <th>mean</th>\n",
       "      <th>median</th>\n",
       "      <th>mean</th>\n",
       "      <th>median</th>\n",
       "      <th>mean</th>\n",
       "      <th>median</th>\n",
       "    </tr>\n",
       "    <tr>\n",
       "      <th>cluster</th>\n",
       "      <th></th>\n",
       "      <th></th>\n",
       "      <th></th>\n",
       "      <th></th>\n",
       "      <th></th>\n",
       "      <th></th>\n",
       "      <th></th>\n",
       "      <th></th>\n",
       "      <th></th>\n",
       "      <th></th>\n",
       "      <th></th>\n",
       "      <th></th>\n",
       "      <th></th>\n",
       "      <th></th>\n",
       "      <th></th>\n",
       "      <th></th>\n",
       "      <th></th>\n",
       "      <th></th>\n",
       "      <th></th>\n",
       "      <th></th>\n",
       "      <th></th>\n",
       "      <th></th>\n",
       "    </tr>\n",
       "  </thead>\n",
       "  <tbody>\n",
       "    <tr>\n",
       "      <th>blue</th>\n",
       "      <td>4936.0</td>\n",
       "      <td>4836.0</td>\n",
       "      <td>912.0</td>\n",
       "      <td>840.0</td>\n",
       "      <td>930.0</td>\n",
       "      <td>935.0</td>\n",
       "      <td>4.0</td>\n",
       "      <td>3.0</td>\n",
       "      <td>3.0</td>\n",
       "      <td>3.0</td>\n",
       "      <td>3.0</td>\n",
       "      <td>2.0</td>\n",
       "      <td>115.0</td>\n",
       "      <td>6.0</td>\n",
       "      <td>2.0</td>\n",
       "      <td>3.0</td>\n",
       "      <td>2.0</td>\n",
       "      <td>1.0</td>\n",
       "      <td>1.0</td>\n",
       "      <td>1.0</td>\n",
       "      <td>10.0</td>\n",
       "      <td>9.0</td>\n",
       "    </tr>\n",
       "    <tr>\n",
       "      <th>cyan</th>\n",
       "      <td>4135.0</td>\n",
       "      <td>4130.0</td>\n",
       "      <td>593.0</td>\n",
       "      <td>606.0</td>\n",
       "      <td>931.0</td>\n",
       "      <td>932.0</td>\n",
       "      <td>6.0</td>\n",
       "      <td>5.0</td>\n",
       "      <td>3.0</td>\n",
       "      <td>3.0</td>\n",
       "      <td>2.0</td>\n",
       "      <td>2.0</td>\n",
       "      <td>9.0</td>\n",
       "      <td>1.0</td>\n",
       "      <td>2.0</td>\n",
       "      <td>2.0</td>\n",
       "      <td>1.0</td>\n",
       "      <td>1.0</td>\n",
       "      <td>1.0</td>\n",
       "      <td>1.0</td>\n",
       "      <td>11.0</td>\n",
       "      <td>11.0</td>\n",
       "    </tr>\n",
       "    <tr>\n",
       "      <th>green</th>\n",
       "      <td>3210.0</td>\n",
       "      <td>3137.0</td>\n",
       "      <td>721.0</td>\n",
       "      <td>655.0</td>\n",
       "      <td>938.0</td>\n",
       "      <td>938.0</td>\n",
       "      <td>4.0</td>\n",
       "      <td>4.0</td>\n",
       "      <td>1.0</td>\n",
       "      <td>1.0</td>\n",
       "      <td>1.0</td>\n",
       "      <td>1.0</td>\n",
       "      <td>17.0</td>\n",
       "      <td>0.0</td>\n",
       "      <td>1.0</td>\n",
       "      <td>1.0</td>\n",
       "      <td>1.0</td>\n",
       "      <td>1.0</td>\n",
       "      <td>1.0</td>\n",
       "      <td>-0.0</td>\n",
       "      <td>10.0</td>\n",
       "      <td>9.0</td>\n",
       "    </tr>\n",
       "    <tr>\n",
       "      <th>magenta</th>\n",
       "      <td>4164.0</td>\n",
       "      <td>4114.0</td>\n",
       "      <td>1496.0</td>\n",
       "      <td>1523.0</td>\n",
       "      <td>945.0</td>\n",
       "      <td>944.0</td>\n",
       "      <td>3.0</td>\n",
       "      <td>3.0</td>\n",
       "      <td>1.0</td>\n",
       "      <td>1.0</td>\n",
       "      <td>2.0</td>\n",
       "      <td>2.0</td>\n",
       "      <td>26.0</td>\n",
       "      <td>0.0</td>\n",
       "      <td>2.0</td>\n",
       "      <td>2.0</td>\n",
       "      <td>1.0</td>\n",
       "      <td>1.0</td>\n",
       "      <td>0.0</td>\n",
       "      <td>0.0</td>\n",
       "      <td>9.0</td>\n",
       "      <td>9.0</td>\n",
       "    </tr>\n",
       "  </tbody>\n",
       "</table>\n",
       "</div>"
      ],
      "text/plain": [
       "dwelling total_starts         rental_starts          \\\n",
       "                 mean  median          mean  median   \n",
       "cluster                                               \n",
       "blue           4936.0  4836.0         912.0   840.0   \n",
       "cyan           4135.0  4130.0         593.0   606.0   \n",
       "green          3210.0  3137.0         721.0   655.0   \n",
       "magenta        4164.0  4114.0        1496.0  1523.0   \n",
       "\n",
       "dwelling july_1_population_thousands        rental_vacancy_percent         \\\n",
       "                                mean median                   mean median   \n",
       "cluster                                                                     \n",
       "blue                           930.0  935.0                    4.0    3.0   \n",
       "cyan                           931.0  932.0                    6.0    5.0   \n",
       "green                          938.0  938.0                    4.0    4.0   \n",
       "magenta                        945.0  944.0                    3.0    3.0   \n",
       "\n",
       "dwelling pct_change_new_housing_price_index         \\\n",
       "                                       mean median   \n",
       "cluster                                              \n",
       "blue                                    3.0    3.0   \n",
       "cyan                                    3.0    3.0   \n",
       "green                                   1.0    1.0   \n",
       "magenta                                 1.0    1.0   \n",
       "\n",
       "dwelling pct_change_consumer_price_index        co_op_and_unknown_starts  \\\n",
       "                                    mean median                     mean   \n",
       "cluster                                                                    \n",
       "blue                                 3.0    2.0                    115.0   \n",
       "cyan                                 2.0    2.0                      9.0   \n",
       "green                                1.0    1.0                     17.0   \n",
       "magenta                              2.0    2.0                     26.0   \n",
       "\n",
       "dwelling        pct_change_owned_accommodation_costs         \\\n",
       "         median                                 mean median   \n",
       "cluster                                                       \n",
       "blue        6.0                                  2.0    3.0   \n",
       "cyan        1.0                                  2.0    2.0   \n",
       "green       0.0                                  1.0    1.0   \n",
       "magenta     0.0                                  2.0    2.0   \n",
       "\n",
       "dwelling pct_change_rental_accommodation_costs        pct_change_employment  \\\n",
       "                                          mean median                  mean   \n",
       "cluster                                                                       \n",
       "blue                                       2.0    1.0                   1.0   \n",
       "cyan                                       1.0    1.0                   1.0   \n",
       "green                                      1.0    1.0                   1.0   \n",
       "magenta                                    1.0    1.0                   0.0   \n",
       "\n",
       "dwelling        pct_change_unemployment         \n",
       "         median                    mean median  \n",
       "cluster                                         \n",
       "blue        1.0                    10.0    9.0  \n",
       "cyan        1.0                    11.0   11.0  \n",
       "green      -0.0                    10.0    9.0  \n",
       "magenta     0.0                     9.0    9.0  "
      ]
     },
     "execution_count": 25,
     "metadata": {},
     "output_type": "execute_result"
    }
   ],
   "source": [
    "# Show the descriptive statistics\n",
    "pd.set_option('display.max_columns', None)\n",
    "df_stats"
   ]
  },
  {
   "cell_type": "markdown",
   "id": "73ff4f58",
   "metadata": {},
   "source": [
    "The cyan cluster has the highest mean rental vacancy (%), the highest mean % change in unemployment, and the second-lowest mean population.\n",
    "\n",
    "The blue cluster has the highest mean total starts and the highest mean co-op/unknown housing starts, the lowest population, and the highest mean % change in CPI. Which of these (if any) is causal is an important question.\n",
    "\n",
    "The magenta cluster has the highest mean population, the highest mean rental starts, and the second highest mean total starts.\n",
    "\n",
    "It seems like owned housing and rental housing markets do not act in the same way. The rental market may be more responsive to population growth, while the housing market may be more responsive (or reactive) to increases in the consumer price index."
   ]
  },
  {
   "cell_type": "markdown",
   "id": "ca896750",
   "metadata": {},
   "source": [
    "# 09 Future steps"
   ]
  },
  {
   "cell_type": "markdown",
   "id": "e4e4279d",
   "metadata": {},
   "source": [
    "Separating this analysis into two groups, rental and ownership, might be useful for understanding each of those housing markets. This dataset might be a good candidate for Principle Component Analysis. \n",
    "\n",
    "Understanding the time windows of each of these clusters could be important. Does the blue cluster represent the oldest data and the magenta the newest data? \n",
    "\n",
    "This data will be used for time series analysis, and based on these results, I will focus on population, total starts, and % change in rental accommodation costs. The interpretation of the time series analysis (and any forecasting) should be in the context of these clusters.\n",
    "\n",
    "It would be good to compare Nova Scotians housing costs, as a percentage of their after-tax income, over the same period (this data would need to be sourced from Statistics Canada tables, as the CIS PUMF used for this project only covers 2018). Do any of these factors correlate to the percentage of Nova Scotians paying more than 35% of their after-tax income on housing (this is the CMHC's definition of affordable housing)? "
   ]
  },
  {
   "cell_type": "markdown",
   "id": "ce5e3e78",
   "metadata": {},
   "source": [
    "# 10 Export dataframe for time series analysis"
   ]
  },
  {
   "cell_type": "code",
   "execution_count": 26,
   "id": "59e1de5c",
   "metadata": {},
   "outputs": [],
   "source": [
    "# Export data to pkl\n",
    "df.to_pickle(os.path.join(path, '02 Data', 'Prepared Data', 'NSHousing_clustered.pkl'))"
   ]
  }
 ],
 "metadata": {
  "kernelspec": {
   "display_name": "Python 3 (ipykernel)",
   "language": "python",
   "name": "python3"
  },
  "language_info": {
   "codemirror_mode": {
    "name": "ipython",
    "version": 3
   },
   "file_extension": ".py",
   "mimetype": "text/x-python",
   "name": "python",
   "nbconvert_exporter": "python",
   "pygments_lexer": "ipython3",
   "version": "3.9.12"
  }
 },
 "nbformat": 4,
 "nbformat_minor": 5
}
