{
 "cells": [
  {
   "cell_type": "markdown",
   "id": "34411153",
   "metadata": {},
   "source": [
    "# Tannis McCartney\n",
    "## June 15, 2022\n",
    "\n",
    "##  Data Preparation - CIS2018"
   ]
  },
  {
   "cell_type": "markdown",
   "id": "d99c85ca",
   "metadata": {},
   "source": [
    "## Table of Contents\n",
    "### 01 Import Libraries\n",
    "### 02 Import Dataset\n",
    "### 03 Data Wrangling\n",
    "### 04 Consistency Checks\n",
    "### 05 Export cleaned dataframe"
   ]
  },
  {
   "cell_type": "markdown",
   "id": "151dab57",
   "metadata": {},
   "source": [
    "# 01 Import libraries"
   ]
  },
  {
   "cell_type": "code",
   "execution_count": 1,
   "id": "a06b521d",
   "metadata": {},
   "outputs": [],
   "source": [
    "# Import libraries for analysis\n",
    "import pandas as pd\n",
    "import numpy as np\n",
    "import os"
   ]
  },
  {
   "cell_type": "markdown",
   "id": "b1a38371",
   "metadata": {},
   "source": [
    "# 02 Import dataset"
   ]
  },
  {
   "cell_type": "code",
   "execution_count": 2,
   "id": "54e921e2",
   "metadata": {},
   "outputs": [],
   "source": [
    "# Turn project folder path into a string\n",
    "path = r'C:\\Users\\tmmcc\\Google Drive\\Data Analytics Bootcamp\\6 Advanced Analytics and Dashboard Design\\Nova Scotia Housing and Income'  "
   ]
  },
  {
   "cell_type": "markdown",
   "id": "01780b8d",
   "metadata": {},
   "source": [
    "#### Statistics Canada provides 2018 Canadian Income Survey data in a PUMF (public use microdata file) in separate micro- and metadata files. A consolidated version was downloaded from the Abacus Data Network (UBC), imported to SPSS, and exported as a csv file."
   ]
  },
  {
   "cell_type": "code",
   "execution_count": 3,
   "id": "c31b20d4",
   "metadata": {},
   "outputs": [
    {
     "data": {
      "text/html": [
       "<div>\n",
       "<style scoped>\n",
       "    .dataframe tbody tr th:only-of-type {\n",
       "        vertical-align: middle;\n",
       "    }\n",
       "\n",
       "    .dataframe tbody tr th {\n",
       "        vertical-align: top;\n",
       "    }\n",
       "\n",
       "    .dataframe thead th {\n",
       "        text-align: right;\n",
       "    }\n",
       "</style>\n",
       "<table border=\"1\" class=\"dataframe\">\n",
       "  <thead>\n",
       "    <tr style=\"text-align: right;\">\n",
       "      <th></th>\n",
       "      <th>YEAR</th>\n",
       "      <th>PUMFID</th>\n",
       "      <th>PERSONID</th>\n",
       "      <th>FWEIGHT</th>\n",
       "      <th>PROV</th>\n",
       "      <th>USZGAP</th>\n",
       "      <th>MBMREGP</th>\n",
       "      <th>AGEGP</th>\n",
       "      <th>SEX</th>\n",
       "      <th>MARSTP</th>\n",
       "      <th>...</th>\n",
       "      <th>MORTG</th>\n",
       "      <th>MORTGM</th>\n",
       "      <th>CONDMP</th>\n",
       "      <th>RENTM</th>\n",
       "      <th>RNSUB</th>\n",
       "      <th>CHNEED</th>\n",
       "      <th>FSCADLTM</th>\n",
       "      <th>FSCCHLDM</th>\n",
       "      <th>FSCHHLDM</th>\n",
       "      <th>VERDATE</th>\n",
       "    </tr>\n",
       "  </thead>\n",
       "  <tbody>\n",
       "    <tr>\n",
       "      <th>0</th>\n",
       "      <td>2018</td>\n",
       "      <td>2129</td>\n",
       "      <td>212901</td>\n",
       "      <td>208.9708</td>\n",
       "      <td>Ontario</td>\n",
       "      <td>CMA, population 100,000 to 499,999</td>\n",
       "      <td>Ontario, population 100,000 to 499,999</td>\n",
       "      <td>25 to 29 years</td>\n",
       "      <td>Female</td>\n",
       "      <td>Common-law</td>\n",
       "      <td>...</td>\n",
       "      <td>Yes</td>\n",
       "      <td>2000</td>\n",
       "      <td>Valid skip</td>\n",
       "      <td>Valid skip</td>\n",
       "      <td>Valid skip</td>\n",
       "      <td>Not in core housing need</td>\n",
       "      <td>Food secure</td>\n",
       "      <td>Valid skip</td>\n",
       "      <td>Food secure</td>\n",
       "      <td>13DEC2021</td>\n",
       "    </tr>\n",
       "    <tr>\n",
       "      <th>1</th>\n",
       "      <td>2018</td>\n",
       "      <td>2129</td>\n",
       "      <td>212902</td>\n",
       "      <td>208.9708</td>\n",
       "      <td>Ontario</td>\n",
       "      <td>CMA, population 100,000 to 499,999</td>\n",
       "      <td>Ontario, population 100,000 to 499,999</td>\n",
       "      <td>25 to 29 years</td>\n",
       "      <td>Male</td>\n",
       "      <td>Common-law</td>\n",
       "      <td>...</td>\n",
       "      <td>Yes</td>\n",
       "      <td>2000</td>\n",
       "      <td>Valid skip</td>\n",
       "      <td>Valid skip</td>\n",
       "      <td>Valid skip</td>\n",
       "      <td>Not in core housing need</td>\n",
       "      <td>Food secure</td>\n",
       "      <td>Valid skip</td>\n",
       "      <td>Food secure</td>\n",
       "      <td>13DEC2021</td>\n",
       "    </tr>\n",
       "    <tr>\n",
       "      <th>2</th>\n",
       "      <td>2018</td>\n",
       "      <td>2130</td>\n",
       "      <td>213001</td>\n",
       "      <td>1101.2217</td>\n",
       "      <td>British Columbia</td>\n",
       "      <td>CMA, population 500,000 and over</td>\n",
       "      <td>Vancouver, British Columbia</td>\n",
       "      <td>45 to 49 years</td>\n",
       "      <td>Female</td>\n",
       "      <td>Common-law</td>\n",
       "      <td>...</td>\n",
       "      <td>Valid skip</td>\n",
       "      <td>Valid skip</td>\n",
       "      <td>Valid skip</td>\n",
       "      <td>2900</td>\n",
       "      <td>No</td>\n",
       "      <td>Not in core housing need</td>\n",
       "      <td>Food secure</td>\n",
       "      <td>Valid skip</td>\n",
       "      <td>Food secure</td>\n",
       "      <td>13DEC2021</td>\n",
       "    </tr>\n",
       "    <tr>\n",
       "      <th>3</th>\n",
       "      <td>2018</td>\n",
       "      <td>2130</td>\n",
       "      <td>213002</td>\n",
       "      <td>1101.2217</td>\n",
       "      <td>British Columbia</td>\n",
       "      <td>CMA, population 500,000 and over</td>\n",
       "      <td>Vancouver, British Columbia</td>\n",
       "      <td>55 to 59 years</td>\n",
       "      <td>Female</td>\n",
       "      <td>Common-law</td>\n",
       "      <td>...</td>\n",
       "      <td>Valid skip</td>\n",
       "      <td>Valid skip</td>\n",
       "      <td>Valid skip</td>\n",
       "      <td>2900</td>\n",
       "      <td>No</td>\n",
       "      <td>Not in core housing need</td>\n",
       "      <td>Food secure</td>\n",
       "      <td>Valid skip</td>\n",
       "      <td>Food secure</td>\n",
       "      <td>13DEC2021</td>\n",
       "    </tr>\n",
       "    <tr>\n",
       "      <th>4</th>\n",
       "      <td>2018</td>\n",
       "      <td>2131</td>\n",
       "      <td>213101</td>\n",
       "      <td>165.3016</td>\n",
       "      <td>Saskatchewan</td>\n",
       "      <td>CMA, population 100,000 to 499,999</td>\n",
       "      <td>Saskatoon, Saskatchewan</td>\n",
       "      <td>55 to 59 years</td>\n",
       "      <td>Female</td>\n",
       "      <td>Married</td>\n",
       "      <td>...</td>\n",
       "      <td>Yes</td>\n",
       "      <td>1600</td>\n",
       "      <td>Valid skip</td>\n",
       "      <td>Valid skip</td>\n",
       "      <td>Valid skip</td>\n",
       "      <td>Not in core housing need</td>\n",
       "      <td>Food secure</td>\n",
       "      <td>Valid skip</td>\n",
       "      <td>Food secure</td>\n",
       "      <td>13DEC2021</td>\n",
       "    </tr>\n",
       "  </tbody>\n",
       "</table>\n",
       "<p>5 rows × 192 columns</p>\n",
       "</div>"
      ],
      "text/plain": [
       "   YEAR  PUMFID  PERSONID    FWEIGHT              PROV  \\\n",
       "0  2018    2129    212901   208.9708           Ontario   \n",
       "1  2018    2129    212902   208.9708           Ontario   \n",
       "2  2018    2130    213001  1101.2217  British Columbia   \n",
       "3  2018    2130    213002  1101.2217  British Columbia   \n",
       "4  2018    2131    213101   165.3016      Saskatchewan   \n",
       "\n",
       "                               USZGAP                                 MBMREGP  \\\n",
       "0  CMA, population 100,000 to 499,999  Ontario, population 100,000 to 499,999   \n",
       "1  CMA, population 100,000 to 499,999  Ontario, population 100,000 to 499,999   \n",
       "2    CMA, population 500,000 and over             Vancouver, British Columbia   \n",
       "3    CMA, population 500,000 and over             Vancouver, British Columbia   \n",
       "4  CMA, population 100,000 to 499,999                 Saskatoon, Saskatchewan   \n",
       "\n",
       "            AGEGP     SEX      MARSTP  ...       MORTG      MORTGM  \\\n",
       "0  25 to 29 years  Female  Common-law  ...         Yes        2000   \n",
       "1  25 to 29 years    Male  Common-law  ...         Yes        2000   \n",
       "2  45 to 49 years  Female  Common-law  ...  Valid skip  Valid skip   \n",
       "3  55 to 59 years  Female  Common-law  ...  Valid skip  Valid skip   \n",
       "4  55 to 59 years  Female     Married  ...         Yes        1600   \n",
       "\n",
       "       CONDMP       RENTM       RNSUB                    CHNEED     FSCADLTM  \\\n",
       "0  Valid skip  Valid skip  Valid skip  Not in core housing need  Food secure   \n",
       "1  Valid skip  Valid skip  Valid skip  Not in core housing need  Food secure   \n",
       "2  Valid skip        2900          No  Not in core housing need  Food secure   \n",
       "3  Valid skip        2900          No  Not in core housing need  Food secure   \n",
       "4  Valid skip  Valid skip  Valid skip  Not in core housing need  Food secure   \n",
       "\n",
       "     FSCCHLDM     FSCHHLDM     VERDATE  \n",
       "0  Valid skip  Food secure   13DEC2021  \n",
       "1  Valid skip  Food secure   13DEC2021  \n",
       "2  Valid skip  Food secure   13DEC2021  \n",
       "3  Valid skip  Food secure   13DEC2021  \n",
       "4  Valid skip  Food secure   13DEC2021  \n",
       "\n",
       "[5 rows x 192 columns]"
      ]
     },
     "execution_count": 3,
     "metadata": {},
     "output_type": "execute_result"
    }
   ],
   "source": [
    "# Load 2018 Canadian Income Survey\n",
    "CIS2018 = pd.read_csv(os.path.join(path, '02 Data', 'Original Data', 'cis_2018_en.csv'), index_col=False)\n",
    "CIS2018.head()"
   ]
  },
  {
   "cell_type": "code",
   "execution_count": 4,
   "id": "b9b6204c",
   "metadata": {},
   "outputs": [
    {
     "data": {
      "text/plain": [
       "(94336, 192)"
      ]
     },
     "execution_count": 4,
     "metadata": {},
     "output_type": "execute_result"
    }
   ],
   "source": [
    "# Check shape of CIS2018\n",
    "CIS2018.shape"
   ]
  },
  {
   "cell_type": "markdown",
   "id": "5e70bd22",
   "metadata": {},
   "source": [
    "# 03 Data Wrangling"
   ]
  },
  {
   "cell_type": "code",
   "execution_count": 5,
   "id": "638c79ea",
   "metadata": {},
   "outputs": [
    {
     "data": {
      "text/plain": [
       "2018    94336\n",
       "Name: YEAR, dtype: int64"
      ]
     },
     "execution_count": 5,
     "metadata": {},
     "output_type": "execute_result"
    }
   ],
   "source": [
    "# Check frequency table for year column\n",
    "CIS2018['YEAR'].value_counts()"
   ]
  },
  {
   "cell_type": "code",
   "execution_count": 6,
   "id": "5e1564a9",
   "metadata": {},
   "outputs": [],
   "source": [
    "# Remove year column, since it has only one value\n",
    "CIS2018 = CIS2018.drop(columns='YEAR')"
   ]
  },
  {
   "cell_type": "code",
   "execution_count": 7,
   "id": "487db974",
   "metadata": {},
   "outputs": [
    {
     "name": "stdout",
     "output_type": "stream",
     "text": [
      "<class 'pandas.core.frame.DataFrame'>\n",
      "RangeIndex: 94336 entries, 0 to 94335\n",
      "Data columns (total 191 columns):\n",
      " #    Column    Non-Null Count  Dtype  \n",
      "---   ------    --------------  -----  \n",
      " 0    PUMFID    94336 non-null  int64  \n",
      " 1    PERSONID  94336 non-null  int64  \n",
      " 2    FWEIGHT   94336 non-null  float64\n",
      " 3    PROV      94336 non-null  object \n",
      " 4    USZGAP    94336 non-null  object \n",
      " 5    MBMREGP   94336 non-null  object \n",
      " 6    AGEGP     94336 non-null  object \n",
      " 7    SEX       94336 non-null  object \n",
      " 8    MARSTP    94336 non-null  object \n",
      " 9    CMPHI     94336 non-null  object \n",
      " 10   HLEV2G    94336 non-null  object \n",
      " 11   STUDTFP   94336 non-null  object \n",
      " 12   FLLPRTP   94336 non-null  object \n",
      " 13   FWORKED   94336 non-null  object \n",
      " 14   SCSUM     94336 non-null  object \n",
      " 15   ALFST     94336 non-null  object \n",
      " 16   WKSEM     94336 non-null  object \n",
      " 17   WKSUEM    94336 non-null  object \n",
      " 18   WKSNLF    94336 non-null  object \n",
      " 19   USHRWK    94336 non-null  object \n",
      " 20   ALHRWK    94336 non-null  object \n",
      " 21   FPDWK     94336 non-null  object \n",
      " 22   FSEMP     94336 non-null  object \n",
      " 23   FUNFW     94336 non-null  object \n",
      " 24   IMMST     94336 non-null  object \n",
      " 25   YRIMMG    94336 non-null  object \n",
      " 26   ALIMO     94336 non-null  object \n",
      " 27   ALIP      94336 non-null  object \n",
      " 28   ATINC     94336 non-null  object \n",
      " 29   CAPGN     94336 non-null  object \n",
      " 30   CCAR      94336 non-null  object \n",
      " 31   CHFED     94336 non-null  object \n",
      " 32   CHPRV     94336 non-null  object \n",
      " 33   CHTXB     94336 non-null  object \n",
      " 34   CPQPP     94336 non-null  object \n",
      " 35   CQPC      94336 non-null  object \n",
      " 36   EARNG     94336 non-null  object \n",
      " 37   EIPR      94336 non-null  object \n",
      " 38   FDITX     94336 non-null  object \n",
      " 39   GI        94336 non-null  object \n",
      " 40   GSTXC     94336 non-null  object \n",
      " 41   GTR       94336 non-null  object \n",
      " 42   INCTX     94336 non-null  object \n",
      " 43   INVA      94336 non-null  object \n",
      " 44   MAJRI     94336 non-null  object \n",
      " 45   MTINC     94336 non-null  object \n",
      " 46   OAS       94336 non-null  object \n",
      " 47   OASGI     94336 non-null  object \n",
      " 48   OGOVTR    94336 non-null  object \n",
      " 49   OTHINC    94336 non-null  object \n",
      " 50   OTTXM     94336 non-null  object \n",
      " 51   PEN       94336 non-null  object \n",
      " 52   PENGIV    94336 non-null  object \n",
      " 53   PENREC    94336 non-null  object \n",
      " 54   PHPR      94336 non-null  object \n",
      " 55   PRPEN     94336 non-null  object \n",
      " 56   PVITX     94336 non-null  object \n",
      " 57   PVTXC     94336 non-null  object \n",
      " 58   RPPC      94336 non-null  object \n",
      " 59   RSPWI     94336 non-null  object \n",
      " 60   SAPIS     94336 non-null  object \n",
      " 61   SEMP      94336 non-null  object \n",
      " 62   TTINC     94336 non-null  object \n",
      " 63   UDPD      94336 non-null  object \n",
      " 64   UIBEN     94336 non-null  object \n",
      " 65   WGSAL     94336 non-null  object \n",
      " 66   WKRCP     94336 non-null  object \n",
      " 67   EFID      94336 non-null  object \n",
      " 68   EFSIZE    94336 non-null  int64  \n",
      " 69   EFTYP     94336 non-null  object \n",
      " 70   EFMJIE    94336 non-null  object \n",
      " 71   EFMJIEH   94336 non-null  object \n",
      " 72   EFRMJIG   94336 non-null  object \n",
      " 73   EFAGOFMP  94336 non-null  object \n",
      " 74   EFAGYFMP  94336 non-null  object \n",
      " 75   EFMJSI    94336 non-null  object \n",
      " 76   EFALIMO   94336 non-null  int64  \n",
      " 77   EFALIP    94336 non-null  int64  \n",
      " 78   EFATINC   94336 non-null  int64  \n",
      " 79   EFCAPGN   94336 non-null  int64  \n",
      " 80   EFCCAR    94336 non-null  int64  \n",
      " 81   EFCHFED   94336 non-null  int64  \n",
      " 82   EFCHPRV   94336 non-null  int64  \n",
      " 83   EFCHTXB   94336 non-null  int64  \n",
      " 84   EFCPQPP   94336 non-null  int64  \n",
      " 85   EFCQPC    94336 non-null  int64  \n",
      " 86   EFEARNG   94336 non-null  int64  \n",
      " 87   EFEIPR    94336 non-null  int64  \n",
      " 88   EFFDITX   94336 non-null  int64  \n",
      " 89   EFGI      94336 non-null  int64  \n",
      " 90   EFGSTXC   94336 non-null  int64  \n",
      " 91   EFGTR     94336 non-null  int64  \n",
      " 92   EFINCTX   94336 non-null  int64  \n",
      " 93   EFINVA    94336 non-null  int64  \n",
      " 94   EFMBIN18  94336 non-null  int64  \n",
      " 95   EFMTINC   94336 non-null  int64  \n",
      " 96   EFOAS     94336 non-null  int64  \n",
      " 97   EFOASGI   94336 non-null  int64  \n",
      " 98   EFOGOVTR  94336 non-null  int64  \n",
      " 99   EFOTHINC  94336 non-null  int64  \n",
      " 100  EFOTTXM   94336 non-null  int64  \n",
      " 101  EFPEN     94336 non-null  int64  \n",
      " 102  EFPENGIV  94336 non-null  int64  \n",
      " 103  EFPENREC  94336 non-null  int64  \n",
      " 104  EFPHPR    94336 non-null  int64  \n",
      " 105  EFPRPEN   94336 non-null  int64  \n",
      " 106  EFPVITX   94336 non-null  int64  \n",
      " 107  EFPVTXC   94336 non-null  int64  \n",
      " 108  EFRPPC    94336 non-null  int64  \n",
      " 109  EFRSPWI   94336 non-null  int64  \n",
      " 110  EFSAPIS   94336 non-null  int64  \n",
      " 111  EFSEMP    94336 non-null  int64  \n",
      " 112  EFTTINC   94336 non-null  int64  \n",
      " 113  EFUDPD    94336 non-null  int64  \n",
      " 114  EFUIBEN   94336 non-null  int64  \n",
      " 115  EFWGSAL   94336 non-null  int64  \n",
      " 116  EFWKRCP   94336 non-null  int64  \n",
      " 117  CFID      94336 non-null  object \n",
      " 118  CFSIZE    94336 non-null  int64  \n",
      " 119  CFCOMP    94336 non-null  object \n",
      " 120  CFMJIE    94336 non-null  object \n",
      " 121  CFMJIEH   94336 non-null  object \n",
      " 122  CFRMJIG   94336 non-null  object \n",
      " 123  CFAGOFMP  94336 non-null  object \n",
      " 124  CFAGYFMP  94336 non-null  object \n",
      " 125  CFMJSI    94336 non-null  object \n",
      " 126  CFALIMO   94336 non-null  int64  \n",
      " 127  CFALIP    94336 non-null  int64  \n",
      " 128  CFATINC   94336 non-null  int64  \n",
      " 129  CFCAPGN   94336 non-null  int64  \n",
      " 130  CFCCAR    94336 non-null  int64  \n",
      " 131  CFCHFED   94336 non-null  int64  \n",
      " 132  CFCHPRV   94336 non-null  int64  \n",
      " 133  CFCHTXB   94336 non-null  int64  \n",
      " 134  CFCPQPP   94336 non-null  int64  \n",
      " 135  CFCQPC    94336 non-null  int64  \n",
      " 136  CFEARNG   94336 non-null  int64  \n",
      " 137  CFEIPR    94336 non-null  int64  \n",
      " 138  CFFDITX   94336 non-null  int64  \n",
      " 139  CFGI      94336 non-null  int64  \n",
      " 140  CFGSTXC   94336 non-null  int64  \n",
      " 141  CFGTR     94336 non-null  int64  \n",
      " 142  CFINCTX   94336 non-null  int64  \n",
      " 143  CFINVA    94336 non-null  int64  \n",
      " 144  CFMTINC   94336 non-null  int64  \n",
      " 145  CFOAS     94336 non-null  int64  \n",
      " 146  CFOASGI   94336 non-null  int64  \n",
      " 147  CFOGOVTR  94336 non-null  int64  \n",
      " 148  CFOTHINC  94336 non-null  int64  \n",
      " 149  CFOTTXM   94336 non-null  int64  \n",
      " 150  CFPEN     94336 non-null  int64  \n",
      " 151  CFPENGIV  94336 non-null  int64  \n",
      " 152  CFPENREC  94336 non-null  int64  \n",
      " 153  CFPHPR    94336 non-null  int64  \n",
      " 154  CFPRPEN   94336 non-null  int64  \n",
      " 155  CFPVITX   94336 non-null  int64  \n",
      " 156  CFPVTXC   94336 non-null  int64  \n",
      " 157  CFRPPC    94336 non-null  int64  \n",
      " 158  CFRSPWI   94336 non-null  int64  \n",
      " 159  CFSAPIS   94336 non-null  int64  \n",
      " 160  CFSEMP    94336 non-null  int64  \n",
      " 161  CFTTINC   94336 non-null  int64  \n",
      " 162  CFUDPD    94336 non-null  int64  \n",
      " 163  CFUIBEN   94336 non-null  int64  \n",
      " 164  CFWGSAL   94336 non-null  int64  \n",
      " 165  CFWKRCP   94336 non-null  int64  \n",
      " 166  HHSIZE    94336 non-null  int64  \n",
      " 167  HHCOMP    94336 non-null  object \n",
      " 168  HHMJIE    94336 non-null  object \n",
      " 169  LICODA    94336 non-null  object \n",
      " 170  LICOFA    94336 non-null  object \n",
      " 171  LICODB    94336 non-null  object \n",
      " 172  LICOFB    94336 non-null  object \n",
      " 173  LIMSDA    94336 non-null  object \n",
      " 174  LIMSFA    94336 non-null  object \n",
      " 175  MBSCD18   94336 non-null  object \n",
      " 176  MBSCF18   94336 non-null  object \n",
      " 177  DWLTYP    94336 non-null  object \n",
      " 178  DWTENR    94336 non-null  object \n",
      " 179  REPA      94336 non-null  object \n",
      " 180  SUIT      94336 non-null  object \n",
      " 181  MORTG     94336 non-null  object \n",
      " 182  MORTGM    94336 non-null  object \n",
      " 183  CONDMP    94336 non-null  object \n",
      " 184  RENTM     94336 non-null  object \n",
      " 185  RNSUB     94336 non-null  object \n",
      " 186  CHNEED    94336 non-null  object \n",
      " 187  FSCADLTM  94336 non-null  object \n",
      " 188  FSCCHLDM  94336 non-null  object \n",
      " 189  FSCHHLDM  94336 non-null  object \n",
      " 190  VERDATE   94336 non-null  object \n",
      "dtypes: float64(1), int64(86), object(104)\n",
      "memory usage: 137.5+ MB\n"
     ]
    }
   ],
   "source": [
    "# Look at column info for CIS2018\n",
    "CIS2018.info(verbose=True, show_counts=True)"
   ]
  },
  {
   "cell_type": "code",
   "execution_count": 8,
   "id": "3ea3a5e1",
   "metadata": {},
   "outputs": [],
   "source": [
    "# Rename columns for clarity and subset\n",
    "column_names={\n",
    "    'PUMFID':'household_id',\n",
    "    'PERSONID':'person_id',\n",
    "    'FWEIGHT':'sample_weight',\n",
    "    'PROV':'province',\n",
    "    'AGEGP':'age_group',\n",
    "    'SEX':'gender',\n",
    "    'MARSTP':'marital_status',\n",
    "    'ATINC':'after_tax_income', \n",
    "    'HHSIZE':'household_size',      \n",
    "    'HHCOMP':'household_composition',\n",
    "    'HHMJIE':'household_maj_income_flag',\n",
    "    'LICOFA':'after_tax_low_income_flag',\n",
    "    'LICOFB':'before_tax_low_income_flag',\n",
    "    'LIMSFA':'after_tax_below_lim_flag',\n",
    "    'MBSCF18':'disposable_income_below_mbm_flag',\n",
    "    'DWTENR':'ownership_of_dwelling',\n",
    "    'MORTGM':'monthly_mortgage_payment',\n",
    "    'CONDMP':'monthly_condo_fee',\n",
    "    'RENTM':'monthly_rent',\n",
    "    'RNSUB':'rent_subsidy_flag',\n",
    "    'CHNEED':'core_housing_need_indicator',\n",
    "    'FSCADLTM':'adult_food_security_status',\n",
    "    'FSCCHLDM':'child_food_security_status', \n",
    "    'FSCHHLDM':'household_food_security_status'}\n",
    "df = CIS2018.rename(columns=column_names)[[*column_names.values()]]"
   ]
  },
  {
   "cell_type": "code",
   "execution_count": 9,
   "id": "850f3466",
   "metadata": {},
   "outputs": [
    {
     "name": "stdout",
     "output_type": "stream",
     "text": [
      "<class 'pandas.core.frame.DataFrame'>\n",
      "RangeIndex: 94336 entries, 0 to 94335\n",
      "Data columns (total 24 columns):\n",
      " #   Column                            Non-Null Count  Dtype  \n",
      "---  ------                            --------------  -----  \n",
      " 0   household_id                      94336 non-null  int64  \n",
      " 1   person_id                         94336 non-null  int64  \n",
      " 2   sample_weight                     94336 non-null  float64\n",
      " 3   province                          94336 non-null  object \n",
      " 4   age_group                         94336 non-null  object \n",
      " 5   gender                            94336 non-null  object \n",
      " 6   marital_status                    94336 non-null  object \n",
      " 7   after_tax_income                  94336 non-null  object \n",
      " 8   household_size                    94336 non-null  int64  \n",
      " 9   household_composition             94336 non-null  object \n",
      " 10  household_maj_income_flag         94336 non-null  object \n",
      " 11  after_tax_low_income_flag         94336 non-null  object \n",
      " 12  before_tax_low_income_flag        94336 non-null  object \n",
      " 13  after_tax_below_lim_flag          94336 non-null  object \n",
      " 14  disposable_income_below_mbm_flag  94336 non-null  object \n",
      " 15  ownership_of_dwelling             94336 non-null  object \n",
      " 16  monthly_mortgage_payment          94336 non-null  object \n",
      " 17  monthly_condo_fee                 94336 non-null  object \n",
      " 18  monthly_rent                      94336 non-null  object \n",
      " 19  rent_subsidy_flag                 94336 non-null  object \n",
      " 20  core_housing_need_indicator       94336 non-null  object \n",
      " 21  adult_food_security_status        94336 non-null  object \n",
      " 22  child_food_security_status        94336 non-null  object \n",
      " 23  household_food_security_status    94336 non-null  object \n",
      "dtypes: float64(1), int64(3), object(20)\n",
      "memory usage: 17.3+ MB\n"
     ]
    }
   ],
   "source": [
    "# Check column names\n",
    "df.info(verbose=True, show_counts=True)"
   ]
  },
  {
   "cell_type": "markdown",
   "id": "89f80f82",
   "metadata": {},
   "source": [
    "#### The columns with object type are actually numeric, but they contain the value \"Valid Skip.\" This means the question was a followup question to one that was not applicable to the respondent."
   ]
  },
  {
   "cell_type": "code",
   "execution_count": 10,
   "id": "df172e7d",
   "metadata": {},
   "outputs": [],
   "source": [
    "# Replace \"Valid Skip\" with NaN and convert numerical object columns to numeric\n",
    "df['after_tax_income'] = pd.to_numeric(df['after_tax_income'], downcast='signed', errors='coerce')\n",
    "df['monthly_mortgage_payment'] = pd.to_numeric(df['monthly_mortgage_payment'], downcast='signed', errors='coerce')\n",
    "df['monthly_condo_fee'] = pd.to_numeric(df['monthly_condo_fee'], downcast='signed', errors='coerce')\n",
    "df['monthly_rent'] = pd.to_numeric(df['monthly_rent'], downcast='signed', errors='coerce')"
   ]
  },
  {
   "cell_type": "code",
   "execution_count": 11,
   "id": "8ccc5bca",
   "metadata": {},
   "outputs": [
    {
     "name": "stdout",
     "output_type": "stream",
     "text": [
      "<class 'pandas.core.frame.DataFrame'>\n",
      "RangeIndex: 94336 entries, 0 to 94335\n",
      "Data columns (total 24 columns):\n",
      " #   Column                            Non-Null Count  Dtype  \n",
      "---  ------                            --------------  -----  \n",
      " 0   household_id                      94336 non-null  int64  \n",
      " 1   person_id                         94336 non-null  int64  \n",
      " 2   sample_weight                     94336 non-null  float64\n",
      " 3   province                          94336 non-null  object \n",
      " 4   age_group                         94336 non-null  object \n",
      " 5   gender                            94336 non-null  object \n",
      " 6   marital_status                    94336 non-null  object \n",
      " 7   after_tax_income                  77148 non-null  float64\n",
      " 8   household_size                    94336 non-null  int64  \n",
      " 9   household_composition             94336 non-null  object \n",
      " 10  household_maj_income_flag         94336 non-null  object \n",
      " 11  after_tax_low_income_flag         94336 non-null  object \n",
      " 12  before_tax_low_income_flag        94336 non-null  object \n",
      " 13  after_tax_below_lim_flag          94336 non-null  object \n",
      " 14  disposable_income_below_mbm_flag  94336 non-null  object \n",
      " 15  ownership_of_dwelling             94336 non-null  object \n",
      " 16  monthly_mortgage_payment          45296 non-null  float64\n",
      " 17  monthly_condo_fee                 3818 non-null   float64\n",
      " 18  monthly_rent                      22157 non-null  float64\n",
      " 19  rent_subsidy_flag                 94336 non-null  object \n",
      " 20  core_housing_need_indicator       94336 non-null  object \n",
      " 21  adult_food_security_status        94336 non-null  object \n",
      " 22  child_food_security_status        94336 non-null  object \n",
      " 23  household_food_security_status    94336 non-null  object \n",
      "dtypes: float64(5), int64(3), object(16)\n",
      "memory usage: 17.3+ MB\n"
     ]
    }
   ],
   "source": [
    "df.info(verbose=True, show_counts=True)"
   ]
  },
  {
   "cell_type": "code",
   "execution_count": 12,
   "id": "b445a90e",
   "metadata": {},
   "outputs": [
    {
     "data": {
      "text/plain": [
       "(94336, 24)"
      ]
     },
     "execution_count": 12,
     "metadata": {},
     "output_type": "execute_result"
    }
   ],
   "source": [
    "# Check shape of subset\n",
    "df.shape"
   ]
  },
  {
   "cell_type": "markdown",
   "id": "85d392e8",
   "metadata": {},
   "source": [
    "# 04 Consistency Checks"
   ]
  },
  {
   "cell_type": "code",
   "execution_count": 13,
   "id": "0e8150e3",
   "metadata": {},
   "outputs": [],
   "source": [
    "# Check for mixed data types\n",
    "for col in df.columns.tolist():\n",
    "    weird = (df[[col]].applymap(type) != df[[col]].iloc[0].apply(type)).any(axis=1)\n",
    "    if len (df[weird]) > 0:\n",
    "        print(col)"
   ]
  },
  {
   "cell_type": "markdown",
   "id": "8a78fb09",
   "metadata": {},
   "source": [
    "#### There are no mixed types in the dataframe"
   ]
  },
  {
   "cell_type": "code",
   "execution_count": 14,
   "id": "ceaaf751",
   "metadata": {},
   "outputs": [
    {
     "data": {
      "text/plain": [
       "household_id                            0\n",
       "person_id                               0\n",
       "sample_weight                           0\n",
       "province                                0\n",
       "age_group                               0\n",
       "gender                                  0\n",
       "marital_status                          0\n",
       "after_tax_income                    17188\n",
       "household_size                          0\n",
       "household_composition                   0\n",
       "household_maj_income_flag               0\n",
       "after_tax_low_income_flag               0\n",
       "before_tax_low_income_flag              0\n",
       "after_tax_below_lim_flag                0\n",
       "disposable_income_below_mbm_flag        0\n",
       "ownership_of_dwelling                   0\n",
       "monthly_mortgage_payment            49040\n",
       "monthly_condo_fee                   90518\n",
       "monthly_rent                        72179\n",
       "rent_subsidy_flag                       0\n",
       "core_housing_need_indicator             0\n",
       "adult_food_security_status              0\n",
       "child_food_security_status              0\n",
       "household_food_security_status          0\n",
       "dtype: int64"
      ]
     },
     "execution_count": 14,
     "metadata": {},
     "output_type": "execute_result"
    }
   ],
   "source": [
    "# Check for missing observations in dataframe\n",
    "df.isnull().sum()"
   ]
  },
  {
   "cell_type": "markdown",
   "id": "061c2b01",
   "metadata": {},
   "source": [
    "#### Several columns have missing values. These are the values that were \"Valid Skip,\" because the question was not applicable to the respondent."
   ]
  },
  {
   "cell_type": "code",
   "execution_count": 15,
   "id": "57f578e0",
   "metadata": {},
   "outputs": [
    {
     "data": {
      "text/html": [
       "<div>\n",
       "<style scoped>\n",
       "    .dataframe tbody tr th:only-of-type {\n",
       "        vertical-align: middle;\n",
       "    }\n",
       "\n",
       "    .dataframe tbody tr th {\n",
       "        vertical-align: top;\n",
       "    }\n",
       "\n",
       "    .dataframe thead th {\n",
       "        text-align: right;\n",
       "    }\n",
       "</style>\n",
       "<table border=\"1\" class=\"dataframe\">\n",
       "  <thead>\n",
       "    <tr style=\"text-align: right;\">\n",
       "      <th></th>\n",
       "      <th>household_id</th>\n",
       "      <th>person_id</th>\n",
       "      <th>sample_weight</th>\n",
       "      <th>province</th>\n",
       "      <th>age_group</th>\n",
       "      <th>gender</th>\n",
       "      <th>marital_status</th>\n",
       "      <th>after_tax_income</th>\n",
       "      <th>household_size</th>\n",
       "      <th>household_composition</th>\n",
       "      <th>...</th>\n",
       "      <th>disposable_income_below_mbm_flag</th>\n",
       "      <th>ownership_of_dwelling</th>\n",
       "      <th>monthly_mortgage_payment</th>\n",
       "      <th>monthly_condo_fee</th>\n",
       "      <th>monthly_rent</th>\n",
       "      <th>rent_subsidy_flag</th>\n",
       "      <th>core_housing_need_indicator</th>\n",
       "      <th>adult_food_security_status</th>\n",
       "      <th>child_food_security_status</th>\n",
       "      <th>household_food_security_status</th>\n",
       "    </tr>\n",
       "  </thead>\n",
       "  <tbody>\n",
       "  </tbody>\n",
       "</table>\n",
       "<p>0 rows × 24 columns</p>\n",
       "</div>"
      ],
      "text/plain": [
       "Empty DataFrame\n",
       "Columns: [household_id, person_id, sample_weight, province, age_group, gender, marital_status, after_tax_income, household_size, household_composition, household_maj_income_flag, after_tax_low_income_flag, before_tax_low_income_flag, after_tax_below_lim_flag, disposable_income_below_mbm_flag, ownership_of_dwelling, monthly_mortgage_payment, monthly_condo_fee, monthly_rent, rent_subsidy_flag, core_housing_need_indicator, adult_food_security_status, child_food_security_status, household_food_security_status]\n",
       "Index: []\n",
       "\n",
       "[0 rows x 24 columns]"
      ]
     },
     "execution_count": 15,
     "metadata": {},
     "output_type": "execute_result"
    }
   ],
   "source": [
    "# Look for full duplicates in the dataframe\n",
    "df_dups2 = df[df.duplicated()]\n",
    "df_dups2"
   ]
  },
  {
   "cell_type": "markdown",
   "id": "36177f91",
   "metadata": {},
   "source": [
    "#### There are no duplicates in the dataframe"
   ]
  },
  {
   "cell_type": "code",
   "execution_count": 23,
   "id": "d808e136",
   "metadata": {},
   "outputs": [
    {
     "data": {
      "text/html": [
       "<div>\n",
       "<style scoped>\n",
       "    .dataframe tbody tr th:only-of-type {\n",
       "        vertical-align: middle;\n",
       "    }\n",
       "\n",
       "    .dataframe tbody tr th {\n",
       "        vertical-align: top;\n",
       "    }\n",
       "\n",
       "    .dataframe thead th {\n",
       "        text-align: right;\n",
       "    }\n",
       "</style>\n",
       "<table border=\"1\" class=\"dataframe\">\n",
       "  <thead>\n",
       "    <tr style=\"text-align: right;\">\n",
       "      <th></th>\n",
       "      <th>household_id</th>\n",
       "      <th>person_id</th>\n",
       "      <th>sample_weight</th>\n",
       "      <th>after_tax_income</th>\n",
       "      <th>household_size</th>\n",
       "      <th>monthly_mortgage_payment</th>\n",
       "      <th>monthly_condo_fee</th>\n",
       "      <th>monthly_rent</th>\n",
       "    </tr>\n",
       "  </thead>\n",
       "  <tbody>\n",
       "    <tr>\n",
       "      <th>count</th>\n",
       "      <td>94336.000000</td>\n",
       "      <td>9.433600e+04</td>\n",
       "      <td>94336.000000</td>\n",
       "      <td>77148.000000</td>\n",
       "      <td>94336.000000</td>\n",
       "      <td>45296.000000</td>\n",
       "      <td>3818.000000</td>\n",
       "      <td>22157.000000</td>\n",
       "    </tr>\n",
       "    <tr>\n",
       "      <th>mean</th>\n",
       "      <td>22547.906738</td>\n",
       "      <td>2.254793e+06</td>\n",
       "      <td>385.109248</td>\n",
       "      <td>40811.253565</td>\n",
       "      <td>2.999534</td>\n",
       "      <td>1309.479866</td>\n",
       "      <td>370.468832</td>\n",
       "      <td>994.290743</td>\n",
       "    </tr>\n",
       "    <tr>\n",
       "      <th>std</th>\n",
       "      <td>11773.647544</td>\n",
       "      <td>1.177365e+06</td>\n",
       "      <td>434.500281</td>\n",
       "      <td>34574.440637</td>\n",
       "      <td>1.426297</td>\n",
       "      <td>730.170307</td>\n",
       "      <td>236.895397</td>\n",
       "      <td>512.923249</td>\n",
       "    </tr>\n",
       "    <tr>\n",
       "      <th>min</th>\n",
       "      <td>2129.000000</td>\n",
       "      <td>2.129010e+05</td>\n",
       "      <td>10.003100</td>\n",
       "      <td>-133295.000000</td>\n",
       "      <td>1.000000</td>\n",
       "      <td>0.000000</td>\n",
       "      <td>0.000000</td>\n",
       "      <td>0.000000</td>\n",
       "    </tr>\n",
       "    <tr>\n",
       "      <th>25%</th>\n",
       "      <td>12379.000000</td>\n",
       "      <td>1.237902e+06</td>\n",
       "      <td>125.700500</td>\n",
       "      <td>19025.000000</td>\n",
       "      <td>2.000000</td>\n",
       "      <td>800.000000</td>\n",
       "      <td>250.000000</td>\n",
       "      <td>700.000000</td>\n",
       "    </tr>\n",
       "    <tr>\n",
       "      <th>50%</th>\n",
       "      <td>22507.500000</td>\n",
       "      <td>2.250752e+06</td>\n",
       "      <td>211.811550</td>\n",
       "      <td>34355.000000</td>\n",
       "      <td>3.000000</td>\n",
       "      <td>1200.000000</td>\n",
       "      <td>300.000000</td>\n",
       "      <td>900.000000</td>\n",
       "    </tr>\n",
       "    <tr>\n",
       "      <th>75%</th>\n",
       "      <td>32731.000000</td>\n",
       "      <td>3.273103e+06</td>\n",
       "      <td>462.710200</td>\n",
       "      <td>54435.000000</td>\n",
       "      <td>4.000000</td>\n",
       "      <td>1700.000000</td>\n",
       "      <td>450.000000</td>\n",
       "      <td>1300.000000</td>\n",
       "    </tr>\n",
       "    <tr>\n",
       "      <th>max</th>\n",
       "      <td>42985.000000</td>\n",
       "      <td>4.298502e+06</td>\n",
       "      <td>4808.771100</td>\n",
       "      <td>922020.000000</td>\n",
       "      <td>7.000000</td>\n",
       "      <td>4500.000000</td>\n",
       "      <td>1600.000000</td>\n",
       "      <td>3200.000000</td>\n",
       "    </tr>\n",
       "  </tbody>\n",
       "</table>\n",
       "</div>"
      ],
      "text/plain": [
       "       household_id     person_id  sample_weight  after_tax_income  \\\n",
       "count  94336.000000  9.433600e+04   94336.000000      77148.000000   \n",
       "mean   22547.906738  2.254793e+06     385.109248      40811.253565   \n",
       "std    11773.647544  1.177365e+06     434.500281      34574.440637   \n",
       "min     2129.000000  2.129010e+05      10.003100    -133295.000000   \n",
       "25%    12379.000000  1.237902e+06     125.700500      19025.000000   \n",
       "50%    22507.500000  2.250752e+06     211.811550      34355.000000   \n",
       "75%    32731.000000  3.273103e+06     462.710200      54435.000000   \n",
       "max    42985.000000  4.298502e+06    4808.771100     922020.000000   \n",
       "\n",
       "       household_size  monthly_mortgage_payment  monthly_condo_fee  \\\n",
       "count    94336.000000              45296.000000        3818.000000   \n",
       "mean         2.999534               1309.479866         370.468832   \n",
       "std          1.426297                730.170307         236.895397   \n",
       "min          1.000000                  0.000000           0.000000   \n",
       "25%          2.000000                800.000000         250.000000   \n",
       "50%          3.000000               1200.000000         300.000000   \n",
       "75%          4.000000               1700.000000         450.000000   \n",
       "max          7.000000               4500.000000        1600.000000   \n",
       "\n",
       "       monthly_rent  \n",
       "count  22157.000000  \n",
       "mean     994.290743  \n",
       "std      512.923249  \n",
       "min        0.000000  \n",
       "25%      700.000000  \n",
       "50%      900.000000  \n",
       "75%     1300.000000  \n",
       "max     3200.000000  "
      ]
     },
     "execution_count": 23,
     "metadata": {},
     "output_type": "execute_result"
    }
   ],
   "source": [
    "# Compute descriptive statistics\n",
    "df.describe()"
   ]
  },
  {
   "cell_type": "code",
   "execution_count": 24,
   "id": "54e29651",
   "metadata": {},
   "outputs": [],
   "source": [
    "df.describe().to_clipboard()"
   ]
  },
  {
   "cell_type": "code",
   "execution_count": 18,
   "id": "1d3c1773",
   "metadata": {},
   "outputs": [
    {
     "data": {
      "text/plain": [
       "Ontario                      25419\n",
       "Quebec                       17059\n",
       "British Columbia             10447\n",
       "Alberta                      10271\n",
       "Manitoba                      7681\n",
       "Saskatchewan                  7004\n",
       "Nova Scotia                   5111\n",
       "New Brunswick                 5049\n",
       "Newfoundland and Labrador     3625\n",
       "Prince Edward Island          2670\n",
       "Name: province, dtype: int64"
      ]
     },
     "execution_count": 18,
     "metadata": {},
     "output_type": "execute_result"
    }
   ],
   "source": [
    "# Check frequency table of location variable\n",
    "df['province'].value_counts()"
   ]
  },
  {
   "cell_type": "code",
   "execution_count": 19,
   "id": "43259482",
   "metadata": {},
   "outputs": [
    {
     "data": {
      "text/plain": [
       "Female    48054\n",
       "Male      46282\n",
       "Name: gender, dtype: int64"
      ]
     },
     "execution_count": 19,
     "metadata": {},
     "output_type": "execute_result"
    }
   ],
   "source": [
    "# Check frequency table of gender variable\n",
    "df['gender'].value_counts()"
   ]
  },
  {
   "cell_type": "code",
   "execution_count": 20,
   "id": "36599b54",
   "metadata": {},
   "outputs": [
    {
     "data": {
      "text/plain": [
       "(94336, 24)"
      ]
     },
     "execution_count": 20,
     "metadata": {},
     "output_type": "execute_result"
    }
   ],
   "source": [
    "# Check shape of data\n",
    "df.shape"
   ]
  },
  {
   "cell_type": "markdown",
   "id": "9503c587",
   "metadata": {},
   "source": [
    "# 05 Export cleaned dataframe"
   ]
  },
  {
   "cell_type": "code",
   "execution_count": 21,
   "id": "6f79d5e5",
   "metadata": {},
   "outputs": [],
   "source": [
    "# Export data to pkl\n",
    "df.to_pickle(os.path.join(path, '02 Data', 'Prepared Data', 'CIS2018_subset.pkl'))"
   ]
  }
 ],
 "metadata": {
  "kernelspec": {
   "display_name": "Python 3 (ipykernel)",
   "language": "python",
   "name": "python3"
  },
  "language_info": {
   "codemirror_mode": {
    "name": "ipython",
    "version": 3
   },
   "file_extension": ".py",
   "mimetype": "text/x-python",
   "name": "python",
   "nbconvert_exporter": "python",
   "pygments_lexer": "ipython3",
   "version": "3.9.12"
  }
 },
 "nbformat": 4,
 "nbformat_minor": 5
}
