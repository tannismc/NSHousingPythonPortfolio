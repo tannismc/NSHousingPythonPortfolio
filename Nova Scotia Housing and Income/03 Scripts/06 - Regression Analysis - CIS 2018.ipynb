{
 "cells": [
  {
   "cell_type": "markdown",
   "id": "69642314",
   "metadata": {},
   "source": [
    "# Tannis McCartney\n",
    "## June 22, 2022\n",
    "## Supervised Machine Learning: Regression Analysis"
   ]
  },
  {
   "cell_type": "markdown",
   "id": "1b9d9983",
   "metadata": {},
   "source": [
    "#### Table of Contents\n",
    "01 Import libraries and functions\n",
    "\n",
    "02 Import dataset\n",
    "\n",
    "03 Wrangle data for regression analysis\n",
    "\n",
    "04 Explore data\n",
    "\n",
    "05 Linear regression\n",
    "\n",
    "06 Discussion\n",
    "\n",
    "07 Test removing outliers\n",
    "\n",
    "08 Further discussion"
   ]
  },
  {
   "cell_type": "markdown",
   "id": "32f55385",
   "metadata": {},
   "source": [
    "# 01 Import libraries and functions"
   ]
  },
  {
   "cell_type": "code",
   "execution_count": 1,
   "id": "1152f236",
   "metadata": {},
   "outputs": [],
   "source": [
    "# Import libraries for analysis\n",
    "import pandas as pd\n",
    "import numpy as np"
   ]
  },
  {
   "cell_type": "code",
   "execution_count": 2,
   "id": "c86529b5",
   "metadata": {},
   "outputs": [],
   "source": [
    "# Import visualization libraries\n",
    "import seaborn as sns\n",
    "import matplotlib.pyplot as plt\n",
    "import matplotlib\n",
    "import os"
   ]
  },
  {
   "cell_type": "code",
   "execution_count": 3,
   "id": "b63f7f6f",
   "metadata": {},
   "outputs": [],
   "source": [
    "# Import scikit-learn library and functions\n",
    "import sklearn\n",
    "from sklearn.model_selection import train_test_split\n",
    "from sklearn.linear_model import LinearRegression\n",
    "from sklearn.metrics import mean_squared_error, r2_score"
   ]
  },
  {
   "cell_type": "markdown",
   "id": "fdfd7678",
   "metadata": {},
   "source": [
    "# 02 Import data"
   ]
  },
  {
   "cell_type": "code",
   "execution_count": 4,
   "id": "2a553dd2",
   "metadata": {},
   "outputs": [],
   "source": [
    "# Turn project folder path into a string\n",
    "path = r'C:\\Users\\tmmcc\\Google Drive\\Data Analytics Bootcamp\\6 Advanced Analytics and Dashboard Design\\Nova Scotia Housing and Income'  "
   ]
  },
  {
   "cell_type": "code",
   "execution_count": 5,
   "id": "41f36c87",
   "metadata": {},
   "outputs": [
    {
     "data": {
      "text/html": [
       "<div>\n",
       "<style scoped>\n",
       "    .dataframe tbody tr th:only-of-type {\n",
       "        vertical-align: middle;\n",
       "    }\n",
       "\n",
       "    .dataframe tbody tr th {\n",
       "        vertical-align: top;\n",
       "    }\n",
       "\n",
       "    .dataframe thead th {\n",
       "        text-align: right;\n",
       "    }\n",
       "</style>\n",
       "<table border=\"1\" class=\"dataframe\">\n",
       "  <thead>\n",
       "    <tr style=\"text-align: right;\">\n",
       "      <th></th>\n",
       "      <th>household_id</th>\n",
       "      <th>person_id</th>\n",
       "      <th>sample_weight</th>\n",
       "      <th>province</th>\n",
       "      <th>age_group</th>\n",
       "      <th>gender</th>\n",
       "      <th>marital_status</th>\n",
       "      <th>after_tax_income</th>\n",
       "      <th>household_size</th>\n",
       "      <th>household_composition</th>\n",
       "      <th>...</th>\n",
       "      <th>disposable_income_below_mbm_flag</th>\n",
       "      <th>ownership_of_dwelling</th>\n",
       "      <th>monthly_mortgage_payment</th>\n",
       "      <th>monthly_condo_fee</th>\n",
       "      <th>monthly_rent</th>\n",
       "      <th>rent_subsidy_flag</th>\n",
       "      <th>core_housing_need_indicator</th>\n",
       "      <th>adult_food_security_status</th>\n",
       "      <th>child_food_security_status</th>\n",
       "      <th>household_food_security_status</th>\n",
       "    </tr>\n",
       "  </thead>\n",
       "  <tbody>\n",
       "    <tr>\n",
       "      <th>0</th>\n",
       "      <td>2129</td>\n",
       "      <td>212901</td>\n",
       "      <td>208.9708</td>\n",
       "      <td>Ontario</td>\n",
       "      <td>25 to 29 years</td>\n",
       "      <td>Female</td>\n",
       "      <td>Common-law</td>\n",
       "      <td>44265.0</td>\n",
       "      <td>2</td>\n",
       "      <td>Two or more person household/One economic family</td>\n",
       "      <td>...</td>\n",
       "      <td>No</td>\n",
       "      <td>Owned by a member of the household</td>\n",
       "      <td>2000.0</td>\n",
       "      <td>NaN</td>\n",
       "      <td>NaN</td>\n",
       "      <td>Valid skip</td>\n",
       "      <td>Not in core housing need</td>\n",
       "      <td>Food secure</td>\n",
       "      <td>Valid skip</td>\n",
       "      <td>Food secure</td>\n",
       "    </tr>\n",
       "    <tr>\n",
       "      <th>1</th>\n",
       "      <td>2129</td>\n",
       "      <td>212902</td>\n",
       "      <td>208.9708</td>\n",
       "      <td>Ontario</td>\n",
       "      <td>25 to 29 years</td>\n",
       "      <td>Male</td>\n",
       "      <td>Common-law</td>\n",
       "      <td>42985.0</td>\n",
       "      <td>2</td>\n",
       "      <td>Two or more person household/One economic family</td>\n",
       "      <td>...</td>\n",
       "      <td>No</td>\n",
       "      <td>Owned by a member of the household</td>\n",
       "      <td>2000.0</td>\n",
       "      <td>NaN</td>\n",
       "      <td>NaN</td>\n",
       "      <td>Valid skip</td>\n",
       "      <td>Not in core housing need</td>\n",
       "      <td>Food secure</td>\n",
       "      <td>Valid skip</td>\n",
       "      <td>Food secure</td>\n",
       "    </tr>\n",
       "    <tr>\n",
       "      <th>2</th>\n",
       "      <td>2130</td>\n",
       "      <td>213001</td>\n",
       "      <td>1101.2217</td>\n",
       "      <td>British Columbia</td>\n",
       "      <td>45 to 49 years</td>\n",
       "      <td>Female</td>\n",
       "      <td>Common-law</td>\n",
       "      <td>82370.0</td>\n",
       "      <td>2</td>\n",
       "      <td>Two or more person household/One economic family</td>\n",
       "      <td>...</td>\n",
       "      <td>No</td>\n",
       "      <td>Not owned by a member of the household</td>\n",
       "      <td>NaN</td>\n",
       "      <td>NaN</td>\n",
       "      <td>2900.0</td>\n",
       "      <td>No</td>\n",
       "      <td>Not in core housing need</td>\n",
       "      <td>Food secure</td>\n",
       "      <td>Valid skip</td>\n",
       "      <td>Food secure</td>\n",
       "    </tr>\n",
       "    <tr>\n",
       "      <th>3</th>\n",
       "      <td>2130</td>\n",
       "      <td>213002</td>\n",
       "      <td>1101.2217</td>\n",
       "      <td>British Columbia</td>\n",
       "      <td>55 to 59 years</td>\n",
       "      <td>Female</td>\n",
       "      <td>Common-law</td>\n",
       "      <td>49105.0</td>\n",
       "      <td>2</td>\n",
       "      <td>Two or more person household/One economic family</td>\n",
       "      <td>...</td>\n",
       "      <td>No</td>\n",
       "      <td>Not owned by a member of the household</td>\n",
       "      <td>NaN</td>\n",
       "      <td>NaN</td>\n",
       "      <td>2900.0</td>\n",
       "      <td>No</td>\n",
       "      <td>Not in core housing need</td>\n",
       "      <td>Food secure</td>\n",
       "      <td>Valid skip</td>\n",
       "      <td>Food secure</td>\n",
       "    </tr>\n",
       "    <tr>\n",
       "      <th>4</th>\n",
       "      <td>2131</td>\n",
       "      <td>213101</td>\n",
       "      <td>165.3016</td>\n",
       "      <td>Saskatchewan</td>\n",
       "      <td>55 to 59 years</td>\n",
       "      <td>Female</td>\n",
       "      <td>Married</td>\n",
       "      <td>21000.0</td>\n",
       "      <td>2</td>\n",
       "      <td>Two or more person household/One economic family</td>\n",
       "      <td>...</td>\n",
       "      <td>No</td>\n",
       "      <td>Owned by a member of the household</td>\n",
       "      <td>1600.0</td>\n",
       "      <td>NaN</td>\n",
       "      <td>NaN</td>\n",
       "      <td>Valid skip</td>\n",
       "      <td>Not in core housing need</td>\n",
       "      <td>Food secure</td>\n",
       "      <td>Valid skip</td>\n",
       "      <td>Food secure</td>\n",
       "    </tr>\n",
       "  </tbody>\n",
       "</table>\n",
       "<p>5 rows × 24 columns</p>\n",
       "</div>"
      ],
      "text/plain": [
       "   household_id  person_id  sample_weight          province       age_group  \\\n",
       "0          2129     212901       208.9708           Ontario  25 to 29 years   \n",
       "1          2129     212902       208.9708           Ontario  25 to 29 years   \n",
       "2          2130     213001      1101.2217  British Columbia  45 to 49 years   \n",
       "3          2130     213002      1101.2217  British Columbia  55 to 59 years   \n",
       "4          2131     213101       165.3016      Saskatchewan  55 to 59 years   \n",
       "\n",
       "   gender marital_status  after_tax_income  household_size  \\\n",
       "0  Female     Common-law           44265.0               2   \n",
       "1    Male     Common-law           42985.0               2   \n",
       "2  Female     Common-law           82370.0               2   \n",
       "3  Female     Common-law           49105.0               2   \n",
       "4  Female        Married           21000.0               2   \n",
       "\n",
       "                              household_composition  ...  \\\n",
       "0  Two or more person household/One economic family  ...   \n",
       "1  Two or more person household/One economic family  ...   \n",
       "2  Two or more person household/One economic family  ...   \n",
       "3  Two or more person household/One economic family  ...   \n",
       "4  Two or more person household/One economic family  ...   \n",
       "\n",
       "  disposable_income_below_mbm_flag                   ownership_of_dwelling  \\\n",
       "0                               No      Owned by a member of the household   \n",
       "1                               No      Owned by a member of the household   \n",
       "2                               No  Not owned by a member of the household   \n",
       "3                               No  Not owned by a member of the household   \n",
       "4                               No      Owned by a member of the household   \n",
       "\n",
       "  monthly_mortgage_payment monthly_condo_fee monthly_rent rent_subsidy_flag  \\\n",
       "0                   2000.0               NaN          NaN        Valid skip   \n",
       "1                   2000.0               NaN          NaN        Valid skip   \n",
       "2                      NaN               NaN       2900.0                No   \n",
       "3                      NaN               NaN       2900.0                No   \n",
       "4                   1600.0               NaN          NaN        Valid skip   \n",
       "\n",
       "   core_housing_need_indicator  adult_food_security_status  \\\n",
       "0     Not in core housing need                 Food secure   \n",
       "1     Not in core housing need                 Food secure   \n",
       "2     Not in core housing need                 Food secure   \n",
       "3     Not in core housing need                 Food secure   \n",
       "4     Not in core housing need                 Food secure   \n",
       "\n",
       "   child_food_security_status household_food_security_status  \n",
       "0                  Valid skip                    Food secure  \n",
       "1                  Valid skip                    Food secure  \n",
       "2                  Valid skip                    Food secure  \n",
       "3                  Valid skip                    Food secure  \n",
       "4                  Valid skip                    Food secure  \n",
       "\n",
       "[5 rows x 24 columns]"
      ]
     },
     "execution_count": 5,
     "metadata": {},
     "output_type": "execute_result"
    }
   ],
   "source": [
    "# Load 2018 Canadian Income Survey\n",
    "CIS2018 = pd.read_pickle(os.path.join(path, '02 Data', 'Prepared Data', 'CIS2018_subset.pkl'))\n",
    "CIS2018.head()"
   ]
  },
  {
   "cell_type": "markdown",
   "id": "78077c47",
   "metadata": {},
   "source": [
    "# 03 Wrangle data for regression analysis"
   ]
  },
  {
   "cell_type": "code",
   "execution_count": 21,
   "id": "fc6a3509",
   "metadata": {},
   "outputs": [
    {
     "data": {
      "text/plain": [
       "(40857, 24)"
      ]
     },
     "execution_count": 21,
     "metadata": {},
     "output_type": "execute_result"
    }
   ],
   "source": [
    "# Create a subset to examine households only\n",
    "households2018 = CIS2018.loc[CIS2018['household_maj_income_flag']=='Yes']\n",
    "households2018.shape"
   ]
  },
  {
   "cell_type": "code",
   "execution_count": 22,
   "id": "c2f20dac",
   "metadata": {},
   "outputs": [
    {
     "name": "stderr",
     "output_type": "stream",
     "text": [
      "C:\\Users\\tmmcc\\AppData\\Local\\Temp\\ipykernel_1176\\1742693323.py:2: SettingWithCopyWarning: \n",
      "A value is trying to be set on a copy of a slice from a DataFrame.\n",
      "Try using .loc[row_indexer,col_indexer] = value instead\n",
      "\n",
      "See the caveats in the documentation: https://pandas.pydata.org/pandas-docs/stable/user_guide/indexing.html#returning-a-view-versus-a-copy\n",
      "  households2018['total_housing_costs'] = households2018[['monthly_mortgage_payment', 'monthly_condo_fee', 'monthly_rent']].sum(axis=1)\n"
     ]
    }
   ],
   "source": [
    "# Calculate total housing costs (rent vs mortgage (+ condo fees))\n",
    "households2018['total_housing_costs'] = households2018[['monthly_mortgage_payment', 'monthly_condo_fee', 'monthly_rent']].sum(axis=1)"
   ]
  },
  {
   "cell_type": "code",
   "execution_count": 23,
   "id": "ed5e80a5",
   "metadata": {},
   "outputs": [
    {
     "name": "stdout",
     "output_type": "stream",
     "text": [
      "<class 'pandas.core.frame.DataFrame'>\n",
      "Int64Index: 40857 entries, 0 to 94334\n",
      "Data columns (total 25 columns):\n",
      " #   Column                            Non-Null Count  Dtype  \n",
      "---  ------                            --------------  -----  \n",
      " 0   household_id                      40857 non-null  int64  \n",
      " 1   person_id                         40857 non-null  int64  \n",
      " 2   sample_weight                     40857 non-null  float64\n",
      " 3   province                          40857 non-null  object \n",
      " 4   age_group                         40857 non-null  object \n",
      " 5   gender                            40857 non-null  object \n",
      " 6   marital_status                    40857 non-null  object \n",
      " 7   after_tax_income                  40857 non-null  float64\n",
      " 8   household_size                    40857 non-null  int64  \n",
      " 9   household_composition             40857 non-null  object \n",
      " 10  household_maj_income_flag         40857 non-null  object \n",
      " 11  after_tax_low_income_flag         40857 non-null  object \n",
      " 12  before_tax_low_income_flag        40857 non-null  object \n",
      " 13  after_tax_below_lim_flag          40857 non-null  object \n",
      " 14  disposable_income_below_mbm_flag  40857 non-null  object \n",
      " 15  ownership_of_dwelling             40857 non-null  object \n",
      " 16  monthly_mortgage_payment          16142 non-null  float64\n",
      " 17  monthly_condo_fee                 2058 non-null   float64\n",
      " 18  monthly_rent                      11414 non-null  float64\n",
      " 19  rent_subsidy_flag                 40857 non-null  object \n",
      " 20  core_housing_need_indicator       40857 non-null  object \n",
      " 21  adult_food_security_status        40857 non-null  object \n",
      " 22  child_food_security_status        40857 non-null  object \n",
      " 23  household_food_security_status    40857 non-null  object \n",
      " 24  total_housing_costs               40857 non-null  float64\n",
      "dtypes: float64(6), int64(3), object(16)\n",
      "memory usage: 8.1+ MB\n"
     ]
    }
   ],
   "source": [
    "# Look at columns for households2018\n",
    "households2018.info()"
   ]
  },
  {
   "cell_type": "code",
   "execution_count": 26,
   "id": "2f57bab6",
   "metadata": {},
   "outputs": [
    {
     "data": {
      "text/html": [
       "<div>\n",
       "<style scoped>\n",
       "    .dataframe tbody tr th:only-of-type {\n",
       "        vertical-align: middle;\n",
       "    }\n",
       "\n",
       "    .dataframe tbody tr th {\n",
       "        vertical-align: top;\n",
       "    }\n",
       "\n",
       "    .dataframe thead th {\n",
       "        text-align: right;\n",
       "    }\n",
       "</style>\n",
       "<table border=\"1\" class=\"dataframe\">\n",
       "  <thead>\n",
       "    <tr style=\"text-align: right;\">\n",
       "      <th></th>\n",
       "      <th>after_tax_income</th>\n",
       "      <th>total_housing_costs</th>\n",
       "      <th>ownership_of_dwelling</th>\n",
       "    </tr>\n",
       "  </thead>\n",
       "  <tbody>\n",
       "    <tr>\n",
       "      <th>0</th>\n",
       "      <td>44265.0</td>\n",
       "      <td>2000.0</td>\n",
       "      <td>Owned by a member of the household</td>\n",
       "    </tr>\n",
       "    <tr>\n",
       "      <th>2</th>\n",
       "      <td>82370.0</td>\n",
       "      <td>2900.0</td>\n",
       "      <td>Not owned by a member of the household</td>\n",
       "    </tr>\n",
       "    <tr>\n",
       "      <th>5</th>\n",
       "      <td>112195.0</td>\n",
       "      <td>1600.0</td>\n",
       "      <td>Owned by a member of the household</td>\n",
       "    </tr>\n",
       "    <tr>\n",
       "      <th>6</th>\n",
       "      <td>70725.0</td>\n",
       "      <td>1700.0</td>\n",
       "      <td>Owned by a member of the household</td>\n",
       "    </tr>\n",
       "    <tr>\n",
       "      <th>11</th>\n",
       "      <td>32160.0</td>\n",
       "      <td>400.0</td>\n",
       "      <td>Owned by a member of the household</td>\n",
       "    </tr>\n",
       "  </tbody>\n",
       "</table>\n",
       "</div>"
      ],
      "text/plain": [
       "    after_tax_income  total_housing_costs  \\\n",
       "0            44265.0               2000.0   \n",
       "2            82370.0               2900.0   \n",
       "5           112195.0               1600.0   \n",
       "6            70725.0               1700.0   \n",
       "11           32160.0                400.0   \n",
       "\n",
       "                     ownership_of_dwelling  \n",
       "0       Owned by a member of the household  \n",
       "2   Not owned by a member of the household  \n",
       "5       Owned by a member of the household  \n",
       "6       Owned by a member of the household  \n",
       "11      Owned by a member of the household  "
      ]
     },
     "execution_count": 26,
     "metadata": {},
     "output_type": "execute_result"
    }
   ],
   "source": [
    "# Create a dataframe for regression analysis\n",
    "df = households2018[['after_tax_income', 'total_housing_costs', 'ownership_of_dwelling']]\n",
    "df.head()"
   ]
  },
  {
   "cell_type": "code",
   "execution_count": 28,
   "id": "c8f50eb6",
   "metadata": {},
   "outputs": [
    {
     "name": "stderr",
     "output_type": "stream",
     "text": [
      "C:\\Users\\tmmcc\\AppData\\Local\\Temp\\ipykernel_1176\\1172512909.py:2: SettingWithCopyWarning: \n",
      "A value is trying to be set on a copy of a slice from a DataFrame.\n",
      "Try using .loc[row_indexer,col_indexer] = value instead\n",
      "\n",
      "See the caveats in the documentation: https://pandas.pydata.org/pandas-docs/stable/user_guide/indexing.html#returning-a-view-versus-a-copy\n",
      "  df['ownership_of_dwelling'] = df['ownership_of_dwelling'].astype('string')\n"
     ]
    }
   ],
   "source": [
    "# Change ownership_of_dwelling to string\n",
    "df['ownership_of_dwelling'] = df['ownership_of_dwelling'].astype('string')"
   ]
  },
  {
   "cell_type": "code",
   "execution_count": 32,
   "id": "cf9287f3",
   "metadata": {},
   "outputs": [
    {
     "data": {
      "text/plain": [
       "<AxesSubplot:xlabel='total_housing_costs', ylabel='Count'>"
      ]
     },
     "execution_count": 32,
     "metadata": {},
     "output_type": "execute_result"
    },
    {
     "data": {
      "image/png": "[encoded data removed]",
      "text/plain": [
       "<Figure size 432x288 with 1 Axes>"
      ]
     },
     "metadata": {},
     "output_type": "display_data"
    }
   ],
   "source": [
    "# Check for extreme values\n",
    "sns.histplot(df['total_housing_costs'], bins=25, kde=True)"
   ]
  },
  {
   "cell_type": "code",
   "execution_count": 33,
   "id": "3420bef3",
   "metadata": {},
   "outputs": [
    {
     "data": {
      "text/html": [
       "<div>\n",
       "<style scoped>\n",
       "    .dataframe tbody tr th:only-of-type {\n",
       "        vertical-align: middle;\n",
       "    }\n",
       "\n",
       "    .dataframe tbody tr th {\n",
       "        vertical-align: top;\n",
       "    }\n",
       "\n",
       "    .dataframe thead th {\n",
       "        text-align: right;\n",
       "    }\n",
       "</style>\n",
       "<table border=\"1\" class=\"dataframe\">\n",
       "  <thead>\n",
       "    <tr style=\"text-align: right;\">\n",
       "      <th></th>\n",
       "      <th>after_tax_income</th>\n",
       "      <th>total_housing_costs</th>\n",
       "    </tr>\n",
       "  </thead>\n",
       "  <tbody>\n",
       "    <tr>\n",
       "      <th>count</th>\n",
       "      <td>40857.000000</td>\n",
       "      <td>40857.000000</td>\n",
       "    </tr>\n",
       "    <tr>\n",
       "      <th>mean</th>\n",
       "      <td>54336.474778</td>\n",
       "      <td>762.160707</td>\n",
       "    </tr>\n",
       "    <tr>\n",
       "      <th>std</th>\n",
       "      <td>38327.105756</td>\n",
       "      <td>743.958607</td>\n",
       "    </tr>\n",
       "    <tr>\n",
       "      <th>min</th>\n",
       "      <td>-98175.000000</td>\n",
       "      <td>0.000000</td>\n",
       "    </tr>\n",
       "    <tr>\n",
       "      <th>25%</th>\n",
       "      <td>30815.000000</td>\n",
       "      <td>0.000000</td>\n",
       "    </tr>\n",
       "    <tr>\n",
       "      <th>50%</th>\n",
       "      <td>46620.000000</td>\n",
       "      <td>700.000000</td>\n",
       "    </tr>\n",
       "    <tr>\n",
       "      <th>75%</th>\n",
       "      <td>68015.000000</td>\n",
       "      <td>1200.000000</td>\n",
       "    </tr>\n",
       "    <tr>\n",
       "      <th>max</th>\n",
       "      <td>922020.000000</td>\n",
       "      <td>5100.000000</td>\n",
       "    </tr>\n",
       "  </tbody>\n",
       "</table>\n",
       "</div>"
      ],
      "text/plain": [
       "       after_tax_income  total_housing_costs\n",
       "count      40857.000000         40857.000000\n",
       "mean       54336.474778           762.160707\n",
       "std        38327.105756           743.958607\n",
       "min       -98175.000000             0.000000\n",
       "25%        30815.000000             0.000000\n",
       "50%        46620.000000           700.000000\n",
       "75%        68015.000000          1200.000000\n",
       "max       922020.000000          5100.000000"
      ]
     },
     "execution_count": 33,
     "metadata": {},
     "output_type": "execute_result"
    }
   ],
   "source": [
    "# Check descriptive statistics\n",
    "df.describe()"
   ]
  },
  {
   "cell_type": "code",
   "execution_count": 35,
   "id": "7eecb971",
   "metadata": {},
   "outputs": [
    {
     "data": {
      "text/plain": [
       "700.0"
      ]
     },
     "execution_count": 35,
     "metadata": {},
     "output_type": "execute_result"
    }
   ],
   "source": [
    "# Check the median\n",
    "df['total_housing_costs'].median()"
   ]
  },
  {
   "cell_type": "markdown",
   "id": "c591201a",
   "metadata": {},
   "source": [
    "# 04 Explore data"
   ]
  },
  {
   "cell_type": "code",
   "execution_count": 34,
   "id": "e7be2e18",
   "metadata": {},
   "outputs": [
    {
     "data": {
      "image/png": "[encoded data removed]",
      "text/plain": [
       "<Figure size 432x288 with 1 Axes>"
      ]
     },
     "metadata": {},
     "output_type": "display_data"
    }
   ],
   "source": [
    "# Create a scatter plot\n",
    "df.plot(x=\"after_tax_income\", y=\"total_housing_costs\", style = 'o')\n",
    "plt.title('After-tax Income vs Monthly Housing Costs')\n",
    "plt.xlabel('after-tax income')\n",
    "plt.ylabel('total monthly housing costs')\n",
    "plt.show()"
   ]
  },
  {
   "cell_type": "markdown",
   "id": "baea119e",
   "metadata": {},
   "source": [
    "**Hypothesis**: The higher someone's after-tax income, the higher their total housing costs."
   ]
  },
  {
   "cell_type": "code",
   "execution_count": 36,
   "id": "9fba7b6c",
   "metadata": {},
   "outputs": [],
   "source": [
    "# Reshape the variables into separate NumPy arrays\n",
    "X = df['after_tax_income'].values.reshape(-1,1)\n",
    "y = df['total_housing_costs'].values.reshape(-1,1)"
   ]
  },
  {
   "cell_type": "code",
   "execution_count": 37,
   "id": "e85b5615",
   "metadata": {},
   "outputs": [
    {
     "data": {
      "text/plain": [
       "array([[ 44265.],\n",
       "       [ 82370.],\n",
       "       [112195.],\n",
       "       ...,\n",
       "       [ 58070.],\n",
       "       [ 23425.],\n",
       "       [ 53835.]])"
      ]
     },
     "execution_count": 37,
     "metadata": {},
     "output_type": "execute_result"
    }
   ],
   "source": [
    "X"
   ]
  },
  {
   "cell_type": "code",
   "execution_count": 38,
   "id": "4f8301af",
   "metadata": {},
   "outputs": [
    {
     "data": {
      "text/plain": [
       "array([[2000.],\n",
       "       [2900.],\n",
       "       [1600.],\n",
       "       ...,\n",
       "       [ 700.],\n",
       "       [ 500.],\n",
       "       [ 900.]])"
      ]
     },
     "execution_count": 38,
     "metadata": {},
     "output_type": "execute_result"
    }
   ],
   "source": [
    "y"
   ]
  },
  {
   "cell_type": "code",
   "execution_count": 41,
   "id": "97223b83",
   "metadata": {},
   "outputs": [],
   "source": [
    "# Split the data into a training set and a test set\n",
    "X_train, X_test, y_train, y_test = train_test_split(X, y, test_size=0.3, random_state=0)"
   ]
  },
  {
   "cell_type": "markdown",
   "id": "1170ea90",
   "metadata": {},
   "source": [
    "# 05 Linear Regression"
   ]
  },
  {
   "cell_type": "code",
   "execution_count": 39,
   "id": "4a3b7dd7",
   "metadata": {},
   "outputs": [],
   "source": [
    "# Create a regression object\n",
    "regression = LinearRegression()"
   ]
  },
  {
   "cell_type": "code",
   "execution_count": 42,
   "id": "cb332e95",
   "metadata": {},
   "outputs": [
    {
     "data": {
      "text/plain": [
       "LinearRegression()"
      ]
     },
     "execution_count": 42,
     "metadata": {},
     "output_type": "execute_result"
    }
   ],
   "source": [
    "# Fit the regression object onto the training set\n",
    "regression.fit(X_train, y_train)"
   ]
  },
  {
   "cell_type": "code",
   "execution_count": 43,
   "id": "43fc5550",
   "metadata": {},
   "outputs": [],
   "source": [
    "# Predict the values of y using X\n",
    "y_predicted = regression.predict(X_test)"
   ]
  },
  {
   "cell_type": "code",
   "execution_count": 44,
   "id": "6e5df6a8",
   "metadata": {},
   "outputs": [
    {
     "data": {
      "image/png": "[encoded data removed]",
      "text/plain": [
       "<Figure size 432x288 with 1 Axes>"
      ]
     },
     "metadata": {},
     "output_type": "display_data"
    }
   ],
   "source": [
    "# Create a plot showing the model regression line and the test set\n",
    "plot_test = plt\n",
    "plot_test.scatter(X_test, y_test, color='gray', s = 15)\n",
    "plot_test.plot(X_test, y_predicted, color='red', linewidth =3)\n",
    "plot_test.title('Test set: After-tax Income vs Monthly Housing Costs')\n",
    "plot_test.xlabel('After-tax income')\n",
    "plot_test.ylabel('Monthly housing costs')\n",
    "plot_test.show()"
   ]
  },
  {
   "cell_type": "markdown",
   "id": "ed49aaa2",
   "metadata": {},
   "source": [
    "This line is not a good fit to the data. It seems to fit the possible outliers better than it fits the main cluster of data."
   ]
  },
  {
   "cell_type": "code",
   "execution_count": 45,
   "id": "1e22464e",
   "metadata": {},
   "outputs": [],
   "source": [
    "# Create objects for the root mean squared error and R-squared\n",
    "rmse = mean_squared_error(y_test, y_predicted)\n",
    "r2 = r2_score(y_test, y_predicted)"
   ]
  },
  {
   "cell_type": "code",
   "execution_count": 46,
   "id": "b1300af9",
   "metadata": {},
   "outputs": [
    {
     "name": "stdout",
     "output_type": "stream",
     "text": [
      "Slope: [[0.00451669]]\n",
      "Mean squared error:  533265.978049733\n",
      "R2 score:  0.05416793285890498\n"
     ]
    }
   ],
   "source": [
    "# Print the model summary statistics\n",
    "print('Slope:' ,regression.coef_)\n",
    "print('Mean squared error: ', rmse)\n",
    "print('R2 score: ', r2)"
   ]
  },
  {
   "cell_type": "code",
   "execution_count": 47,
   "id": "68ea04c8",
   "metadata": {},
   "outputs": [
    {
     "data": {
      "text/plain": [
       "array([[590.11242828],\n",
       "       [795.64425812],\n",
       "       [806.19072165],\n",
       "       ...,\n",
       "       [713.98256197],\n",
       "       [828.25473635],\n",
       "       [713.23730866]])"
      ]
     },
     "execution_count": 47,
     "metadata": {},
     "output_type": "execute_result"
    }
   ],
   "source": [
    "y_predicted"
   ]
  },
  {
   "cell_type": "code",
   "execution_count": 48,
   "id": "1a1639eb",
   "metadata": {},
   "outputs": [
    {
     "data": {
      "text/html": [
       "<div>\n",
       "<style scoped>\n",
       "    .dataframe tbody tr th:only-of-type {\n",
       "        vertical-align: middle;\n",
       "    }\n",
       "\n",
       "    .dataframe tbody tr th {\n",
       "        vertical-align: top;\n",
       "    }\n",
       "\n",
       "    .dataframe thead th {\n",
       "        text-align: right;\n",
       "    }\n",
       "</style>\n",
       "<table border=\"1\" class=\"dataframe\">\n",
       "  <thead>\n",
       "    <tr style=\"text-align: right;\">\n",
       "      <th></th>\n",
       "      <th>Actual</th>\n",
       "      <th>Predicted</th>\n",
       "    </tr>\n",
       "  </thead>\n",
       "  <tbody>\n",
       "    <tr>\n",
       "      <th>0</th>\n",
       "      <td>300.0</td>\n",
       "      <td>590.112428</td>\n",
       "    </tr>\n",
       "    <tr>\n",
       "      <th>1</th>\n",
       "      <td>1100.0</td>\n",
       "      <td>795.644258</td>\n",
       "    </tr>\n",
       "    <tr>\n",
       "      <th>2</th>\n",
       "      <td>1200.0</td>\n",
       "      <td>806.190722</td>\n",
       "    </tr>\n",
       "    <tr>\n",
       "      <th>3</th>\n",
       "      <td>0.0</td>\n",
       "      <td>654.249380</td>\n",
       "    </tr>\n",
       "    <tr>\n",
       "      <th>4</th>\n",
       "      <td>1700.0</td>\n",
       "      <td>826.289978</td>\n",
       "    </tr>\n",
       "    <tr>\n",
       "      <th>5</th>\n",
       "      <td>0.0</td>\n",
       "      <td>699.009745</td>\n",
       "    </tr>\n",
       "    <tr>\n",
       "      <th>6</th>\n",
       "      <td>500.0</td>\n",
       "      <td>673.603383</td>\n",
       "    </tr>\n",
       "    <tr>\n",
       "      <th>7</th>\n",
       "      <td>1200.0</td>\n",
       "      <td>853.796600</td>\n",
       "    </tr>\n",
       "    <tr>\n",
       "      <th>8</th>\n",
       "      <td>0.0</td>\n",
       "      <td>888.394420</td>\n",
       "    </tr>\n",
       "    <tr>\n",
       "      <th>9</th>\n",
       "      <td>2300.0</td>\n",
       "      <td>911.271439</td>\n",
       "    </tr>\n",
       "    <tr>\n",
       "      <th>10</th>\n",
       "      <td>0.0</td>\n",
       "      <td>746.480123</td>\n",
       "    </tr>\n",
       "    <tr>\n",
       "      <th>11</th>\n",
       "      <td>0.0</td>\n",
       "      <td>782.929785</td>\n",
       "    </tr>\n",
       "    <tr>\n",
       "      <th>12</th>\n",
       "      <td>1000.0</td>\n",
       "      <td>520.623203</td>\n",
       "    </tr>\n",
       "    <tr>\n",
       "      <th>13</th>\n",
       "      <td>600.0</td>\n",
       "      <td>694.086557</td>\n",
       "    </tr>\n",
       "    <tr>\n",
       "      <th>14</th>\n",
       "      <td>0.0</td>\n",
       "      <td>723.693438</td>\n",
       "    </tr>\n",
       "    <tr>\n",
       "      <th>15</th>\n",
       "      <td>600.0</td>\n",
       "      <td>598.197298</td>\n",
       "    </tr>\n",
       "    <tr>\n",
       "      <th>16</th>\n",
       "      <td>2100.0</td>\n",
       "      <td>1067.232631</td>\n",
       "    </tr>\n",
       "    <tr>\n",
       "      <th>17</th>\n",
       "      <td>700.0</td>\n",
       "      <td>591.986853</td>\n",
       "    </tr>\n",
       "    <tr>\n",
       "      <th>18</th>\n",
       "      <td>1000.0</td>\n",
       "      <td>804.113046</td>\n",
       "    </tr>\n",
       "    <tr>\n",
       "      <th>19</th>\n",
       "      <td>1300.0</td>\n",
       "      <td>722.790101</td>\n",
       "    </tr>\n",
       "    <tr>\n",
       "      <th>20</th>\n",
       "      <td>400.0</td>\n",
       "      <td>614.005701</td>\n",
       "    </tr>\n",
       "    <tr>\n",
       "      <th>21</th>\n",
       "      <td>1000.0</td>\n",
       "      <td>659.127402</td>\n",
       "    </tr>\n",
       "    <tr>\n",
       "      <th>22</th>\n",
       "      <td>0.0</td>\n",
       "      <td>1181.143471</td>\n",
       "    </tr>\n",
       "    <tr>\n",
       "      <th>23</th>\n",
       "      <td>700.0</td>\n",
       "      <td>930.467357</td>\n",
       "    </tr>\n",
       "    <tr>\n",
       "      <th>24</th>\n",
       "      <td>2100.0</td>\n",
       "      <td>873.218353</td>\n",
       "    </tr>\n",
       "    <tr>\n",
       "      <th>25</th>\n",
       "      <td>2600.0</td>\n",
       "      <td>1315.130983</td>\n",
       "    </tr>\n",
       "    <tr>\n",
       "      <th>26</th>\n",
       "      <td>600.0</td>\n",
       "      <td>675.161639</td>\n",
       "    </tr>\n",
       "    <tr>\n",
       "      <th>27</th>\n",
       "      <td>1800.0</td>\n",
       "      <td>682.117337</td>\n",
       "    </tr>\n",
       "    <tr>\n",
       "      <th>28</th>\n",
       "      <td>600.0</td>\n",
       "      <td>649.913361</td>\n",
       "    </tr>\n",
       "    <tr>\n",
       "      <th>29</th>\n",
       "      <td>0.0</td>\n",
       "      <td>852.306093</td>\n",
       "    </tr>\n",
       "  </tbody>\n",
       "</table>\n",
       "</div>"
      ],
      "text/plain": [
       "    Actual    Predicted\n",
       "0    300.0   590.112428\n",
       "1   1100.0   795.644258\n",
       "2   1200.0   806.190722\n",
       "3      0.0   654.249380\n",
       "4   1700.0   826.289978\n",
       "5      0.0   699.009745\n",
       "6    500.0   673.603383\n",
       "7   1200.0   853.796600\n",
       "8      0.0   888.394420\n",
       "9   2300.0   911.271439\n",
       "10     0.0   746.480123\n",
       "11     0.0   782.929785\n",
       "12  1000.0   520.623203\n",
       "13   600.0   694.086557\n",
       "14     0.0   723.693438\n",
       "15   600.0   598.197298\n",
       "16  2100.0  1067.232631\n",
       "17   700.0   591.986853\n",
       "18  1000.0   804.113046\n",
       "19  1300.0   722.790101\n",
       "20   400.0   614.005701\n",
       "21  1000.0   659.127402\n",
       "22     0.0  1181.143471\n",
       "23   700.0   930.467357\n",
       "24  2100.0   873.218353\n",
       "25  2600.0  1315.130983\n",
       "26   600.0   675.161639\n",
       "27  1800.0   682.117337\n",
       "28   600.0   649.913361\n",
       "29     0.0   852.306093"
      ]
     },
     "execution_count": 48,
     "metadata": {},
     "output_type": "execute_result"
    }
   ],
   "source": [
    "# Compare actual and predicted y values in a dataframe\n",
    "data = pd.DataFrame({'Actual': y_test.flatten(), 'Predicted': y_predicted.flatten()})\n",
    "data.head(30)"
   ]
  },
  {
   "cell_type": "markdown",
   "id": "a0665fb7",
   "metadata": {},
   "source": [
    "# 06 Discussion"
   ]
  },
  {
   "cell_type": "markdown",
   "id": "863d2af4",
   "metadata": {},
   "source": [
    "The model did not perform well on the test set. The rmse is very high and the R2 is very low.\n",
    "\n",
    "This could be because of extreme values (negative after-tax-income or 0 monthly housing costs).\n",
    "\n",
    "Do the people with zero housing costs live in fully subsidized housing, or own their homes outright? Probably a mix of both. Plotting the data with categorical variables might help."
   ]
  },
  {
   "cell_type": "code",
   "execution_count": 51,
   "id": "b8dbee53",
   "metadata": {},
   "outputs": [
    {
     "name": "stderr",
     "output_type": "stream",
     "text": [
      "C:\\Users\\tmmcc\\anaconda3\\lib\\site-packages\\seaborn\\_decorators.py:36: FutureWarning: Pass the following variables as keyword args: x, y. From version 0.12, the only valid positional argument will be `data`, and passing other arguments without an explicit keyword will result in an error or misinterpretation.\n",
      "  warnings.warn(\n"
     ]
    },
    {
     "data": {
      "image/png": "[encoded data removed]",
      "text/plain": [
       "<Figure size 432x288 with 1 Axes>"
      ]
     },
     "metadata": {},
     "output_type": "display_data"
    }
   ],
   "source": [
    "# Create a new scatterplot of the data\n",
    "sns.scatterplot('after_tax_income', 'total_housing_costs', data=df, hue='ownership_of_dwelling')\n",
    "plt.show()"
   ]
  },
  {
   "cell_type": "markdown",
   "id": "ad827c08",
   "metadata": {},
   "source": [
    "It looks like everyone with zero housing costs owns their home. Most of the people with negative after-tax-income also appear to own their home. My untestable hunch is that they got a lot of tax credits etc that year, and were owed taxes (this variable comes from tax returns)."
   ]
  },
  {
   "cell_type": "markdown",
   "id": "f5111baf",
   "metadata": {},
   "source": [
    "# 07 Test removing outliers"
   ]
  },
  {
   "cell_type": "code",
   "execution_count": 53,
   "id": "1bb9a6ec",
   "metadata": {},
   "outputs": [],
   "source": [
    "# Remove the negative incomes\n",
    "df_test = df[df['after_tax_income'] > 0]"
   ]
  },
  {
   "cell_type": "code",
   "execution_count": 54,
   "id": "c27b7dac",
   "metadata": {},
   "outputs": [],
   "source": [
    "# Remove the zero housing costs\n",
    "df_test = df_test[df_test['total_housing_costs'] > 0]"
   ]
  },
  {
   "cell_type": "code",
   "execution_count": 55,
   "id": "23e70eb8",
   "metadata": {},
   "outputs": [
    {
     "data": {
      "image/png": "[encoded data removed]",
      "text/plain": [
       "<Figure size 432x288 with 1 Axes>"
      ]
     },
     "metadata": {},
     "output_type": "display_data"
    }
   ],
   "source": [
    "# Check scatterplot without extreme values\n",
    "df_test.plot(x=\"after_tax_income\", y=\"total_housing_costs\", style = 'o')\n",
    "plt.title('After-tax Income vs Monthly Housing Costs')\n",
    "plt.xlabel('after-tax income')\n",
    "plt.ylabel('total monthly housing costs')\n",
    "plt.show()"
   ]
  },
  {
   "cell_type": "code",
   "execution_count": 56,
   "id": "f5cb4ee2",
   "metadata": {},
   "outputs": [],
   "source": [
    "# Reshape the variables into separate NumPy arrays\n",
    "X_2 = df_test['after_tax_income'].values.reshape(-1,1)\n",
    "y_2 = df_test['total_housing_costs'].values.reshape(-1,1)"
   ]
  },
  {
   "cell_type": "code",
   "execution_count": 57,
   "id": "d9c870ab",
   "metadata": {},
   "outputs": [],
   "source": [
    "# Split the data into a training set and a test set\n",
    "X_2_train, X_2_test, y_2_train, y_2_test = train_test_split(X_2, y_2, test_size=0.3, random_state=0)"
   ]
  },
  {
   "cell_type": "code",
   "execution_count": 58,
   "id": "0fcd71b5",
   "metadata": {},
   "outputs": [
    {
     "data": {
      "text/plain": [
       "LinearRegression()"
      ]
     },
     "execution_count": 58,
     "metadata": {},
     "output_type": "execute_result"
    }
   ],
   "source": [
    "# Regression\n",
    "regression = LinearRegression()\n",
    "regression.fit(X_2_train, y_2_train)"
   ]
  },
  {
   "cell_type": "code",
   "execution_count": 59,
   "id": "6f06e1f6",
   "metadata": {},
   "outputs": [],
   "source": [
    "# Predict the values of y using X\n",
    "y_2_predicted = regression.predict(X_2_test)"
   ]
  },
  {
   "cell_type": "code",
   "execution_count": 60,
   "id": "97591123",
   "metadata": {},
   "outputs": [],
   "source": [
    "# Create objects for the root mean squared error and R-squared\n",
    "rmse = mean_squared_error(y_2_test, y_2_predicted)\n",
    "r2 = r2_score(y_2_test, y_2_predicted)"
   ]
  },
  {
   "cell_type": "code",
   "execution_count": 61,
   "id": "2e80d458",
   "metadata": {},
   "outputs": [
    {
     "name": "stdout",
     "output_type": "stream",
     "text": [
      "Slope: [[0.00768544]]\n",
      "Mean squared error:  353999.4454378785\n",
      "R2 score:  0.16516965749613166\n"
     ]
    }
   ],
   "source": [
    "# Print the model summary statistics\n",
    "print('Slope:' ,regression.coef_)\n",
    "print('Mean squared error: ', rmse)\n",
    "print('R2 score: ', r2)"
   ]
  },
  {
   "cell_type": "markdown",
   "id": "dde67cc4",
   "metadata": {},
   "source": [
    "These numbers are better, but still not great."
   ]
  },
  {
   "cell_type": "code",
   "execution_count": 62,
   "id": "eff7322b",
   "metadata": {},
   "outputs": [
    {
     "data": {
      "image/png": "[encoded data removed]",
      "text/plain": [
       "<Figure size 432x288 with 1 Axes>"
      ]
     },
     "metadata": {},
     "output_type": "display_data"
    }
   ],
   "source": [
    "# Create a plot showing the model regression line and the test set\n",
    "plot_test = plt\n",
    "plot_test.scatter(X_2_test, y_2_test, color='gray', s = 15)\n",
    "plot_test.plot(X_2_test, y_2_predicted, color='red', linewidth =3)\n",
    "plot_test.title('Test set: After-tax Income vs Monthly Housing Costs')\n",
    "plot_test.xlabel('After-tax income')\n",
    "plot_test.ylabel('Monthly housing costs')\n",
    "plot_test.show()"
   ]
  },
  {
   "cell_type": "code",
   "execution_count": 63,
   "id": "c6aebb77",
   "metadata": {},
   "outputs": [
    {
     "data": {
      "text/html": [
       "<div>\n",
       "<style scoped>\n",
       "    .dataframe tbody tr th:only-of-type {\n",
       "        vertical-align: middle;\n",
       "    }\n",
       "\n",
       "    .dataframe tbody tr th {\n",
       "        vertical-align: top;\n",
       "    }\n",
       "\n",
       "    .dataframe thead th {\n",
       "        text-align: right;\n",
       "    }\n",
       "</style>\n",
       "<table border=\"1\" class=\"dataframe\">\n",
       "  <thead>\n",
       "    <tr style=\"text-align: right;\">\n",
       "      <th></th>\n",
       "      <th>Actual</th>\n",
       "      <th>Predicted</th>\n",
       "    </tr>\n",
       "  </thead>\n",
       "  <tbody>\n",
       "    <tr>\n",
       "      <th>0</th>\n",
       "      <td>1200.0</td>\n",
       "      <td>964.881927</td>\n",
       "    </tr>\n",
       "    <tr>\n",
       "      <th>1</th>\n",
       "      <td>1600.0</td>\n",
       "      <td>856.863019</td>\n",
       "    </tr>\n",
       "    <tr>\n",
       "      <th>2</th>\n",
       "      <td>1500.0</td>\n",
       "      <td>1094.996484</td>\n",
       "    </tr>\n",
       "    <tr>\n",
       "      <th>3</th>\n",
       "      <td>1100.0</td>\n",
       "      <td>1299.429279</td>\n",
       "    </tr>\n",
       "    <tr>\n",
       "      <th>4</th>\n",
       "      <td>2100.0</td>\n",
       "      <td>911.122250</td>\n",
       "    </tr>\n",
       "    <tr>\n",
       "      <th>5</th>\n",
       "      <td>1900.0</td>\n",
       "      <td>2291.312606</td>\n",
       "    </tr>\n",
       "    <tr>\n",
       "      <th>6</th>\n",
       "      <td>1200.0</td>\n",
       "      <td>801.297264</td>\n",
       "    </tr>\n",
       "    <tr>\n",
       "      <th>7</th>\n",
       "      <td>600.0</td>\n",
       "      <td>942.286723</td>\n",
       "    </tr>\n",
       "    <tr>\n",
       "      <th>8</th>\n",
       "      <td>400.0</td>\n",
       "      <td>809.597542</td>\n",
       "    </tr>\n",
       "    <tr>\n",
       "      <th>9</th>\n",
       "      <td>1600.0</td>\n",
       "      <td>1557.045342</td>\n",
       "    </tr>\n",
       "    <tr>\n",
       "      <th>10</th>\n",
       "      <td>1050.0</td>\n",
       "      <td>873.425150</td>\n",
       "    </tr>\n",
       "    <tr>\n",
       "      <th>11</th>\n",
       "      <td>1500.0</td>\n",
       "      <td>1058.298491</td>\n",
       "    </tr>\n",
       "    <tr>\n",
       "      <th>12</th>\n",
       "      <td>1450.0</td>\n",
       "      <td>1115.017064</td>\n",
       "    </tr>\n",
       "    <tr>\n",
       "      <th>13</th>\n",
       "      <td>1800.0</td>\n",
       "      <td>1523.306245</td>\n",
       "    </tr>\n",
       "    <tr>\n",
       "      <th>14</th>\n",
       "      <td>2100.0</td>\n",
       "      <td>998.236751</td>\n",
       "    </tr>\n",
       "    <tr>\n",
       "      <th>15</th>\n",
       "      <td>500.0</td>\n",
       "      <td>764.637698</td>\n",
       "    </tr>\n",
       "    <tr>\n",
       "      <th>16</th>\n",
       "      <td>200.0</td>\n",
       "      <td>920.652200</td>\n",
       "    </tr>\n",
       "    <tr>\n",
       "      <th>17</th>\n",
       "      <td>1100.0</td>\n",
       "      <td>1109.906244</td>\n",
       "    </tr>\n",
       "    <tr>\n",
       "      <th>18</th>\n",
       "      <td>800.0</td>\n",
       "      <td>959.578971</td>\n",
       "    </tr>\n",
       "    <tr>\n",
       "      <th>19</th>\n",
       "      <td>400.0</td>\n",
       "      <td>1126.583656</td>\n",
       "    </tr>\n",
       "    <tr>\n",
       "      <th>20</th>\n",
       "      <td>1900.0</td>\n",
       "      <td>1094.304794</td>\n",
       "    </tr>\n",
       "    <tr>\n",
       "      <th>21</th>\n",
       "      <td>1400.0</td>\n",
       "      <td>863.395646</td>\n",
       "    </tr>\n",
       "    <tr>\n",
       "      <th>22</th>\n",
       "      <td>600.0</td>\n",
       "      <td>1127.429055</td>\n",
       "    </tr>\n",
       "    <tr>\n",
       "      <th>23</th>\n",
       "      <td>800.0</td>\n",
       "      <td>1176.039485</td>\n",
       "    </tr>\n",
       "    <tr>\n",
       "      <th>24</th>\n",
       "      <td>1050.0</td>\n",
       "      <td>1029.785496</td>\n",
       "    </tr>\n",
       "    <tr>\n",
       "      <th>25</th>\n",
       "      <td>1050.0</td>\n",
       "      <td>1093.151977</td>\n",
       "    </tr>\n",
       "    <tr>\n",
       "      <th>26</th>\n",
       "      <td>1100.0</td>\n",
       "      <td>1140.648018</td>\n",
       "    </tr>\n",
       "    <tr>\n",
       "      <th>27</th>\n",
       "      <td>2400.0</td>\n",
       "      <td>1604.426101</td>\n",
       "    </tr>\n",
       "    <tr>\n",
       "      <th>28</th>\n",
       "      <td>1700.0</td>\n",
       "      <td>1255.314833</td>\n",
       "    </tr>\n",
       "    <tr>\n",
       "      <th>29</th>\n",
       "      <td>1200.0</td>\n",
       "      <td>948.319796</td>\n",
       "    </tr>\n",
       "  </tbody>\n",
       "</table>\n",
       "</div>"
      ],
      "text/plain": [
       "    Actual    Predicted\n",
       "0   1200.0   964.881927\n",
       "1   1600.0   856.863019\n",
       "2   1500.0  1094.996484\n",
       "3   1100.0  1299.429279\n",
       "4   2100.0   911.122250\n",
       "5   1900.0  2291.312606\n",
       "6   1200.0   801.297264\n",
       "7    600.0   942.286723\n",
       "8    400.0   809.597542\n",
       "9   1600.0  1557.045342\n",
       "10  1050.0   873.425150\n",
       "11  1500.0  1058.298491\n",
       "12  1450.0  1115.017064\n",
       "13  1800.0  1523.306245\n",
       "14  2100.0   998.236751\n",
       "15   500.0   764.637698\n",
       "16   200.0   920.652200\n",
       "17  1100.0  1109.906244\n",
       "18   800.0   959.578971\n",
       "19   400.0  1126.583656\n",
       "20  1900.0  1094.304794\n",
       "21  1400.0   863.395646\n",
       "22   600.0  1127.429055\n",
       "23   800.0  1176.039485\n",
       "24  1050.0  1029.785496\n",
       "25  1050.0  1093.151977\n",
       "26  1100.0  1140.648018\n",
       "27  2400.0  1604.426101\n",
       "28  1700.0  1255.314833\n",
       "29  1200.0   948.319796"
      ]
     },
     "execution_count": 63,
     "metadata": {},
     "output_type": "execute_result"
    }
   ],
   "source": [
    "# Compare actual and predicted y values in a dataframe\n",
    "data = pd.DataFrame({'Actual': y_2_test.flatten(), 'Predicted': y_2_predicted.flatten()})\n",
    "data.head(30)"
   ]
  },
  {
   "cell_type": "markdown",
   "id": "26bbabe6",
   "metadata": {},
   "source": [
    "# 08 Further discussion"
   ]
  },
  {
   "cell_type": "markdown",
   "id": "b426f94f",
   "metadata": {},
   "source": [
    "This model is not a great fit for this data, even after outliers are removed. Therefore, I conclude that the hypothesis, the higher someone's after-tax income, the higher their total housing costs, is not valid. \n",
    "\n",
    "There may be a relationship between after-tax income and total housing costs, but it is more complicated than a simple linear relationship. Household size could be a factor - the larger the household, the larger the house needed. There may be nuances to renting vs home ownership that are not captured by lumping the data together. Location probably matters too - housing costs are much higher in certain provinces and urban centres. Some mortgage payments may have municipal taxes incorporated, some may not. \n",
    "\n",
    "Even if the hypothesis had been proven true, these housing costs do not include utilities, which could drastically change someones montly housing costs. Not accounting for this would introduce bias into the analysis."
   ]
  }
 ],
 "metadata": {
  "kernelspec": {
   "display_name": "Python 3 (ipykernel)",
   "language": "python",
   "name": "python3"
  },
  "language_info": {
   "codemirror_mode": {
    "name": "ipython",
    "version": 3
   },
   "file_extension": ".py",
   "mimetype": "text/x-python",
   "name": "python",
   "nbconvert_exporter": "python",
   "pygments_lexer": "ipython3",
   "version": "3.9.12"
  }
 },
 "nbformat": 4,
 "nbformat_minor": 5
}
